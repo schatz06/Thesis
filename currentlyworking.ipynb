{
  "nbformat": 4,
  "nbformat_minor": 0,
  "metadata": {
    "colab": {
      "name": "embeddings.ipynb",
      "provenance": [],
      "authorship_tag": "ABX9TyMmqEg+VRjnJr5odDRDt7aL",
      "include_colab_link": true
    },
    "kernelspec": {
      "name": "python3",
      "display_name": "Python 3"
    }
  },
  "cells": [
    {
      "cell_type": "markdown",
      "metadata": {
        "id": "view-in-github",
        "colab_type": "text"
      },
      "source": [
        "<a href=\"https://colab.research.google.com/github/schatz06/Thesis/blob/Bio_embeddings/currentlyworking.ipynb\" target=\"_parent\"><img src=\"https://colab.research.google.com/assets/colab-badge.svg\" alt=\"Open In Colab\"/></a>"
      ]
    },
    {
      "cell_type": "markdown",
      "metadata": {
        "id": "UCALaWlbQh5Q"
      },
      "source": [
        "Mount drive"
      ]
    },
    {
      "cell_type": "code",
      "metadata": {
        "id": "X_LGnIwKQhXi",
        "outputId": "47d085ba-ef2f-426f-8db9-29fe995a5fe6",
        "colab": {
          "base_uri": "https://localhost:8080/"
        }
      },
      "source": [
        "from google.colab import drive\r\n",
        "drive.mount('/content/drive')"
      ],
      "execution_count": 1,
      "outputs": [
        {
          "output_type": "stream",
          "text": [
            "Mounted at /content/drive\n"
          ],
          "name": "stdout"
        }
      ]
    },
    {
      "cell_type": "markdown",
      "metadata": {
        "id": "dwnf8kBEOYHE"
      },
      "source": [
        "Install and import embedders"
      ]
    },
    {
      "cell_type": "code",
      "metadata": {
        "id": "E6Ry_SW0M-aC",
        "outputId": "cd88c589-adb2-4e68-b964-fba5565eaa57",
        "colab": {
          "base_uri": "https://localhost:8080/"
        }
      },
      "source": [
        "pip install bio-embeddings[all]"
      ],
      "execution_count": 2,
      "outputs": [
        {
          "output_type": "stream",
          "text": [
            "Collecting bio-embeddings[all]\n",
            "\u001b[?25l  Downloading https://files.pythonhosted.org/packages/b7/09/f27d4d89e483f35c43f7b67569e11481096188a2518299a1e4737c0fe9ba/bio_embeddings-0.1.4-py3-none-any.whl (84kB)\n",
            "\r\u001b[K     |███▉                            | 10kB 16.5MB/s eta 0:00:01\r\u001b[K     |███████▊                        | 20kB 21.8MB/s eta 0:00:01\r\u001b[K     |███████████▋                    | 30kB 11.8MB/s eta 0:00:01\r\u001b[K     |███████████████▌                | 40kB 9.1MB/s eta 0:00:01\r\u001b[K     |███████████████████▍            | 51kB 6.4MB/s eta 0:00:01\r\u001b[K     |███████████████████████▎        | 61kB 7.0MB/s eta 0:00:01\r\u001b[K     |███████████████████████████▏    | 71kB 7.4MB/s eta 0:00:01\r\u001b[K     |███████████████████████████████ | 81kB 7.7MB/s eta 0:00:01\r\u001b[K     |████████████████████████████████| 92kB 5.2MB/s \n",
            "\u001b[?25hRequirement already satisfied: numpy<2.0.0,>=1.18.3 in /usr/local/lib/python3.6/dist-packages (from bio-embeddings[all]) (1.19.5)\n",
            "Requirement already satisfied: umap-learn<0.5.0,>=0.4.2 in /usr/local/lib/python3.6/dist-packages (from bio-embeddings[all]) (0.4.6)\n",
            "Collecting appdirs<2.0.0,>=1.4.4\n",
            "  Downloading https://files.pythonhosted.org/packages/3b/00/2344469e2084fb287c2e0b57b72910309874c3245463acd6cf5e3db69324/appdirs-1.4.4-py2.py3-none-any.whl\n",
            "Requirement already satisfied: scipy<2.0.0,>=1.4.1 in /usr/local/lib/python3.6/dist-packages (from bio-embeddings[all]) (1.4.1)\n",
            "Collecting lock<2019.0.0,>=2018.3.25\n",
            "  Downloading https://files.pythonhosted.org/packages/ea/ee/4c7e9740d397abd62b48bfe82f77f57a8984da4f5ba0a3b64930b44ccd8f/lock-2018.3.25.2110.tar.gz\n",
            "Requirement already satisfied: scikit-learn<0.23.0,>=0.22.2.post1 in /usr/local/lib/python3.6/dist-packages (from bio-embeddings[all]) (0.22.2.post1)\n",
            "Collecting importlib_metadata<2.0.0,>=1.7.0\n",
            "  Downloading https://files.pythonhosted.org/packages/8e/58/cdea07eb51fc2b906db0968a94700866fc46249bdc75cac23f9d13168929/importlib_metadata-1.7.0-py2.py3-none-any.whl\n",
            "Collecting tqdm<5.0.0,>=4.45.0\n",
            "\u001b[?25l  Downloading https://files.pythonhosted.org/packages/80/02/8f8880a4fd6625461833abcf679d4c12a44c76f9925f92bf212bb6cefaad/tqdm-4.56.0-py2.py3-none-any.whl (72kB)\n",
            "\u001b[K     |████████████████████████████████| 81kB 6.2MB/s \n",
            "\u001b[?25hCollecting gensim<4.0.0,>=3.8.2\n",
            "\u001b[?25l  Downloading https://files.pythonhosted.org/packages/2b/e0/fa6326251692056dc880a64eb22117e03269906ba55a6864864d24ec8b4e/gensim-3.8.3-cp36-cp36m-manylinux1_x86_64.whl (24.2MB)\n",
            "\u001b[K     |████████████████████████████████| 24.2MB 37.8MB/s \n",
            "\u001b[?25hCollecting biopython<2.0,>=1.76\n",
            "\u001b[?25l  Downloading https://files.pythonhosted.org/packages/76/02/8b606c4aa92ff61b5eda71d23b499ab1de57d5e818be33f77b01a6f435a8/biopython-1.78-cp36-cp36m-manylinux1_x86_64.whl (2.3MB)\n",
            "\u001b[K     |████████████████████████████████| 2.3MB 35.2MB/s \n",
            "\u001b[?25hCollecting plotly<5.0.0,>=4.6.0\n",
            "\u001b[?25l  Downloading https://files.pythonhosted.org/packages/9d/2e/69579c3db25fa4f85d70a10f8a98d52c2b4a0dcbd153e8f17f425761bef4/plotly-4.14.2-py2.py3-none-any.whl (13.2MB)\n",
            "\u001b[K     |████████████████████████████████| 13.2MB 48.9MB/s \n",
            "\u001b[?25hRequirement already satisfied: h5py<3.0.0,>=2.10.0 in /usr/local/lib/python3.6/dist-packages (from bio-embeddings[all]) (2.10.0)\n",
            "Collecting torch<1.6.0,>=1.5.0\n",
            "\u001b[?25l  Downloading https://files.pythonhosted.org/packages/62/01/457b49d790b6c4b9720e6f9dbbb617692f6ce8afdaadf425c055c41a7416/torch-1.5.1-cp36-cp36m-manylinux1_x86_64.whl (753.2MB)\n",
            "\u001b[K     |████████████████████████████████| 753.2MB 18kB/s \n",
            "\u001b[33mWARNING: Retrying (Retry(total=4, connect=None, read=None, redirect=None, status=None)) after connection broken by 'ProtocolError('Connection aborted.', ConnectionResetError(104, 'Connection reset by peer'))': /simple/ruamel-yaml/\u001b[0m\n",
            "\u001b[?25hCollecting ruamel.yaml<0.17.0,>=0.16.10\n",
            "\u001b[?25l  Downloading https://files.pythonhosted.org/packages/7e/39/186f14f3836ac5d2a6a042c8de69988770e8b9abb537610edc429e4914aa/ruamel.yaml-0.16.12-py2.py3-none-any.whl (111kB)\n",
            "\u001b[K     |████████████████████████████████| 112kB 40.1MB/s \n",
            "\u001b[?25hRequirement already satisfied: pandas<2.0.0,>=1.0.3 in /usr/local/lib/python3.6/dist-packages (from bio-embeddings[all]) (1.1.5)\n",
            "Requirement already satisfied: matplotlib<4.0.0,>=3.2.1 in /usr/local/lib/python3.6/dist-packages (from bio-embeddings[all]) (3.2.2)\n",
            "Collecting jax-unirep<2.0.0,>=1.0.1; extra == \"unirep\" or extra == \"all\"\n",
            "\u001b[?25l  Downloading https://files.pythonhosted.org/packages/49/9a/3a510584d1658addede12cbf03370c549427f824b1bd71884e911a6bcc4f/jax_unirep-1.0.3-py3-none-any.whl (67.7MB)\n",
            "\u001b[K     |████████████████████████████████| 67.8MB 138kB/s \n",
            "\u001b[?25hCollecting allennlp<0.10.0,>=0.9.0; extra == \"seqvec\" or extra == \"all\"\n",
            "\u001b[?25l  Downloading https://files.pythonhosted.org/packages/bb/bb/041115d8bad1447080e5d1e30097c95e4b66e36074277afce8620a61cee3/allennlp-0.9.0-py3-none-any.whl (7.6MB)\n",
            "\u001b[K     |████████████████████████████████| 7.6MB 19.7MB/s \n",
            "\u001b[?25hCollecting transformers<4.0.0,>=3.1.0; extra == \"transformers\" or extra == \"all\"\n",
            "\u001b[?25l  Downloading https://files.pythonhosted.org/packages/3a/83/e74092e7f24a08d751aa59b37a9fc572b2e4af3918cb66f7766c3affb1b4/transformers-3.5.1-py3-none-any.whl (1.3MB)\n",
            "\u001b[K     |████████████████████████████████| 1.3MB 53.1MB/s \n",
            "\u001b[?25hRequirement already satisfied: numba!=0.47,>=0.46 in /usr/local/lib/python3.6/dist-packages (from umap-learn<0.5.0,>=0.4.2->bio-embeddings[all]) (0.48.0)\n",
            "Requirement already satisfied: joblib>=0.11 in /usr/local/lib/python3.6/dist-packages (from scikit-learn<0.23.0,>=0.22.2.post1->bio-embeddings[all]) (1.0.0)\n",
            "Requirement already satisfied: zipp>=0.5 in /usr/local/lib/python3.6/dist-packages (from importlib_metadata<2.0.0,>=1.7.0->bio-embeddings[all]) (3.4.0)\n",
            "Requirement already satisfied: six>=1.5.0 in /usr/local/lib/python3.6/dist-packages (from gensim<4.0.0,>=3.8.2->bio-embeddings[all]) (1.15.0)\n",
            "Requirement already satisfied: smart-open>=1.8.1 in /usr/local/lib/python3.6/dist-packages (from gensim<4.0.0,>=3.8.2->bio-embeddings[all]) (4.1.0)\n",
            "Requirement already satisfied: retrying>=1.3.3 in /usr/local/lib/python3.6/dist-packages (from plotly<5.0.0,>=4.6.0->bio-embeddings[all]) (1.3.3)\n",
            "Requirement already satisfied: future in /usr/local/lib/python3.6/dist-packages (from torch<1.6.0,>=1.5.0->bio-embeddings[all]) (0.16.0)\n",
            "Collecting ruamel.yaml.clib>=0.1.2; platform_python_implementation == \"CPython\" and python_version < \"3.9\"\n",
            "\u001b[?25l  Downloading https://files.pythonhosted.org/packages/88/ff/ec25dc01ef04232a9e68ff18492e37dfa01f1f58172e702ad4f38536d41b/ruamel.yaml.clib-0.2.2-cp36-cp36m-manylinux1_x86_64.whl (549kB)\n",
            "\u001b[K     |████████████████████████████████| 552kB 48.4MB/s \n",
            "\u001b[?25hRequirement already satisfied: python-dateutil>=2.7.3 in /usr/local/lib/python3.6/dist-packages (from pandas<2.0.0,>=1.0.3->bio-embeddings[all]) (2.8.1)\n",
            "Requirement already satisfied: pytz>=2017.2 in /usr/local/lib/python3.6/dist-packages (from pandas<2.0.0,>=1.0.3->bio-embeddings[all]) (2018.9)\n",
            "Requirement already satisfied: pyparsing!=2.0.4,!=2.1.2,!=2.1.6,>=2.0.1 in /usr/local/lib/python3.6/dist-packages (from matplotlib<4.0.0,>=3.2.1->bio-embeddings[all]) (2.4.7)\n",
            "Requirement already satisfied: cycler>=0.10 in /usr/local/lib/python3.6/dist-packages (from matplotlib<4.0.0,>=3.2.1->bio-embeddings[all]) (0.10.0)\n",
            "Requirement already satisfied: kiwisolver>=1.0.1 in /usr/local/lib/python3.6/dist-packages (from matplotlib<4.0.0,>=3.2.1->bio-embeddings[all]) (1.3.1)\n",
            "Collecting multipledispatch\n",
            "  Downloading https://files.pythonhosted.org/packages/89/79/429ecef45fd5e4504f7474d4c3c3c4668c267be3370e4c2fd33e61506833/multipledispatch-0.6.0-py3-none-any.whl\n",
            "Collecting jax<0.2.0\n",
            "\u001b[?25l  Downloading https://files.pythonhosted.org/packages/82/de/63f5e73db0287d9c3edcf559f97ccdae07331b0b5448c9f25b16651f578c/jax-0.1.77.tar.gz (448kB)\n",
            "\u001b[K     |████████████████████████████████| 450kB 48.4MB/s \n",
            "\u001b[?25hCollecting optuna\n",
            "\u001b[?25l  Downloading https://files.pythonhosted.org/packages/87/10/06b58f4120f26b603d905a594650440ea1fd74476b8b360dbf01e111469b/optuna-2.3.0.tar.gz (258kB)\n",
            "\u001b[K     |████████████████████████████████| 266kB 44.8MB/s \n",
            "\u001b[?25h  Installing build dependencies ... \u001b[?25l\u001b[?25hdone\n",
            "  Getting requirements to build wheel ... \u001b[?25l\u001b[?25hdone\n",
            "    Preparing wheel metadata ... \u001b[?25l\u001b[?25hdone\n",
            "Requirement already satisfied: jaxlib in /usr/local/lib/python3.6/dist-packages (from jax-unirep<2.0.0,>=1.0.1; extra == \"unirep\" or extra == \"all\"->bio-embeddings[all]) (0.1.57+cuda101)\n",
            "Collecting overrides\n",
            "  Downloading https://files.pythonhosted.org/packages/ff/b1/10f69c00947518e6676bbd43e739733048de64b8dd998e9c2d5a71f44c5d/overrides-3.1.0.tar.gz\n",
            "Collecting pytorch-transformers==1.1.0\n",
            "\u001b[?25l  Downloading https://files.pythonhosted.org/packages/50/89/ad0d6bb932d0a51793eaabcf1617a36ff530dc9ab9e38f765a35dc293306/pytorch_transformers-1.1.0-py3-none-any.whl (158kB)\n",
            "\u001b[K     |████████████████████████████████| 163kB 54.6MB/s \n",
            "\u001b[?25hCollecting flask-cors>=3.0.7\n",
            "  Downloading https://files.pythonhosted.org/packages/db/84/901e700de86604b1c4ef4b57110d4e947c218b9997adf5d38fa7da493bce/Flask_Cors-3.0.10-py2.py3-none-any.whl\n",
            "Collecting conllu==1.3.1\n",
            "  Downloading https://files.pythonhosted.org/packages/ae/54/b0ae1199f3d01666821b028cd967f7c0ac527ab162af433d3da69242cea2/conllu-1.3.1-py2.py3-none-any.whl\n",
            "Collecting parsimonious>=0.8.0\n",
            "\u001b[?25l  Downloading https://files.pythonhosted.org/packages/02/fc/067a3f89869a41009e1a7cdfb14725f8ddd246f30f63c645e8ef8a1c56f4/parsimonious-0.8.1.tar.gz (45kB)\n",
            "\u001b[K     |████████████████████████████████| 51kB 6.5MB/s \n",
            "\u001b[?25hCollecting tensorboardX>=1.2\n",
            "\u001b[?25l  Downloading https://files.pythonhosted.org/packages/af/0c/4f41bcd45db376e6fe5c619c01100e9b7531c55791b7244815bac6eac32c/tensorboardX-2.1-py2.py3-none-any.whl (308kB)\n",
            "\u001b[K     |████████████████████████████████| 317kB 54.6MB/s \n",
            "\u001b[?25hCollecting gevent>=1.3.6\n",
            "\u001b[?25l  Downloading https://files.pythonhosted.org/packages/98/d9/6811589dd5de85b3a911d547d43f43c5c8bdf4397ffdfbaefea7c373b7f6/gevent-20.12.1.tar.gz (5.9MB)\n",
            "\u001b[K     |████████████████████████████████| 5.9MB 49.3MB/s \n",
            "\u001b[?25h  Installing build dependencies ... \u001b[?25l\u001b[?25hdone\n",
            "  Getting requirements to build wheel ... \u001b[?25l\u001b[?25hdone\n",
            "    Preparing wheel metadata ... \u001b[?25l\u001b[?25hdone\n",
            "Requirement already satisfied: flask>=1.0.2 in /usr/local/lib/python3.6/dist-packages (from allennlp<0.10.0,>=0.9.0; extra == \"seqvec\" or extra == \"all\"->bio-embeddings[all]) (1.1.2)\n",
            "Collecting flaky\n",
            "  Downloading https://files.pythonhosted.org/packages/43/0e/2f50064e327f41a1eb811df089f813036e19a64b95e33f8e9e0b96c2447e/flaky-3.7.0-py2.py3-none-any.whl\n",
            "Requirement already satisfied: sqlparse>=0.2.4 in /usr/local/lib/python3.6/dist-packages (from allennlp<0.10.0,>=0.9.0; extra == \"seqvec\" or extra == \"all\"->bio-embeddings[all]) (0.4.1)\n",
            "Requirement already satisfied: nltk in /usr/local/lib/python3.6/dist-packages (from allennlp<0.10.0,>=0.9.0; extra == \"seqvec\" or extra == \"all\"->bio-embeddings[all]) (3.2.5)\n",
            "Collecting spacy<2.2,>=2.1.0\n",
            "\u001b[?25l  Downloading https://files.pythonhosted.org/packages/41/5b/e07dd3bf104237bce4b398558b104c8e500333d6f30eabe3fa9685356b7d/spacy-2.1.9-cp36-cp36m-manylinux1_x86_64.whl (30.8MB)\n",
            "\u001b[K     |████████████████████████████████| 30.9MB 147kB/s \n",
            "\u001b[?25hRequirement already satisfied: editdistance in /usr/local/lib/python3.6/dist-packages (from allennlp<0.10.0,>=0.9.0; extra == \"seqvec\" or extra == \"all\"->bio-embeddings[all]) (0.5.3)\n",
            "Collecting jsonpickle\n",
            "  Downloading https://files.pythonhosted.org/packages/ee/d5/1cc282dc23346a43aab461bf2e8c36593aacd34242bee1a13fa750db0cfe/jsonpickle-1.4.2-py2.py3-none-any.whl\n",
            "Requirement already satisfied: requests>=2.18 in /usr/local/lib/python3.6/dist-packages (from allennlp<0.10.0,>=0.9.0; extra == \"seqvec\" or extra == \"all\"->bio-embeddings[all]) (2.23.0)\n",
            "Collecting responses>=0.7\n",
            "  Downloading https://files.pythonhosted.org/packages/d5/71/4f04aed03ca35f2d02e1732ca6e996b2d7b40232fb7f1b58ff35f9a89b7b/responses-0.12.1-py2.py3-none-any.whl\n",
            "Collecting ftfy\n",
            "\u001b[?25l  Downloading https://files.pythonhosted.org/packages/ff/e2/3b51c53dffb1e52d9210ebc01f1fb9f2f6eba9b3201fa971fd3946643c71/ftfy-5.8.tar.gz (64kB)\n",
            "\u001b[K     |████████████████████████████████| 71kB 7.8MB/s \n",
            "\u001b[?25hCollecting boto3\n",
            "\u001b[?25l  Downloading https://files.pythonhosted.org/packages/78/32/dd9dd1c7f4de02e5e02dca22599caf465c0bee190a3e3f478e0b16c5bc01/boto3-1.16.52-py2.py3-none-any.whl (130kB)\n",
            "\u001b[K     |████████████████████████████████| 133kB 58.0MB/s \n",
            "\u001b[?25hCollecting jsonnet>=0.10.0; sys_platform != \"win32\"\n",
            "\u001b[?25l  Downloading https://files.pythonhosted.org/packages/42/40/6f16e5ac994b16fa71c24310f97174ce07d3a97b433275589265c6b94d2b/jsonnet-0.17.0.tar.gz (259kB)\n",
            "\u001b[K     |████████████████████████████████| 266kB 54.7MB/s \n",
            "\u001b[?25hCollecting unidecode\n",
            "\u001b[?25l  Downloading https://files.pythonhosted.org/packages/74/65/91eab655041e9e92f948cb7302e54962035762ce7b518272ed9d6b269e93/Unidecode-1.1.2-py2.py3-none-any.whl (239kB)\n",
            "\u001b[K     |████████████████████████████████| 245kB 46.6MB/s \n",
            "\u001b[?25hCollecting word2number>=1.1\n",
            "  Downloading https://files.pythonhosted.org/packages/4a/29/a31940c848521f0725f0df6b25dca8917f13a2025b0e8fcbe5d0457e45e6/word2number-1.1.zip\n",
            "Requirement already satisfied: pytest in /usr/local/lib/python3.6/dist-packages (from allennlp<0.10.0,>=0.9.0; extra == \"seqvec\" or extra == \"all\"->bio-embeddings[all]) (3.6.4)\n",
            "Collecting pytorch-pretrained-bert>=0.6.0\n",
            "\u001b[?25l  Downloading https://files.pythonhosted.org/packages/d7/e0/c08d5553b89973d9a240605b9c12404bcf8227590de62bae27acbcfe076b/pytorch_pretrained_bert-0.6.2-py3-none-any.whl (123kB)\n",
            "\u001b[K     |████████████████████████████████| 133kB 29.4MB/s \n",
            "\u001b[?25hCollecting numpydoc>=0.8.0\n",
            "\u001b[?25l  Downloading https://files.pythonhosted.org/packages/60/1d/9e398c53d6ae27d5ab312ddc16a9ffe1bee0dfdf1d6ec88c40b0ca97582e/numpydoc-1.1.0-py3-none-any.whl (47kB)\n",
            "\u001b[K     |████████████████████████████████| 51kB 6.4MB/s \n",
            "\u001b[?25hCollecting sentencepiece==0.1.91\n",
            "\u001b[?25l  Downloading https://files.pythonhosted.org/packages/d4/a4/d0a884c4300004a78cca907a6ff9a5e9fe4f090f5d95ab341c53d28cbc58/sentencepiece-0.1.91-cp36-cp36m-manylinux1_x86_64.whl (1.1MB)\n",
            "\u001b[K     |████████████████████████████████| 1.1MB 40.4MB/s \n",
            "\u001b[?25hRequirement already satisfied: filelock in /usr/local/lib/python3.6/dist-packages (from transformers<4.0.0,>=3.1.0; extra == \"transformers\" or extra == \"all\"->bio-embeddings[all]) (3.0.12)\n",
            "Collecting sacremoses\n",
            "\u001b[?25l  Downloading https://files.pythonhosted.org/packages/7d/34/09d19aff26edcc8eb2a01bed8e98f13a1537005d31e95233fd48216eed10/sacremoses-0.0.43.tar.gz (883kB)\n",
            "\u001b[K     |████████████████████████████████| 890kB 40.4MB/s \n",
            "\u001b[?25hRequirement already satisfied: packaging in /usr/local/lib/python3.6/dist-packages (from transformers<4.0.0,>=3.1.0; extra == \"transformers\" or extra == \"all\"->bio-embeddings[all]) (20.8)\n",
            "Requirement already satisfied: dataclasses; python_version < \"3.7\" in /usr/local/lib/python3.6/dist-packages (from transformers<4.0.0,>=3.1.0; extra == \"transformers\" or extra == \"all\"->bio-embeddings[all]) (0.8)\n",
            "Requirement already satisfied: regex!=2019.12.17 in /usr/local/lib/python3.6/dist-packages (from transformers<4.0.0,>=3.1.0; extra == \"transformers\" or extra == \"all\"->bio-embeddings[all]) (2019.12.20)\n",
            "Requirement already satisfied: protobuf in /usr/local/lib/python3.6/dist-packages (from transformers<4.0.0,>=3.1.0; extra == \"transformers\" or extra == \"all\"->bio-embeddings[all]) (3.12.4)\n",
            "Collecting tokenizers==0.9.3\n",
            "\u001b[?25l  Downloading https://files.pythonhosted.org/packages/4c/34/b39eb9994bc3c999270b69c9eea40ecc6f0e97991dba28282b9fd32d44ee/tokenizers-0.9.3-cp36-cp36m-manylinux1_x86_64.whl (2.9MB)\n",
            "\u001b[K     |████████████████████████████████| 2.9MB 47.6MB/s \n",
            "\u001b[?25hRequirement already satisfied: setuptools in /usr/local/lib/python3.6/dist-packages (from numba!=0.47,>=0.46->umap-learn<0.5.0,>=0.4.2->bio-embeddings[all]) (51.1.1)\n",
            "Requirement already satisfied: llvmlite<0.32.0,>=0.31.0dev0 in /usr/local/lib/python3.6/dist-packages (from numba!=0.47,>=0.46->umap-learn<0.5.0,>=0.4.2->bio-embeddings[all]) (0.31.0)\n",
            "Requirement already satisfied: absl-py in /usr/local/lib/python3.6/dist-packages (from jax<0.2.0->jax-unirep<2.0.0,>=1.0.1; extra == \"unirep\" or extra == \"all\"->bio-embeddings[all]) (0.10.0)\n",
            "Requirement already satisfied: opt_einsum in /usr/local/lib/python3.6/dist-packages (from jax<0.2.0->jax-unirep<2.0.0,>=1.0.1; extra == \"unirep\" or extra == \"all\"->bio-embeddings[all]) (3.3.0)\n",
            "Collecting alembic\n",
            "\u001b[?25l  Downloading https://files.pythonhosted.org/packages/12/aa/c261dfd7f4ba6ce4701846a2689a46e2a172e012171de4378fc2926e3bf0/alembic-1.4.3-py2.py3-none-any.whl (159kB)\n",
            "\u001b[K     |████████████████████████████████| 163kB 39.1MB/s \n",
            "\u001b[?25hCollecting colorlog\n",
            "  Downloading https://files.pythonhosted.org/packages/4e/c8/c16d30bbed11a1722060014c246d124582d1f781b26f5859d8dacc3e08e1/colorlog-4.6.2-py2.py3-none-any.whl\n",
            "Collecting cliff\n",
            "\u001b[?25l  Downloading https://files.pythonhosted.org/packages/8a/61/5b64d73b01c1218f55c894b5ec0fb89b32c6960b7f7b3ad9f5ac0c373b9d/cliff-3.5.0-py3-none-any.whl (81kB)\n",
            "\u001b[K     |████████████████████████████████| 81kB 9.6MB/s \n",
            "\u001b[?25hCollecting cmaes>=0.6.0\n",
            "  Downloading https://files.pythonhosted.org/packages/8d/3c/06c76ec8b54b9b1fad7f35e903fd25010fe3e0d41bd94cea5e6f12e0d651/cmaes-0.7.0-py3-none-any.whl\n",
            "Requirement already satisfied: sqlalchemy>=1.1.0 in /usr/local/lib/python3.6/dist-packages (from optuna->jax-unirep<2.0.0,>=1.0.1; extra == \"unirep\" or extra == \"all\"->bio-embeddings[all]) (1.3.22)\n",
            "Requirement already satisfied: flatbuffers in /usr/local/lib/python3.6/dist-packages (from jaxlib->jax-unirep<2.0.0,>=1.0.1; extra == \"unirep\" or extra == \"all\"->bio-embeddings[all]) (1.12)\n",
            "Collecting zope.event\n",
            "  Downloading https://files.pythonhosted.org/packages/9e/85/b45408c64f3b888976f1d5b37eed8d746b8d5729a66a49ec846fda27d371/zope.event-4.5.0-py2.py3-none-any.whl\n",
            "Collecting zope.interface\n",
            "\u001b[?25l  Downloading https://files.pythonhosted.org/packages/82/b0/da8afd9b3bd50c7665ecdac062f182982af1173c9081f9af7261091c5588/zope.interface-5.2.0-cp36-cp36m-manylinux2010_x86_64.whl (236kB)\n",
            "\u001b[K     |████████████████████████████████| 245kB 48.1MB/s \n",
            "\u001b[?25hCollecting greenlet<2.0,>=0.4.17; platform_python_implementation == \"CPython\"\n",
            "  Using cached https://files.pythonhosted.org/packages/80/d0/532e160c777b42f6f393f9de8c88abb8af6c892037c55e4d3a8a211324dd/greenlet-0.4.17-cp36-cp36m-manylinux1_x86_64.whl\n",
            "Requirement already satisfied: Jinja2>=2.10.1 in /usr/local/lib/python3.6/dist-packages (from flask>=1.0.2->allennlp<0.10.0,>=0.9.0; extra == \"seqvec\" or extra == \"all\"->bio-embeddings[all]) (2.11.2)\n",
            "Requirement already satisfied: Werkzeug>=0.15 in /usr/local/lib/python3.6/dist-packages (from flask>=1.0.2->allennlp<0.10.0,>=0.9.0; extra == \"seqvec\" or extra == \"all\"->bio-embeddings[all]) (1.0.1)\n",
            "Requirement already satisfied: itsdangerous>=0.24 in /usr/local/lib/python3.6/dist-packages (from flask>=1.0.2->allennlp<0.10.0,>=0.9.0; extra == \"seqvec\" or extra == \"all\"->bio-embeddings[all]) (1.1.0)\n",
            "Requirement already satisfied: click>=5.1 in /usr/local/lib/python3.6/dist-packages (from flask>=1.0.2->allennlp<0.10.0,>=0.9.0; extra == \"seqvec\" or extra == \"all\"->bio-embeddings[all]) (7.1.2)\n",
            "Requirement already satisfied: cymem<2.1.0,>=2.0.2 in /usr/local/lib/python3.6/dist-packages (from spacy<2.2,>=2.1.0->allennlp<0.10.0,>=0.9.0; extra == \"seqvec\" or extra == \"all\"->bio-embeddings[all]) (2.0.5)\n",
            "Requirement already satisfied: wasabi<1.1.0,>=0.2.0 in /usr/local/lib/python3.6/dist-packages (from spacy<2.2,>=2.1.0->allennlp<0.10.0,>=0.9.0; extra == \"seqvec\" or extra == \"all\"->bio-embeddings[all]) (0.8.0)\n",
            "Collecting thinc<7.1.0,>=7.0.8\n",
            "\u001b[?25l  Downloading https://files.pythonhosted.org/packages/18/a5/9ace20422e7bb1bdcad31832ea85c52a09900cd4a7ce711246bfb92206ba/thinc-7.0.8-cp36-cp36m-manylinux1_x86_64.whl (2.1MB)\n",
            "\u001b[K     |████████████████████████████████| 2.1MB 42.4MB/s \n",
            "\u001b[?25hCollecting blis<0.3.0,>=0.2.2\n",
            "\u001b[?25l  Downloading https://files.pythonhosted.org/packages/34/46/b1d0bb71d308e820ed30316c5f0a017cb5ef5f4324bcbc7da3cf9d3b075c/blis-0.2.4-cp36-cp36m-manylinux1_x86_64.whl (3.2MB)\n",
            "\u001b[K     |████████████████████████████████| 3.2MB 29.4MB/s \n",
            "\u001b[?25hRequirement already satisfied: srsly<1.1.0,>=0.0.6 in /usr/local/lib/python3.6/dist-packages (from spacy<2.2,>=2.1.0->allennlp<0.10.0,>=0.9.0; extra == \"seqvec\" or extra == \"all\"->bio-embeddings[all]) (1.0.5)\n",
            "Requirement already satisfied: murmurhash<1.1.0,>=0.28.0 in /usr/local/lib/python3.6/dist-packages (from spacy<2.2,>=2.1.0->allennlp<0.10.0,>=0.9.0; extra == \"seqvec\" or extra == \"all\"->bio-embeddings[all]) (1.0.5)\n",
            "Collecting plac<1.0.0,>=0.9.6\n",
            "  Downloading https://files.pythonhosted.org/packages/9e/9b/62c60d2f5bc135d2aa1d8c8a86aaf84edb719a59c7f11a4316259e61a298/plac-0.9.6-py2.py3-none-any.whl\n",
            "Collecting preshed<2.1.0,>=2.0.1\n",
            "\u001b[?25l  Downloading https://files.pythonhosted.org/packages/20/93/f222fb957764a283203525ef20e62008675fd0a14ffff8cc1b1490147c63/preshed-2.0.1-cp36-cp36m-manylinux1_x86_64.whl (83kB)\n",
            "\u001b[K     |████████████████████████████████| 92kB 8.8MB/s \n",
            "\u001b[?25hRequirement already satisfied: idna<3,>=2.5 in /usr/local/lib/python3.6/dist-packages (from requests>=2.18->allennlp<0.10.0,>=0.9.0; extra == \"seqvec\" or extra == \"all\"->bio-embeddings[all]) (2.10)\n",
            "Requirement already satisfied: certifi>=2017.4.17 in /usr/local/lib/python3.6/dist-packages (from requests>=2.18->allennlp<0.10.0,>=0.9.0; extra == \"seqvec\" or extra == \"all\"->bio-embeddings[all]) (2020.12.5)\n",
            "Requirement already satisfied: urllib3!=1.25.0,!=1.25.1,<1.26,>=1.21.1 in /usr/local/lib/python3.6/dist-packages (from requests>=2.18->allennlp<0.10.0,>=0.9.0; extra == \"seqvec\" or extra == \"all\"->bio-embeddings[all]) (1.24.3)\n",
            "Requirement already satisfied: chardet<4,>=3.0.2 in /usr/local/lib/python3.6/dist-packages (from requests>=2.18->allennlp<0.10.0,>=0.9.0; extra == \"seqvec\" or extra == \"all\"->bio-embeddings[all]) (3.0.4)\n",
            "Requirement already satisfied: wcwidth in /usr/local/lib/python3.6/dist-packages (from ftfy->allennlp<0.10.0,>=0.9.0; extra == \"seqvec\" or extra == \"all\"->bio-embeddings[all]) (0.2.5)\n",
            "Collecting botocore<1.20.0,>=1.19.52\n",
            "\u001b[?25l  Downloading https://files.pythonhosted.org/packages/e9/a8/3a70380b52a34bed791a1dcc3f5e5967c81676f452aef440416efac62cfd/botocore-1.19.52-py2.py3-none-any.whl (7.2MB)\n",
            "\u001b[K     |████████████████████████████████| 7.2MB 39.3MB/s \n",
            "\u001b[?25hCollecting jmespath<1.0.0,>=0.7.1\n",
            "  Downloading https://files.pythonhosted.org/packages/07/cb/5f001272b6faeb23c1c9e0acc04d48eaaf5c862c17709d20e3469c6e0139/jmespath-0.10.0-py2.py3-none-any.whl\n",
            "Collecting s3transfer<0.4.0,>=0.3.0\n",
            "\u001b[?25l  Downloading https://files.pythonhosted.org/packages/69/79/e6afb3d8b0b4e96cefbdc690f741d7dd24547ff1f94240c997a26fa908d3/s3transfer-0.3.3-py2.py3-none-any.whl (69kB)\n",
            "\u001b[K     |████████████████████████████████| 71kB 8.1MB/s \n",
            "\u001b[?25hRequirement already satisfied: more-itertools>=4.0.0 in /usr/local/lib/python3.6/dist-packages (from pytest->allennlp<0.10.0,>=0.9.0; extra == \"seqvec\" or extra == \"all\"->bio-embeddings[all]) (8.6.0)\n",
            "Requirement already satisfied: py>=1.5.0 in /usr/local/lib/python3.6/dist-packages (from pytest->allennlp<0.10.0,>=0.9.0; extra == \"seqvec\" or extra == \"all\"->bio-embeddings[all]) (1.10.0)\n",
            "Requirement already satisfied: atomicwrites>=1.0 in /usr/local/lib/python3.6/dist-packages (from pytest->allennlp<0.10.0,>=0.9.0; extra == \"seqvec\" or extra == \"all\"->bio-embeddings[all]) (1.4.0)\n",
            "Requirement already satisfied: attrs>=17.4.0 in /usr/local/lib/python3.6/dist-packages (from pytest->allennlp<0.10.0,>=0.9.0; extra == \"seqvec\" or extra == \"all\"->bio-embeddings[all]) (20.3.0)\n",
            "Requirement already satisfied: pluggy<0.8,>=0.5 in /usr/local/lib/python3.6/dist-packages (from pytest->allennlp<0.10.0,>=0.9.0; extra == \"seqvec\" or extra == \"all\"->bio-embeddings[all]) (0.7.1)\n",
            "Requirement already satisfied: sphinx>=1.6.5 in /usr/local/lib/python3.6/dist-packages (from numpydoc>=0.8.0->allennlp<0.10.0,>=0.9.0; extra == \"seqvec\" or extra == \"all\"->bio-embeddings[all]) (1.8.5)\n",
            "Collecting python-editor>=0.3\n",
            "  Downloading https://files.pythonhosted.org/packages/c6/d3/201fc3abe391bbae6606e6f1d598c15d367033332bd54352b12f35513717/python_editor-1.0.4-py3-none-any.whl\n",
            "Collecting Mako\n",
            "\u001b[?25l  Downloading https://files.pythonhosted.org/packages/a6/37/0e706200d22172eb8fa17d68a7ae22dec7631a0a92266634fb518a88a5b2/Mako-1.1.3-py2.py3-none-any.whl (75kB)\n",
            "\u001b[K     |████████████████████████████████| 81kB 8.9MB/s \n",
            "\u001b[?25hCollecting pbr!=2.1.0,>=2.0.0\n",
            "\u001b[?25l  Downloading https://files.pythonhosted.org/packages/fb/48/69046506f6ac61c1eaa9a0d42d22d54673b69e176d30ca98e3f61513e980/pbr-5.5.1-py2.py3-none-any.whl (106kB)\n",
            "\u001b[K     |████████████████████████████████| 112kB 52.8MB/s \n",
            "\u001b[?25hCollecting PrettyTable<0.8,>=0.7.2\n",
            "  Downloading https://files.pythonhosted.org/packages/ef/30/4b0746848746ed5941f052479e7c23d2b56d174b82f4fd34a25e389831f5/prettytable-0.7.2.tar.bz2\n",
            "Collecting cmd2!=0.8.3,>=0.8.0\n",
            "\u001b[?25l  Downloading https://files.pythonhosted.org/packages/27/54/af6e2703f064485d717cb311d3f9440cd302a823ba6d80a020b59eae166d/cmd2-1.4.0-py3-none-any.whl (133kB)\n",
            "\u001b[K     |████████████████████████████████| 133kB 45.6MB/s \n",
            "\u001b[?25hCollecting stevedore>=2.0.1\n",
            "\u001b[?25l  Downloading https://files.pythonhosted.org/packages/d4/49/b602307aeac3df3384ff1fcd05da9c0376c622a6c48bb5325f28ab165b57/stevedore-3.3.0-py3-none-any.whl (49kB)\n",
            "\u001b[K     |████████████████████████████████| 51kB 5.4MB/s \n",
            "\u001b[?25hRequirement already satisfied: PyYAML>=3.12 in /usr/local/lib/python3.6/dist-packages (from cliff->optuna->jax-unirep<2.0.0,>=1.0.1; extra == \"unirep\" or extra == \"all\"->bio-embeddings[all]) (3.13)\n",
            "Requirement already satisfied: MarkupSafe>=0.23 in /usr/local/lib/python3.6/dist-packages (from Jinja2>=2.10.1->flask>=1.0.2->allennlp<0.10.0,>=0.9.0; extra == \"seqvec\" or extra == \"all\"->bio-embeddings[all]) (1.1.1)\n",
            "Requirement already satisfied: Pygments>=2.0 in /usr/local/lib/python3.6/dist-packages (from sphinx>=1.6.5->numpydoc>=0.8.0->allennlp<0.10.0,>=0.9.0; extra == \"seqvec\" or extra == \"all\"->bio-embeddings[all]) (2.6.1)\n",
            "Requirement already satisfied: sphinxcontrib-websupport in /usr/local/lib/python3.6/dist-packages (from sphinx>=1.6.5->numpydoc>=0.8.0->allennlp<0.10.0,>=0.9.0; extra == \"seqvec\" or extra == \"all\"->bio-embeddings[all]) (1.2.4)\n",
            "Requirement already satisfied: snowballstemmer>=1.1 in /usr/local/lib/python3.6/dist-packages (from sphinx>=1.6.5->numpydoc>=0.8.0->allennlp<0.10.0,>=0.9.0; extra == \"seqvec\" or extra == \"all\"->bio-embeddings[all]) (2.0.0)\n",
            "Requirement already satisfied: docutils>=0.11 in /usr/local/lib/python3.6/dist-packages (from sphinx>=1.6.5->numpydoc>=0.8.0->allennlp<0.10.0,>=0.9.0; extra == \"seqvec\" or extra == \"all\"->bio-embeddings[all]) (0.16)\n",
            "Requirement already satisfied: alabaster<0.8,>=0.7 in /usr/local/lib/python3.6/dist-packages (from sphinx>=1.6.5->numpydoc>=0.8.0->allennlp<0.10.0,>=0.9.0; extra == \"seqvec\" or extra == \"all\"->bio-embeddings[all]) (0.7.12)\n",
            "Requirement already satisfied: babel!=2.0,>=1.3 in /usr/local/lib/python3.6/dist-packages (from sphinx>=1.6.5->numpydoc>=0.8.0->allennlp<0.10.0,>=0.9.0; extra == \"seqvec\" or extra == \"all\"->bio-embeddings[all]) (2.9.0)\n",
            "Requirement already satisfied: imagesize in /usr/local/lib/python3.6/dist-packages (from sphinx>=1.6.5->numpydoc>=0.8.0->allennlp<0.10.0,>=0.9.0; extra == \"seqvec\" or extra == \"all\"->bio-embeddings[all]) (1.2.0)\n",
            "Collecting pyperclip>=1.6\n",
            "  Downloading https://files.pythonhosted.org/packages/6f/4c/0b1d507ad7e8bc31d690d04b4f475e74c2002d060f7994ce8c09612df707/pyperclip-1.8.1.tar.gz\n",
            "Collecting colorama>=0.3.7\n",
            "  Downloading https://files.pythonhosted.org/packages/44/98/5b86278fbbf250d239ae0ecb724f8572af1c91f4a11edf4d36a206189440/colorama-0.4.4-py2.py3-none-any.whl\n",
            "Requirement already satisfied: sphinxcontrib-serializinghtml in /usr/local/lib/python3.6/dist-packages (from sphinxcontrib-websupport->sphinx>=1.6.5->numpydoc>=0.8.0->allennlp<0.10.0,>=0.9.0; extra == \"seqvec\" or extra == \"all\"->bio-embeddings[all]) (1.1.4)\n",
            "Building wheels for collected packages: optuna, gevent\n",
            "  Building wheel for optuna (PEP 517) ... \u001b[?25l\u001b[?25hdone\n",
            "  Created wheel for optuna: filename=optuna-2.3.0-cp36-none-any.whl size=359761 sha256=f1feed0e60e7e7a8278d8123f6a279e5a16047a2706abb4e8881a7efa7578e2d\n",
            "  Stored in directory: /root/.cache/pip/wheels/fa/91/19/64b0ec6b964f89c0695a9dc6db6f851d0b54c5381a5c9cadfb\n",
            "  Building wheel for gevent (PEP 517) ... \u001b[?25l\u001b[?25hdone\n",
            "  Created wheel for gevent: filename=gevent-20.12.1-cp36-cp36m-linux_x86_64.whl size=4482108 sha256=3045e559fcf97706a26474dd0bceea1cb87839d7152e79abf10db362ef5f90d2\n",
            "  Stored in directory: /root/.cache/pip/wheels/ff/50/b8/b5e0c7b64d587ee7fd0c1bb9aac40b953fdb2da4e49b7b99db\n",
            "Successfully built optuna gevent\n",
            "Building wheels for collected packages: lock, jax, overrides, parsimonious, ftfy, jsonnet, word2number, sacremoses, PrettyTable, pyperclip\n",
            "  Building wheel for lock (setup.py) ... \u001b[?25l\u001b[?25hdone\n",
            "  Created wheel for lock: filename=lock-2018.3.25.2110-cp36-none-any.whl size=3319 sha256=76ac810a37925d874acfbb75ba734cb0ef5b62f693218ede249265540df7208c\n",
            "  Stored in directory: /root/.cache/pip/wheels/7e/6c/6f/fd43d699a19b09af5a6b4e0d5cd9e23024d7e818c36d7f872e\n",
            "  Building wheel for jax (setup.py) ... \u001b[?25l\u001b[?25hdone\n",
            "  Created wheel for jax: filename=jax-0.1.77-cp36-none-any.whl size=516863 sha256=25c87c07ccbff75e062dc3f720cf2907d6fb5b6d2bb4851a801f6d5e1c5734e4\n",
            "  Stored in directory: /root/.cache/pip/wheels/22/2e/9d/e5dd9b619a25ab05c0a60a3f4ea0735c890bdf38b651c0b5a8\n",
            "  Building wheel for overrides (setup.py) ... \u001b[?25l\u001b[?25hdone\n",
            "  Created wheel for overrides: filename=overrides-3.1.0-cp36-none-any.whl size=10175 sha256=6202b5b4e6e04065d5846b8db3c915adb3e66daeb5157f2f34b068cf4a1ac085\n",
            "  Stored in directory: /root/.cache/pip/wheels/5c/24/13/6ef8600e6f147c95e595f1289a86a3cc82ed65df57582c65a9\n",
            "  Building wheel for parsimonious (setup.py) ... \u001b[?25l\u001b[?25hdone\n",
            "  Created wheel for parsimonious: filename=parsimonious-0.8.1-cp36-none-any.whl size=42710 sha256=628458611ba6d4eb99b478d43da780238c22df942639cc2a9cc650867cf3c146\n",
            "  Stored in directory: /root/.cache/pip/wheels/b7/8d/e7/a0e74217da5caeb3c1c7689639b6d28ddbf9985b840bc96a9a\n",
            "  Building wheel for ftfy (setup.py) ... \u001b[?25l\u001b[?25hdone\n",
            "  Created wheel for ftfy: filename=ftfy-5.8-cp36-none-any.whl size=45613 sha256=dabd7e46e7d11dad1ac0914fcd1d195449ca3efc16ada1d0be9f649afd2c8395\n",
            "  Stored in directory: /root/.cache/pip/wheels/ba/c0/ef/f28c4da5ac84a4e06ac256ca9182fc34fa57fefffdbc68425b\n",
            "  Building wheel for jsonnet (setup.py) ... \u001b[?25l\u001b[?25hdone\n",
            "  Created wheel for jsonnet: filename=jsonnet-0.17.0-cp36-cp36m-linux_x86_64.whl size=3387903 sha256=2a05dfc3ec043966dfaab6f3699005ab0db17a8382243a647a8424544fd7f900\n",
            "  Stored in directory: /root/.cache/pip/wheels/26/7a/37/7dbcc30a6b4efd17b91ad1f0128b7bbf84813bd4e1cfb8c1e3\n",
            "  Building wheel for word2number (setup.py) ... \u001b[?25l\u001b[?25hdone\n",
            "  Created wheel for word2number: filename=word2number-1.1-cp36-none-any.whl size=5588 sha256=d4d588c63dd457a2c79d45c03e0f1948051f9a9e92cbfea0aeb3b1f5f80ff04c\n",
            "  Stored in directory: /root/.cache/pip/wheels/46/2f/53/5f5c1d275492f2fce1cdab9a9bb12d49286dead829a4078e0e\n",
            "  Building wheel for sacremoses (setup.py) ... \u001b[?25l\u001b[?25hdone\n",
            "  Created wheel for sacremoses: filename=sacremoses-0.0.43-cp36-none-any.whl size=893261 sha256=9f6fd4fdcc15c8e5b5d65714223b3640bd699acbe1bb9d56630778699f713e16\n",
            "  Stored in directory: /root/.cache/pip/wheels/29/3c/fd/7ce5c3f0666dab31a50123635e6fb5e19ceb42ce38d4e58f45\n",
            "  Building wheel for PrettyTable (setup.py) ... \u001b[?25l\u001b[?25hdone\n",
            "  Created wheel for PrettyTable: filename=prettytable-0.7.2-cp36-none-any.whl size=13702 sha256=6bc6eaa0b0c616f740d0891b8a1dfe5dc7ab9476d516deef790482f9c7963439\n",
            "  Stored in directory: /root/.cache/pip/wheels/80/34/1c/3967380d9676d162cb59513bd9dc862d0584e045a162095606\n",
            "  Building wheel for pyperclip (setup.py) ... \u001b[?25l\u001b[?25hdone\n",
            "  Created wheel for pyperclip: filename=pyperclip-1.8.1-cp36-none-any.whl size=11120 sha256=c98e6cead8628c18a162424a2115f0c5d4f6c20d489f8ca3120015aac4d27315\n",
            "  Stored in directory: /root/.cache/pip/wheels/44/10/3a/c830e9bb3db2c93274ea1f213a41fabde0d8cf3794251fad0c\n",
            "Successfully built lock jax overrides parsimonious ftfy jsonnet word2number sacremoses PrettyTable pyperclip\n",
            "\u001b[31mERROR: torchvision 0.8.1+cu101 has requirement torch==1.7.0, but you'll have torch 1.5.1 which is incompatible.\u001b[0m\n",
            "\u001b[31mERROR: en-core-web-sm 2.2.5 has requirement spacy>=2.2.2, but you'll have spacy 2.1.9 which is incompatible.\u001b[0m\n",
            "\u001b[31mERROR: botocore 1.19.52 has requirement urllib3<1.27,>=1.25.4; python_version != \"3.4\", but you'll have urllib3 1.24.3 which is incompatible.\u001b[0m\n",
            "\u001b[31mERROR: responses 0.12.1 has requirement urllib3>=1.25.10, but you'll have urllib3 1.24.3 which is incompatible.\u001b[0m\n",
            "Installing collected packages: appdirs, lock, importlib-metadata, tqdm, gensim, biopython, plotly, torch, ruamel.yaml.clib, ruamel.yaml, multipledispatch, jax, python-editor, Mako, alembic, colorlog, pbr, PrettyTable, pyperclip, colorama, cmd2, stevedore, cliff, cmaes, optuna, jax-unirep, overrides, sentencepiece, jmespath, botocore, s3transfer, boto3, pytorch-transformers, flask-cors, conllu, parsimonious, tensorboardX, zope.event, zope.interface, greenlet, gevent, flaky, preshed, plac, blis, thinc, spacy, jsonpickle, responses, ftfy, jsonnet, unidecode, word2number, pytorch-pretrained-bert, numpydoc, allennlp, sacremoses, tokenizers, transformers, bio-embeddings\n",
            "  Found existing installation: importlib-metadata 3.3.0\n",
            "    Uninstalling importlib-metadata-3.3.0:\n",
            "      Successfully uninstalled importlib-metadata-3.3.0\n",
            "  Found existing installation: tqdm 4.41.1\n",
            "    Uninstalling tqdm-4.41.1:\n",
            "      Successfully uninstalled tqdm-4.41.1\n",
            "  Found existing installation: gensim 3.6.0\n",
            "    Uninstalling gensim-3.6.0:\n",
            "      Successfully uninstalled gensim-3.6.0\n",
            "  Found existing installation: plotly 4.4.1\n",
            "    Uninstalling plotly-4.4.1:\n",
            "      Successfully uninstalled plotly-4.4.1\n",
            "  Found existing installation: torch 1.7.0+cu101\n",
            "    Uninstalling torch-1.7.0+cu101:\n",
            "      Successfully uninstalled torch-1.7.0+cu101\n",
            "  Found existing installation: jax 0.2.7\n",
            "    Uninstalling jax-0.2.7:\n",
            "      Successfully uninstalled jax-0.2.7\n",
            "  Found existing installation: prettytable 2.0.0\n",
            "    Uninstalling prettytable-2.0.0:\n",
            "      Successfully uninstalled prettytable-2.0.0\n",
            "  Found existing installation: preshed 3.0.5\n",
            "    Uninstalling preshed-3.0.5:\n",
            "      Successfully uninstalled preshed-3.0.5\n",
            "  Found existing installation: plac 1.1.3\n",
            "    Uninstalling plac-1.1.3:\n",
            "      Successfully uninstalled plac-1.1.3\n",
            "  Found existing installation: blis 0.4.1\n",
            "    Uninstalling blis-0.4.1:\n",
            "      Successfully uninstalled blis-0.4.1\n",
            "  Found existing installation: thinc 7.4.0\n",
            "    Uninstalling thinc-7.4.0:\n",
            "      Successfully uninstalled thinc-7.4.0\n",
            "  Found existing installation: spacy 2.2.4\n",
            "    Uninstalling spacy-2.2.4:\n",
            "      Successfully uninstalled spacy-2.2.4\n",
            "Successfully installed Mako-1.1.3 PrettyTable-0.7.2 alembic-1.4.3 allennlp-0.9.0 appdirs-1.4.4 bio-embeddings-0.1.4 biopython-1.78 blis-0.2.4 boto3-1.16.52 botocore-1.19.52 cliff-3.5.0 cmaes-0.7.0 cmd2-1.4.0 colorama-0.4.4 colorlog-4.6.2 conllu-1.3.1 flaky-3.7.0 flask-cors-3.0.10 ftfy-5.8 gensim-3.8.3 gevent-20.12.1 greenlet-0.4.17 importlib-metadata-1.7.0 jax-0.1.77 jax-unirep-1.0.3 jmespath-0.10.0 jsonnet-0.17.0 jsonpickle-1.4.2 lock-2018.3.25.2110 multipledispatch-0.6.0 numpydoc-1.1.0 optuna-2.3.0 overrides-3.1.0 parsimonious-0.8.1 pbr-5.5.1 plac-0.9.6 plotly-4.14.2 preshed-2.0.1 pyperclip-1.8.1 python-editor-1.0.4 pytorch-pretrained-bert-0.6.2 pytorch-transformers-1.1.0 responses-0.12.1 ruamel.yaml-0.16.12 ruamel.yaml.clib-0.2.2 s3transfer-0.3.3 sacremoses-0.0.43 sentencepiece-0.1.91 spacy-2.1.9 stevedore-3.3.0 tensorboardX-2.1 thinc-7.0.8 tokenizers-0.9.3 torch-1.5.1 tqdm-4.56.0 transformers-3.5.1 unidecode-1.1.2 word2number-1.1 zope.event-4.5.0 zope.interface-5.2.0\n"
          ],
          "name": "stdout"
        }
      ]
    },
    {
      "cell_type": "code",
      "metadata": {
        "id": "COBr5MGOVOEF"
      },
      "source": [
        "from bio_embeddings.embed import seqvec_embedder , prottrans_bert_bfd_embedder"
      ],
      "execution_count": 3,
      "outputs": []
    },
    {
      "cell_type": "code",
      "metadata": {
        "id": "D3GO_4_jX25S",
        "outputId": "5af53896-5c2f-4815-ae08-cbe669242320",
        "colab": {
          "base_uri": "https://localhost:8080/"
        }
      },
      "source": [
        "embedder_seqvec = seqvec_embedder.SeqVecEmbedder()\n",
        "embedder_protbert= prottrans_bert_bfd_embedder.ProtTransBertBFDEmbedder()\n",
        "max_seq = 1538 # larget sequences in the datasets"
      ],
      "execution_count": 4,
      "outputs": [
        {
          "output_type": "stream",
          "text": [
            "weights.hdf5: 374MB [00:15, 24.2MB/s]                           \n",
            "options.json: 8.19kB [00:00, 47.2kB/s]\n",
            "prottrans_bert_bfd.zip: 1.56GB [07:06, 3.66MB/s]                            \n"
          ],
          "name": "stderr"
        }
      ]
    },
    {
      "cell_type": "markdown",
      "metadata": {
        "id": "8XLwIb_OAAqy"
      },
      "source": [
        "Import packages"
      ]
    },
    {
      "cell_type": "code",
      "metadata": {
        "id": "PR2swxTrFzOV"
      },
      "source": [
        "import numpy as np\r\n",
        "from numpy import asarray\r\n",
        "from numpy import savez_compressed\r\n",
        "import os"
      ],
      "execution_count": 5,
      "outputs": []
    },
    {
      "cell_type": "markdown",
      "metadata": {
        "id": "zmV6rmpb1-5o"
      },
      "source": [
        "Generic method to extract ProtBert Embeddings"
      ]
    },
    {
      "cell_type": "code",
      "metadata": {
        "id": "U6CMWpS32DaM"
      },
      "source": [
        "def extract_protBert(max_seq,lines,path,embedder_protbert):\r\n",
        "  max_sequence = max_seq\r\n",
        "  count = 1 # current line\r\n",
        "  target_name = 1 # target line that has the name of the protein \r\n",
        "  target_primary = 2 # target line that has the primary structure \r\n",
        "  for line in lines:\r\n",
        "    print(count)\r\n",
        "    if count == target_name:\r\n",
        "      line = line.replace(\"\\n\",\"\") # remove the newline character in the end of the string\r\n",
        "      line = line.replace(\" \",\"\")\r\n",
        "      line = line.replace(\">\",\"\") \r\n",
        "      path_to_save = path + '/' + line\r\n",
        "      target_name +=3\r\n",
        "    if count == target_primary:\r\n",
        "      line = line.replace(\"\\n\",\"\") # remove the newline character in the end of the string \r\n",
        "      embedding_protbert = embedder_protbert.embed(line) # extract the embeddings \r\n",
        "      padding = max_sequence - embedding_protbert.shape[0]\r\n",
        "      embedding_protbert = np.pad(embedding_protbert,((0,padding),(0,0)),mode='constant',constant_values = 0) # apply zero padding at the end \r\n",
        "      savez_compressed(path_to_save,embedding_protbert) # save the embedding in a new txt in a directory \r\n",
        "      target_primary +=3\r\n",
        "    count+=1"
      ],
      "execution_count": 6,
      "outputs": []
    },
    {
      "cell_type": "markdown",
      "metadata": {
        "id": "Ib0MLqhK2DuP"
      },
      "source": [
        "Generic method to extract SeqVec Embeddings "
      ]
    },
    {
      "cell_type": "code",
      "metadata": {
        "id": "R1bYDEb-2Hj-"
      },
      "source": [
        "def extract_seqVec(max_seq,lines,path,embedder_seqvec):\r\n",
        "  max_sequence = max_seq \r\n",
        "  count = 1 # current line\r\n",
        "  target_name = 1 # target line that has the name of the protein \r\n",
        "  target_primary = 2 # target line that has the primary structure \r\n",
        "  for line in lines:\r\n",
        "    print(count)\r\n",
        "    if count == target_name:\r\n",
        "      line = line.replace(\"\\n\",\"\") # remove the newline character in the end of the string\r\n",
        "      line = line.replace(\" \",\"\")\r\n",
        "      line = line.replace(\">\",\"\")\r\n",
        "      path_to_save = path + '/' + line\r\n",
        "      target_name +=3\r\n",
        "    if count == target_primary:\r\n",
        "      line = line.replace(\"\\n\",\"\") # remove the newline character in the end of the string \r\n",
        "      embedding_seqvec = embedder_seqvec.embed(line) # extract the embeddings \r\n",
        "      padding = max_sequence - embedding_seqvec.shape[1]\r\n",
        "      embedding_seqvec = np.pad(embedding_seqvec,((0,0),(0,padding),(0,0)),mode='constant',constant_values = 0) # apply zero padding at the end \r\n",
        "      embedding_seqvec = embedding_seqvec.reshape(embedding_seqvec.shape[0], -1) # convert 3d matrix to 2d matrix in order to be able to save it \r\n",
        "      savez_compressed(path_to_save,embedding_seqvec) # save the embedding in a new txt in a directory \r\n",
        "      target_primary +=3\r\n",
        "    count+=1"
      ],
      "execution_count": 7,
      "outputs": []
    },
    {
      "cell_type": "markdown",
      "metadata": {
        "id": "DPuecTRJsq96"
      },
      "source": [
        "Create new directories to save the embeddings "
      ]
    },
    {
      "cell_type": "code",
      "metadata": {
        "id": "MIyWGcCm8Irj"
      },
      "source": [
        "!rm -rf PISCES_ProtBert\r\n",
        "!rm -rf PISCES_SeqVec"
      ],
      "execution_count": 8,
      "outputs": []
    },
    {
      "cell_type": "code",
      "metadata": {
        "id": "FlAXJI5_stzq"
      },
      "source": [
        "path = os.getcwd() # get the current directory\r\n",
        "path_CASP_protBert = path + '/CASP13_ProtBert' \r\n",
        "path_CASP_seqVec = path + '/CASP13_SeqVec' \r\n",
        "path_CB513_protBert = path + '/CB513_ProtBert' \r\n",
        "path_CB513_seqVec = path + '/CB513_SeqVec' \r\n",
        "path_PISCES_protBert = path + '/PISCES_ProtBert' \r\n",
        "path_PISCES_seqVec = path + '/PISCES_SeqVec'\r\n",
        "os.mkdir(path_PISCES_protBert)\r\n",
        "os.mkdir(path_PISCES_seqVec)\r\n",
        "#os.mkdir(path_CASP_seqVec)\r\n",
        "#os.mkdir(path_CASP_protBert)\r\n",
        "#os.mkdir(path_CB513_protBert)\r\n",
        "#os.mkdir(path_CB513_seqVec)\r\n"
      ],
      "execution_count": 9,
      "outputs": []
    },
    {
      "cell_type": "markdown",
      "metadata": {
        "id": "3jtHVJz7ADlI"
      },
      "source": [
        "Open files/ Create pointers"
      ]
    },
    {
      "cell_type": "code",
      "metadata": {
        "id": "QHwehH3IAFfb"
      },
      "source": [
        "#casp = open(\"CASP13_3class.txt\",\"r\")\r\n",
        "#cb513 = open(\"CB513_3class.txt\",\"r\")\r\n",
        "pisces = open(\"set11.txt\",\"r\")"
      ],
      "execution_count": 10,
      "outputs": []
    },
    {
      "cell_type": "markdown",
      "metadata": {
        "id": "wxQYbISPAJWQ"
      },
      "source": [
        "Read lines"
      ]
    },
    {
      "cell_type": "code",
      "metadata": {
        "id": "axyHzrEkAKZV"
      },
      "source": [
        "#casp_lines = casp.readlines()\r\n",
        "#cb513_lines = cb513.readlines()\r\n",
        "pisces_lines = pisces.readlines()"
      ],
      "execution_count": 11,
      "outputs": []
    },
    {
      "cell_type": "markdown",
      "metadata": {
        "id": "9-WNvAwfAhOP"
      },
      "source": [
        "Extract SeqVec and ProtBert embeddings for CASP13"
      ]
    },
    {
      "cell_type": "code",
      "metadata": {
        "id": "h5xB0xcoAluZ"
      },
      "source": [
        "extract_protBert(max_seq,casp_lines,path_CASP_protBert,embedder_protbert)"
      ],
      "execution_count": null,
      "outputs": []
    },
    {
      "cell_type": "code",
      "metadata": {
        "id": "cPOBMLYf87te"
      },
      "source": [
        "extract_seqVec(max_seq,casp_lines,path_CASP_seqVec,embedder_seqvec)"
      ],
      "execution_count": null,
      "outputs": []
    },
    {
      "cell_type": "markdown",
      "metadata": {
        "id": "KskDddPCAmDT"
      },
      "source": [
        "Extract SeqVec and ProtBert embeddings for CB513\r\n",
        "\r\n",
        "\r\n"
      ]
    },
    {
      "cell_type": "code",
      "metadata": {
        "id": "8IQHN3BeAp63"
      },
      "source": [
        "extract_protBert(max_seq,cb513_lines,path_CB513_protBert,embedder_protbert)"
      ],
      "execution_count": null,
      "outputs": []
    },
    {
      "cell_type": "code",
      "metadata": {
        "id": "_7SSedMJ9Axj"
      },
      "source": [
        "extract_seqVec(max_seq,cb513_lines,path_CB513_seqVec,embedder_seqvec)"
      ],
      "execution_count": null,
      "outputs": []
    },
    {
      "cell_type": "markdown",
      "metadata": {
        "id": "F6qwv-OUAqa8"
      },
      "source": [
        "Extract SeqVec and ProtBert embeddings for PISCES"
      ]
    },
    {
      "cell_type": "code",
      "metadata": {
        "id": "DSbCx94GAz0w"
      },
      "source": [
        "extract_protBert(max_seq,pisces_lines,path_PISCES_protBert,embedder_protbert)"
      ],
      "execution_count": null,
      "outputs": []
    },
    {
      "cell_type": "code",
      "metadata": {
        "id": "aVQvqyMtpNnF"
      },
      "source": [
        "extract_seqVec(max_seq,pisces_lines,path_PISCES_seqVec,embedder_seqvec)"
      ],
      "execution_count": null,
      "outputs": []
    },
    {
      "cell_type": "markdown",
      "metadata": {
        "id": "E5uAc6pl50vT"
      },
      "source": [
        "How to load a numpy array"
      ]
    },
    {
      "cell_type": "code",
      "metadata": {
        "id": "kiMwCxq3qPgE"
      },
      "source": [
        "from numpy import loadtxt\r\n",
        "# load array\r\n",
        "data = loadtxt('/content/> 6btc_1_protBert.txt', delimiter=',')\r\n",
        "print(data.shape)\r\n",
        "#rojoog rgroojgrorjgr grogjrgn 524 0000 total 882 rkrnktt vtlkbjdkdf bfdbkmdf please finish today hahahahahaha\r\n",
        "#746 vdrivhdrivjrv drvidjbdb kjdfkdb df"
      ],
      "execution_count": null,
      "outputs": []
    },
    {
      "cell_type": "markdown",
      "metadata": {
        "id": "ho0hovGL63Vj"
      },
      "source": [
        "Load a 2d array and convert it to a 3d array"
      ]
    },
    {
      "cell_type": "code",
      "metadata": {
        "id": "mIqLW_cK66vT"
      },
      "source": [
        "\r\n",
        "import numpy as gfg \r\n",
        "  \r\n",
        "  \r\n",
        "arr = gfg.random.rand(5, 4, 3) \r\n",
        "print(arr)  \r\n",
        "# reshaping the array from 3D \r\n",
        "# matrice to 2D matrice. \r\n",
        "arr_reshaped = arr.reshape(arr.shape[0], -1) \r\n",
        "  \r\n",
        "# saving reshaped array to file. \r\n",
        "gfg.savetxt(\"geekfile.txt\", arr_reshaped) \r\n",
        "  \r\n",
        "# retrieving data from file. \r\n",
        "loaded_arr = gfg.loadtxt(\"geekfile.txt\") \r\n",
        "  \r\n",
        "# This loadedArr is a 2D array, therefore \r\n",
        "# we need to convert it to the original \r\n",
        "# array shape.reshaping to get original \r\n",
        "# matrice with original shape. \r\n",
        "load_original_arr = loaded_arr.reshape( \r\n",
        "    loaded_arr.shape[0], loaded_arr.shape[1] // arr.shape[2], arr.shape[2]) \r\n",
        "  \r\n",
        "# check the shapes: \r\n",
        "print(\"shape of arr: \", arr.shape) \r\n",
        "print(\"shape of load_original_arr: \", load_original_arr.shape) \r\n",
        "  \r\n",
        "# check if both arrays are same or not: \r\n",
        "if (load_original_arr == arr).all(): \r\n",
        "    print(\"Yes, both the arrays are same\") \r\n",
        "else: \r\n",
        "    print(\"No, both the arrays are not same\") \r\n",
        "print(arr)"
      ],
      "execution_count": null,
      "outputs": []
    },
    {
      "cell_type": "markdown",
      "metadata": {
        "id": "ks7N4o4lLY9g"
      },
      "source": [
        "Zip folders"
      ]
    },
    {
      "cell_type": "code",
      "metadata": {
        "id": "R8DwKAzJLa_S"
      },
      "source": [
        "#!zip -r /content/CASP13_ProtBert.zip /content/CASP13_ProtBert\r\n",
        "#!zip -r /content/CASP13_SeqVec.zip /content/CASP13_SeqVec\r\n",
        "#!zip -r /content/CB513_ProtBert.zip /content/CB513_ProtBert\r\n",
        "#!zip -r /content/CB513_SeqVec.zip /content/CB513_SeqVec\r\n",
        "!zip -r /content/PISCES_ProtBert.zip /content/PISCES_ProtBert\r\n",
        "#!zip -r /content/PISCES_SeqVec.zip /content/PISCES_SeqVec"
      ],
      "execution_count": null,
      "outputs": []
    }
  ]
}