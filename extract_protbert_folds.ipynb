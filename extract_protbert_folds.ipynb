{
  "nbformat": 4,
  "nbformat_minor": 0,
  "metadata": {
    "colab": {
      "name": "Untitled6.ipynb",
      "provenance": [],
      "toc_visible": true,
      "authorship_tag": "ABX9TyM1DwjKxGvPrUsKHXJASu+k",
      "include_colab_link": true
    },
    "kernelspec": {
      "name": "python3",
      "display_name": "Python 3"
    }
  },
  "cells": [
    {
      "cell_type": "markdown",
      "metadata": {
        "id": "view-in-github",
        "colab_type": "text"
      },
      "source": [
        "<a href=\"https://colab.research.google.com/github/schatz06/Thesis/blob/Bio_embeddings/extract_protbert_folds.ipynb\" target=\"_parent\"><img src=\"https://colab.research.google.com/assets/colab-badge.svg\" alt=\"Open In Colab\"/></a>"
      ]
    },
    {
      "cell_type": "markdown",
      "metadata": {
        "id": "tZ598cb89h36"
      },
      "source": [
        "##Mount Drive##"
      ]
    },
    {
      "cell_type": "code",
      "metadata": {
        "colab": {
          "base_uri": "https://localhost:8080/"
        },
        "id": "XSrEPunM9Zke",
        "outputId": "5f82e110-26b8-42be-e0cc-95428dab466d"
      },
      "source": [
        "from google.colab import drive\r\n",
        "drive.mount('/content/drive')"
      ],
      "execution_count": 1,
      "outputs": [
        {
          "output_type": "stream",
          "text": [
            "Mounted at /content/drive\n"
          ],
          "name": "stdout"
        }
      ]
    },
    {
      "cell_type": "markdown",
      "metadata": {
        "id": "HmEVy5MG-ChS"
      },
      "source": [
        "##Create fold method ##"
      ]
    },
    {
      "cell_type": "code",
      "metadata": {
        "id": "p_i2TbQnEmFJ"
      },
      "source": [
        "!pip install hdf5storage"
      ],
      "execution_count": null,
      "outputs": []
    },
    {
      "cell_type": "code",
      "metadata": {
        "id": "H6_W4u_9EK-W"
      },
      "source": [
        "import sys\r\n",
        "#import scipy.io\r\n",
        "import numpy as np\r\n",
        "import os\r\n",
        "import os.path\r\n",
        "from os import path\r\n",
        "import hdf5storage\r\n",
        "############################## FILES AND FOLDERS #######################################\r\n",
        "folder = '/content/drive/MyDrive/Datasets/ProtBert/' ### path tou folder pou eshi ta .npy arxeia\r\n",
        "train_fold = '/content/drive/MyDrive/Datasets/pisces_test_fold0.txt'  #### path gia to file pou eshi ta stoixeia\r\n",
        "\r\n",
        "train =  open(train_fold,\"r\")\r\n",
        "file_name = \"pisces_protbert_testSet0.mat\"  # path gia to nea file pou tha dimiourgithei\r\n",
        "################## MAIN PROGRAM ###########################\r\n",
        "target_name = 1 # target line that has the name of the protein\r\n",
        "target_secondary = 3 # target line that has the primary structure\r\n",
        "count = 1\r\n",
        "new = 0\r\n",
        "while True:\r\n",
        "    # Get next line from file\r\n",
        "    if count % 100 == 0:\r\n",
        "        print(count)\r\n",
        "    line = train.readline()\r\n",
        "    if not line:\r\n",
        "        break\r\n",
        "    if count == target_name:\r\n",
        "        line = line.replace(\"\\n\", \"\")  # remove the newline character in the end of the string\r\n",
        "        line = line.replace(\" \", \"\")\r\n",
        "        line = line.replace(\">\", \"\")\r\n",
        "        name = folder + line + \".npy\"\r\n",
        "        target_name += 3\r\n",
        "        # print(name)\r\n",
        "        if path.exists(name):\r\n",
        "            embedding = np.load(name)\r\n",
        "            a = np.array(embedding)\r\n",
        "            #a = a.flatten()\r\n",
        "            if count == 1:\r\n",
        "                new = a\r\n",
        "            else:\r\n",
        "                new = np.vstack([new, a])\r\n",
        "        else:\r\n",
        "            print(\"Protein not exists: \",name)\r\n",
        "    if count == target_secondary:\r\n",
        "        line = line.replace(\"\\n\", \"\")  # remove the newline character in the end of the string\r\n",
        "        temp = np.zeros((len(line)), dtype=np.short)\r\n",
        "        for j in range(0, len(line)):\r\n",
        "            if line[j] == 'C':\r\n",
        "                temp[j] = 0\r\n",
        "            if line[j] == 'H':\r\n",
        "                temp[j] = 1\r\n",
        "            if line[j] == 'E':\r\n",
        "                temp[j] = 2\r\n",
        "        if count == 3:\r\n",
        "            y = temp\r\n",
        "        else:\r\n",
        "            y = np.append(y, temp, axis=0)\r\n",
        "        target_secondary += 3\r\n",
        "        # scipy.io.savemat(f, {line:arr})\r\n",
        "    count += 1\r\n",
        "hdf5storage.savemat(file_name, {'x': new})\r\n",
        "y = y.reshape(-1,1)\r\n",
        "print(y.shape)\r\n",
        "hdf5storage.savemat(file_name, {'y': y})"
      ],
      "execution_count": null,
      "outputs": []
    }
  ]
}