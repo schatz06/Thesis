{
  "nbformat": 4,
  "nbformat_minor": 0,
  "metadata": {
    "colab": {
      "name": "create_folds.ipynb",
      "provenance": [],
      "collapsed_sections": [],
      "authorship_tag": "ABX9TyNa8fCAWfCHo7Lkvp7U2Y/z",
      "include_colab_link": true
    },
    "kernelspec": {
      "name": "python3",
      "display_name": "Python 3"
    }
  },
  "cells": [
    {
      "cell_type": "markdown",
      "metadata": {
        "id": "view-in-github",
        "colab_type": "text"
      },
      "source": [
        "<a href=\"https://colab.research.google.com/github/schatz06/Thesis/blob/Bio_embeddings/create_folds.ipynb\" target=\"_parent\"><img src=\"https://colab.research.google.com/assets/colab-badge.svg\" alt=\"Open In Colab\"/></a>"
      ]
    },
    {
      "cell_type": "markdown",
      "metadata": {
        "id": "ephlFR80G3W_"
      },
      "source": [
        "Import packages"
      ]
    },
    {
      "cell_type": "code",
      "metadata": {
        "id": "lcmxATMVGSje"
      },
      "source": [
        "import numpy as np"
      ],
      "execution_count": 1,
      "outputs": []
    },
    {
      "cell_type": "markdown",
      "metadata": {
        "id": "VnJhfZNJG6CC"
      },
      "source": [
        "Open files / Create Pointers"
      ]
    },
    {
      "cell_type": "code",
      "metadata": {
        "id": "nc09FDVqG9mg"
      },
      "source": [
        "casp = open(\"CASP13_sorted.txt\",\"r\")\r\n",
        "cb513 = open(\"CB513_sorted.txt\",\"r\")\r\n",
        "pisces = open(\"PISCES_sorted.txt\",\"r\")\r\n"
      ],
      "execution_count": null,
      "outputs": []
    },
    {
      "cell_type": "markdown",
      "metadata": {
        "id": "85BT3gnVIhLz"
      },
      "source": [
        "Read lines"
      ]
    },
    {
      "cell_type": "code",
      "metadata": {
        "id": "d11I95-uIgtD"
      },
      "source": [
        "casp_lines = casp.readlines()\r\n",
        "cb513_lines = cb513.readlines()\r\n",
        "pisces_lines = pisces.readlines()"
      ],
      "execution_count": null,
      "outputs": []
    },
    {
      "cell_type": "markdown",
      "metadata": {
        "id": "id1A5l7WI3C_"
      },
      "source": [
        "CB513 10 FOLD"
      ]
    },
    {
      "cell_type": "code",
      "metadata": {
        "id": "5flbjmTWI6fF"
      },
      "source": [
        ""
      ],
      "execution_count": null,
      "outputs": []
    }
  ]
}