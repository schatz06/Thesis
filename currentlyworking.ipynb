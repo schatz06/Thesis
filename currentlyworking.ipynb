{
  "nbformat": 4,
  "nbformat_minor": 0,
  "metadata": {
    "colab": {
      "name": "embeddings.ipynb",
      "provenance": [],
      "authorship_tag": "ABX9TyPQqATysljRuwknMpFoaIS2",
      "include_colab_link": true
    },
    "kernelspec": {
      "name": "python3",
      "display_name": "Python 3"
    }
  },
  "cells": [
    {
      "cell_type": "markdown",
      "metadata": {
        "id": "view-in-github",
        "colab_type": "text"
      },
      "source": [
        "<a href=\"https://colab.research.google.com/github/schatz06/Thesis/blob/Bio_embeddings/currentlyworking.ipynb\" target=\"_parent\"><img src=\"https://colab.research.google.com/assets/colab-badge.svg\" alt=\"Open In Colab\"/></a>"
      ]
    },
    {
      "cell_type": "markdown",
      "metadata": {
        "id": "UCALaWlbQh5Q"
      },
      "source": [
        "Mount drive"
      ]
    },
    {
      "cell_type": "code",
      "metadata": {
        "id": "X_LGnIwKQhXi"
      },
      "source": [
        "from google.colab import drive\r\n",
        "drive.mount('/content/drive')"
      ],
      "execution_count": null,
      "outputs": []
    },
    {
      "cell_type": "markdown",
      "metadata": {
        "id": "dwnf8kBEOYHE"
      },
      "source": [
        "Install and import embedders"
      ]
    },
    {
      "cell_type": "code",
      "metadata": {
        "id": "E6Ry_SW0M-aC"
      },
      "source": [
        "pip install bio-embeddings[all]"
      ],
      "execution_count": null,
      "outputs": []
    },
    {
      "cell_type": "code",
      "metadata": {
        "id": "COBr5MGOVOEF"
      },
      "source": [
        "from bio_embeddings.embed import seqvec_embedder , prottrans_bert_bfd_embedder"
      ],
      "execution_count": null,
      "outputs": []
    },
    {
      "cell_type": "code",
      "metadata": {
        "id": "D3GO_4_jX25S"
      },
      "source": [
        "embedder_seqvec = seqvec_embedder.SeqVecEmbedder()\n",
        "embedder_protbert= prottrans_bert_bfd_embedder.ProtTransBertBFDEmbedder()\n",
        "max_seq = 1538 # larget sequences in the datasets"
      ],
      "execution_count": 7,
      "outputs": []
    },
    {
      "cell_type": "markdown",
      "metadata": {
        "id": "8XLwIb_OAAqy"
      },
      "source": [
        "Import packages"
      ]
    },
    {
      "cell_type": "code",
      "metadata": {
        "id": "PR2swxTrFzOV"
      },
      "source": [
        "import numpy as np\r\n",
        "from numpy import asarray\r\n",
        "from numpy import savez_compressed\r\n",
        "import os"
      ],
      "execution_count": 8,
      "outputs": []
    },
    {
      "cell_type": "markdown",
      "metadata": {
        "id": "zmV6rmpb1-5o"
      },
      "source": [
        "Generic method to extract ProtBert Embeddings"
      ]
    },
    {
      "cell_type": "code",
      "metadata": {
        "id": "U6CMWpS32DaM"
      },
      "source": [
        "def extract_protBert(max_seq,lines,path,embedder_protbert):\r\n",
        "  max_sequence = max_seq\r\n",
        "  count = 1 # current line\r\n",
        "  target_name = 1 # target line that has the name of the protein \r\n",
        "  target_primary = 2 # target line that has the primary structure \r\n",
        "  for line in lines:\r\n",
        "    print(count)\r\n",
        "    if count == target_name:\r\n",
        "      line = line.replace(\"\\n\",\"\") # remove the newline character in the end of the string\r\n",
        "      line = line.replace(\" \",\"\")\r\n",
        "      line = line.replace(\">\",\"\") \r\n",
        "      path_to_save = path + '/' + line\r\n",
        "      target_name +=3\r\n",
        "    if count == target_primary:\r\n",
        "      line = line.replace(\"\\n\",\"\") # remove the newline character in the end of the string \r\n",
        "      embedding_protbert = embedder_protbert.embed(line) # extract the embeddings \r\n",
        "      padding = max_sequence - embedding_protbert.shape[0]\r\n",
        "      embedding_protbert = np.pad(embedding_protbert,((0,padding),(0,0)),mode='constant',constant_values = 0) # apply zero padding at the end \r\n",
        "      savez_compressed(path_to_save,embedding_protbert) # save the embedding in a new txt in a directory \r\n",
        "      target_primary +=3\r\n",
        "    count+=1"
      ],
      "execution_count": 9,
      "outputs": []
    },
    {
      "cell_type": "markdown",
      "metadata": {
        "id": "Ib0MLqhK2DuP"
      },
      "source": [
        "Generic method to extract SeqVec Embeddings "
      ]
    },
    {
      "cell_type": "code",
      "metadata": {
        "id": "R1bYDEb-2Hj-"
      },
      "source": [
        "def extract_seqVec(max_seq,lines,path,embedder_seqvec):\r\n",
        "  max_sequence = max_seq \r\n",
        "  count = 1 # current line\r\n",
        "  target_name = 1 # target line that has the name of the protein \r\n",
        "  target_primary = 2 # target line that has the primary structure \r\n",
        "  for line in lines:\r\n",
        "    print(count)\r\n",
        "    if count == target_name:\r\n",
        "      line = line.replace(\"\\n\",\"\") # remove the newline character in the end of the string\r\n",
        "      line = line.replace(\" \",\"\")\r\n",
        "      line = line.replace(\">\",\"\")\r\n",
        "      path_to_save = path + '/' + line\r\n",
        "      target_name +=3\r\n",
        "    if count == target_primary:\r\n",
        "      line = line.replace(\"\\n\",\"\") # remove the newline character in the end of the string \r\n",
        "      embedding_seqvec = embedder_seqvec.embed(line) # extract the embeddings \r\n",
        "      padding = max_sequence - embedding_seqvec.shape[1]\r\n",
        "      embedding_seqvec = np.pad(embedding_seqvec,((0,0),(0,padding),(0,0)),mode='constant',constant_values = 0) # apply zero padding at the end \r\n",
        "      embedding_seqvec = embedding_seqvec.reshape(embedding_seqvec.shape[0], -1) # convert 3d matrix to 2d matrix in order to be able to save it \r\n",
        "      savez_compressed(path_to_save,embedding_seqvec) # save the embedding in a new txt in a directory \r\n",
        "      target_primary +=3\r\n",
        "    count+=1"
      ],
      "execution_count": 10,
      "outputs": []
    },
    {
      "cell_type": "markdown",
      "metadata": {
        "id": "DPuecTRJsq96"
      },
      "source": [
        "Create new directories to save the embeddings "
      ]
    },
    {
      "cell_type": "code",
      "metadata": {
        "id": "MIyWGcCm8Irj"
      },
      "source": [
        "!rm -rf PISCES_ProtBert\r\n",
        "!rm -rf PISCES_SeqVec"
      ],
      "execution_count": 32,
      "outputs": []
    },
    {
      "cell_type": "code",
      "metadata": {
        "id": "FlAXJI5_stzq"
      },
      "source": [
        "path = os.getcwd() # get the current directory\r\n",
        "path_CASP_protBert = path + '/CASP13_ProtBert' \r\n",
        "path_CASP_seqVec = path + '/CASP13_SeqVec' \r\n",
        "path_CB513_protBert = path + '/CB513_ProtBert' \r\n",
        "path_CB513_seqVec = path + '/CB513_SeqVec' \r\n",
        "path_PISCES_protBert = path + '/PISCES_ProtBert' \r\n",
        "path_PISCES_seqVec = path + '/PISCES_SeqVec'\r\n",
        "os.mkdir(path_PISCES_protBert)\r\n",
        "os.mkdir(path_PISCES_seqVec)\r\n",
        "os.mkdir(path_CASP_seqVec)\r\n",
        "os.mkdir(path_CASP_protBert)\r\n",
        "os.mkdir(path_CB513_protBert)\r\n",
        "os.mkdir(path_CB513_seqVec)\r\n"
      ],
      "execution_count": null,
      "outputs": []
    },
    {
      "cell_type": "markdown",
      "metadata": {
        "id": "3jtHVJz7ADlI"
      },
      "source": [
        "Open files/ Create pointers"
      ]
    },
    {
      "cell_type": "code",
      "metadata": {
        "id": "QHwehH3IAFfb"
      },
      "source": [
        "#casp = open(\"CASP13_3class.txt\",\"r\")\r\n",
        "#cb513 = open(\"CB513_3class.txt\",\"r\")\r\n",
        "pisces = open(\"set3.txt\",\"r\")"
      ],
      "execution_count": 34,
      "outputs": []
    },
    {
      "cell_type": "markdown",
      "metadata": {
        "id": "wxQYbISPAJWQ"
      },
      "source": [
        "Read lines"
      ]
    },
    {
      "cell_type": "code",
      "metadata": {
        "id": "axyHzrEkAKZV"
      },
      "source": [
        "#casp_lines = casp.readlines()\r\n",
        "#cb513_lines = cb513.readlines()\r\n",
        "pisces_lines = pisces.readlines()"
      ],
      "execution_count": 35,
      "outputs": []
    },
    {
      "cell_type": "markdown",
      "metadata": {
        "id": "9-WNvAwfAhOP"
      },
      "source": [
        "Extract SeqVec and ProtBert embeddings for CASP13"
      ]
    },
    {
      "cell_type": "code",
      "metadata": {
        "id": "h5xB0xcoAluZ"
      },
      "source": [
        "extract_protBert(max_seq,casp_lines,path_CASP_protBert,embedder_protbert)"
      ],
      "execution_count": null,
      "outputs": []
    },
    {
      "cell_type": "code",
      "metadata": {
        "id": "cPOBMLYf87te"
      },
      "source": [
        "extract_seqVec(max_seq,casp_lines,path_CASP_seqVec,embedder_seqvec)"
      ],
      "execution_count": null,
      "outputs": []
    },
    {
      "cell_type": "markdown",
      "metadata": {
        "id": "KskDddPCAmDT"
      },
      "source": [
        "Extract SeqVec and ProtBert embeddings for CB513\r\n",
        "\r\n",
        "\r\n"
      ]
    },
    {
      "cell_type": "code",
      "metadata": {
        "id": "8IQHN3BeAp63"
      },
      "source": [
        "extract_protBert(max_seq,cb513_lines,path_CB513_protBert,embedder_protbert)"
      ],
      "execution_count": null,
      "outputs": []
    },
    {
      "cell_type": "code",
      "metadata": {
        "id": "_7SSedMJ9Axj"
      },
      "source": [
        "extract_seqVec(max_seq,cb513_lines,path_CB513_seqVec,embedder_seqvec)"
      ],
      "execution_count": null,
      "outputs": []
    },
    {
      "cell_type": "markdown",
      "metadata": {
        "id": "F6qwv-OUAqa8"
      },
      "source": [
        "Extract SeqVec and ProtBert embeddings for PISCES"
      ]
    },
    {
      "cell_type": "code",
      "metadata": {
        "id": "DSbCx94GAz0w"
      },
      "source": [
        "extract_protBert(max_seq,pisces_lines,path_PISCES_protBert,embedder_protbert)"
      ],
      "execution_count": null,
      "outputs": []
    },
    {
      "cell_type": "code",
      "metadata": {
        "id": "aVQvqyMtpNnF"
      },
      "source": [
        "extract_seqVec(max_seq,pisces_lines,path_PISCES_seqVec,embedder_seqvec)"
      ],
      "execution_count": null,
      "outputs": []
    },
    {
      "cell_type": "markdown",
      "metadata": {
        "id": "E5uAc6pl50vT"
      },
      "source": [
        "How to load a numpy array"
      ]
    },
    {
      "cell_type": "code",
      "metadata": {
        "id": "kiMwCxq3qPgE"
      },
      "source": [
        "from numpy import loadtxt\r\n",
        "# load array\r\n",
        "data = loadtxt('/content/> 6btc_1_protBert.txt', delimiter=',')\r\n",
        "print(data.shape)\r\n",
        "#19:13 - 452 vrkltrtlbtkb tlkbltkbltkb bltbtmbltb tlbmtmlbt ltmbtlmb t\r\n",
        "#19:22 - 1691 fijfrejore gerigjegoejgroejerg ergojojog gerogjerog\r\n",
        "#19:33 - 2549 fingdktgndtgjigjdjgdfgjkjgk fgkjkjgkfd fdkgfdjgkj \r\n",
        "#19:49 - 3563 rjkgrjtgotgjtojrdogdrg rgodrjgdigndtgdngkd gdkgjrdgkrjgr gdkgjgtibfbjdbng \r\n",
        "#19:58 - 4094 jcrojojgtngontr gtogjtgogjtrg trgorjgt \r\n",
        "#20:16 - finish first set hrhrhrhrh \r\n",
        "\r\n",
        "#Set 2 started 4026 total lines\r\n",
        "#ProtBert \r\n",
        "#20:34 - 1010 Prot bert\r\n",
        "#20:56 - 2510 ProtBert\r\n",
        "#SeqVec\r\n",
        "#21:27 - 200 SeqVec\r\n",
        "#21:57 - 1583 SeqVec\r\n",
        "#10:14 - 2279 SeqVec\r\n",
        "#10:29 - 2906 SeqVec\r\n",
        "#Set 3 started 4068 total lines\r\n",
        "#ProtBert \r\n",
        "#11:16 - 569 Prot Bert\r\n",
        "#11:30 - 1376 ProtBert\r\n",
        "#11:51 - 2408 ProtBert\r\n",
        "#12:01 - 2924 ProtBert\r\n",
        "#12:18 - 3713 ProtBert \r\n"
      ],
      "execution_count": null,
      "outputs": []
    },
    {
      "cell_type": "markdown",
      "metadata": {
        "id": "ho0hovGL63Vj"
      },
      "source": [
        "Load a 2d array and convert it to a 3d array"
      ]
    },
    {
      "cell_type": "code",
      "metadata": {
        "id": "mIqLW_cK66vT"
      },
      "source": [
        "\r\n",
        "import numpy as gfg \r\n",
        "  \r\n",
        "  \r\n",
        "arr = gfg.random.rand(5, 4, 3) \r\n",
        "print(arr)  \r\n",
        "# reshaping the array from 3D \r\n",
        "# matrice to 2D matrice. \r\n",
        "arr_reshaped = arr.reshape(arr.shape[0], -1) \r\n",
        "  \r\n",
        "# saving reshaped array to file. \r\n",
        "gfg.savetxt(\"geekfile.txt\", arr_reshaped) \r\n",
        "  \r\n",
        "# retrieving data from file. \r\n",
        "loaded_arr = gfg.loadtxt(\"geekfile.txt\") \r\n",
        "  \r\n",
        "# This loadedArr is a 2D array, therefore \r\n",
        "# we need to convert it to the original \r\n",
        "# array shape.reshaping to get original \r\n",
        "# matrice with original shape. \r\n",
        "load_original_arr = loaded_arr.reshape( \r\n",
        "    loaded_arr.shape[0], loaded_arr.shape[1] // arr.shape[2], arr.shape[2]) \r\n",
        "  \r\n",
        "# check the shapes: \r\n",
        "print(\"shape of arr: \", arr.shape) \r\n",
        "print(\"shape of load_original_arr: \", load_original_arr.shape) \r\n",
        "  \r\n",
        "# check if both arrays are same or not: \r\n",
        "if (load_original_arr == arr).all(): \r\n",
        "    print(\"Yes, both the arrays are same\") \r\n",
        "else: \r\n",
        "    print(\"No, both the arrays are not same\") \r\n",
        "print(arr)"
      ],
      "execution_count": null,
      "outputs": []
    },
    {
      "cell_type": "markdown",
      "metadata": {
        "id": "ks7N4o4lLY9g"
      },
      "source": [
        "Zip folders"
      ]
    },
    {
      "cell_type": "code",
      "metadata": {
        "id": "R8DwKAzJLa_S"
      },
      "source": [
        "#!zip -r /content/CASP13_ProtBert.zip /content/CASP13_ProtBert\r\n",
        "#!zip -r /content/CASP13_SeqVec.zip /content/CASP13_SeqVec\r\n",
        "#!zip -r /content/CB513_ProtBert.zip /content/CB513_ProtBert\r\n",
        "#!zip -r /content/CB513_SeqVec.zip /content/CB513_SeqVec\r\n",
        "!zip -r /content/PISCES_ProtBert.zip /content/PISCES_ProtBert\r\n",
        "#!zip -r /content/PISCES_SeqVec.zip /content/PISCES_SeqVec"
      ],
      "execution_count": null,
      "outputs": []
    }
  ]
}