{
  "nbformat": 4,
  "nbformat_minor": 0,
  "metadata": {
    "colab": {
      "name": "embeddings.ipynb",
      "provenance": [],
      "authorship_tag": "ABX9TyNU65w0N58npGq6MAZ7jkvl",
      "include_colab_link": true
    },
    "kernelspec": {
      "name": "python3",
      "display_name": "Python 3"
    }
  },
  "cells": [
    {
      "cell_type": "markdown",
      "metadata": {
        "id": "view-in-github",
        "colab_type": "text"
      },
      "source": [
        "<a href=\"https://colab.research.google.com/github/schatz06/Thesis/blob/Bio_embeddings/embeddings.ipynb\" target=\"_parent\"><img src=\"https://colab.research.google.com/assets/colab-badge.svg\" alt=\"Open In Colab\"/></a>"
      ]
    },
    {
      "cell_type": "markdown",
      "metadata": {
        "id": "dwnf8kBEOYHE"
      },
      "source": [
        "Install and import embedders"
      ]
    },
    {
      "cell_type": "code",
      "metadata": {
        "id": "E6Ry_SW0M-aC"
      },
      "source": [
        "pip install bio-embeddings[all]"
      ],
      "execution_count": null,
      "outputs": []
    },
    {
      "cell_type": "code",
      "metadata": {
        "id": "COBr5MGOVOEF"
      },
      "source": [
        "from bio_embeddings.embed import seqvec_embedder , prottrans_bert_bfd_embedder"
      ],
      "execution_count": 2,
      "outputs": []
    },
    {
      "cell_type": "code",
      "metadata": {
        "id": "D3GO_4_jX25S"
      },
      "source": [
        "embedder_one = seqvec_embedder.SeqVecEmbedder()\n",
        "embedder_two = prottrans_bert_bfd_embedder.ProtTransBertBFDEmbedder()"
      ],
      "execution_count": null,
      "outputs": []
    },
    {
      "cell_type": "code",
      "metadata": {
        "id": "PR2swxTrFzOV"
      },
      "source": [
        "import numpy as np"
      ],
      "execution_count": 4,
      "outputs": []
    },
    {
      "cell_type": "markdown",
      "metadata": {
        "id": "K75ILeFEOSke"
      },
      "source": [
        "Embed sequences "
      ]
    },
    {
      "cell_type": "code",
      "metadata": {
        "id": "d1AUfFr7YkAp"
      },
      "source": [
        "embedding_one = embedder_one.embed(\"SEQWENCE\")\n",
        "embedding_two = embedder_two.embed(\"SEQWENCE\")"
      ],
      "execution_count": null,
      "outputs": []
    },
    {
      "cell_type": "markdown",
      "metadata": {
        "id": "z-4fZLy1OQf6"
      },
      "source": [
        "Print embedding shapes"
      ]
    },
    {
      "cell_type": "code",
      "metadata": {
        "id": "l2fvsS2EYpsM"
      },
      "source": [
        "print(embedding_one.shape)\n",
        "print(embedding_two.shape)"
      ],
      "execution_count": null,
      "outputs": []
    },
    {
      "cell_type": "markdown",
      "metadata": {
        "id": "PY2Sa_PzMoHB"
      },
      "source": [
        "Padding for prot bert embedder "
      ]
    },
    {
      "cell_type": "code",
      "metadata": {
        "id": "JfujKoiZJWxE"
      },
      "source": [
        "print(embedding_two.shape)\r\n",
        "max_sequence = 1024\r\n",
        "padding = max_sequence - embedding_two.shape[0]\r\n",
        "embedding_two = np.pad(embedding_two,((padding,0),(0,0)),mode='constant',constant_values = 0)\r\n",
        "print(embedding_two.shape)"
      ],
      "execution_count": null,
      "outputs": []
    },
    {
      "cell_type": "markdown",
      "metadata": {
        "id": "3sw9f8vcMs5L"
      },
      "source": [
        "Padding for seqVec embedder "
      ]
    },
    {
      "cell_type": "code",
      "metadata": {
        "id": "0xMGeBMaMvoH"
      },
      "source": [
        "print(embedding_one.shape)\r\n",
        "max_sequence = 1024\r\n",
        "padding = max_sequence - embedding_one.shape[1]\r\n",
        "embedding_one = np.pad(embedding_one,((0,0),(padding,0),(0,0)),mode='constant',constant_values = 0)\r\n",
        "print(embedding_one.shape)"
      ],
      "execution_count": null,
      "outputs": []
    }
  ]
}