{
  "nbformat": 4,
  "nbformat_minor": 0,
  "metadata": {
    "colab": {
      "name": "embeddings.ipynb",
      "provenance": [],
      "authorship_tag": "ABX9TyMWL6to0d/rQvtUP/qOxJ/C",
      "include_colab_link": true
    },
    "kernelspec": {
      "name": "python3",
      "display_name": "Python 3"
    }
  },
  "cells": [
    {
      "cell_type": "markdown",
      "metadata": {
        "id": "view-in-github",
        "colab_type": "text"
      },
      "source": [
        "<a href=\"https://colab.research.google.com/github/schatz06/Thesis/blob/Bio_embeddings/embeddings.ipynb\" target=\"_parent\"><img src=\"https://colab.research.google.com/assets/colab-badge.svg\" alt=\"Open In Colab\"/></a>"
      ]
    },
    {
      "cell_type": "markdown",
      "metadata": {
        "id": "dwnf8kBEOYHE"
      },
      "source": [
        "Install and import embedders"
      ]
    },
    {
      "cell_type": "code",
      "metadata": {
        "id": "E6Ry_SW0M-aC",
        "colab": {
          "base_uri": "https://localhost:8080/"
        },
        "outputId": "8531d76f-55f3-4baf-8dbb-948e29391cdb"
      },
      "source": [
        "pip install bio-embeddings[all]"
      ],
      "execution_count": 2,
      "outputs": [
        {
          "output_type": "stream",
          "text": [
            "Requirement already satisfied: bio-embeddings[all] in /usr/local/lib/python3.6/dist-packages (0.1.4)\n",
            "Requirement already satisfied: importlib_metadata<2.0.0,>=1.7.0 in /usr/local/lib/python3.6/dist-packages (from bio-embeddings[all]) (1.7.0)\n",
            "Requirement already satisfied: torch<1.6.0,>=1.5.0 in /usr/local/lib/python3.6/dist-packages (from bio-embeddings[all]) (1.5.1)\n",
            "Requirement already satisfied: ruamel.yaml<0.17.0,>=0.16.10 in /usr/local/lib/python3.6/dist-packages (from bio-embeddings[all]) (0.16.12)\n",
            "Requirement already satisfied: gensim<4.0.0,>=3.8.2 in /usr/local/lib/python3.6/dist-packages (from bio-embeddings[all]) (3.8.3)\n",
            "Requirement already satisfied: plotly<5.0.0,>=4.6.0 in /usr/local/lib/python3.6/dist-packages (from bio-embeddings[all]) (4.14.1)\n",
            "Requirement already satisfied: appdirs<2.0.0,>=1.4.4 in /usr/local/lib/python3.6/dist-packages (from bio-embeddings[all]) (1.4.4)\n",
            "Requirement already satisfied: matplotlib<4.0.0,>=3.2.1 in /usr/local/lib/python3.6/dist-packages (from bio-embeddings[all]) (3.2.2)\n",
            "Requirement already satisfied: scikit-learn<0.23.0,>=0.22.2.post1 in /usr/local/lib/python3.6/dist-packages (from bio-embeddings[all]) (0.22.2.post1)\n",
            "Requirement already satisfied: scipy<2.0.0,>=1.4.1 in /usr/local/lib/python3.6/dist-packages (from bio-embeddings[all]) (1.4.1)\n",
            "Requirement already satisfied: umap-learn<0.5.0,>=0.4.2 in /usr/local/lib/python3.6/dist-packages (from bio-embeddings[all]) (0.4.6)\n",
            "Requirement already satisfied: h5py<3.0.0,>=2.10.0 in /usr/local/lib/python3.6/dist-packages (from bio-embeddings[all]) (2.10.0)\n",
            "Requirement already satisfied: biopython<2.0,>=1.76 in /usr/local/lib/python3.6/dist-packages (from bio-embeddings[all]) (1.78)\n",
            "Requirement already satisfied: pandas<2.0.0,>=1.0.3 in /usr/local/lib/python3.6/dist-packages (from bio-embeddings[all]) (1.1.5)\n",
            "Requirement already satisfied: lock<2019.0.0,>=2018.3.25 in /usr/local/lib/python3.6/dist-packages (from bio-embeddings[all]) (2018.3.25.2110)\n",
            "Requirement already satisfied: numpy<2.0.0,>=1.18.3 in /usr/local/lib/python3.6/dist-packages (from bio-embeddings[all]) (1.19.4)\n",
            "Requirement already satisfied: tqdm<5.0.0,>=4.45.0 in /usr/local/lib/python3.6/dist-packages (from bio-embeddings[all]) (4.55.1)\n",
            "Requirement already satisfied: allennlp<0.10.0,>=0.9.0; extra == \"seqvec\" or extra == \"all\" in /usr/local/lib/python3.6/dist-packages (from bio-embeddings[all]) (0.9.0)\n",
            "Requirement already satisfied: transformers<4.0.0,>=3.1.0; extra == \"transformers\" or extra == \"all\" in /usr/local/lib/python3.6/dist-packages (from bio-embeddings[all]) (3.5.1)\n",
            "Requirement already satisfied: jax-unirep<2.0.0,>=1.0.1; extra == \"unirep\" or extra == \"all\" in /usr/local/lib/python3.6/dist-packages (from bio-embeddings[all]) (1.0.3)\n",
            "Requirement already satisfied: zipp>=0.5 in /usr/local/lib/python3.6/dist-packages (from importlib_metadata<2.0.0,>=1.7.0->bio-embeddings[all]) (3.4.0)\n",
            "Requirement already satisfied: future in /usr/local/lib/python3.6/dist-packages (from torch<1.6.0,>=1.5.0->bio-embeddings[all]) (0.16.0)\n",
            "Requirement already satisfied: ruamel.yaml.clib>=0.1.2; platform_python_implementation == \"CPython\" and python_version < \"3.9\" in /usr/local/lib/python3.6/dist-packages (from ruamel.yaml<0.17.0,>=0.16.10->bio-embeddings[all]) (0.2.2)\n",
            "Requirement already satisfied: six>=1.5.0 in /usr/local/lib/python3.6/dist-packages (from gensim<4.0.0,>=3.8.2->bio-embeddings[all]) (1.15.0)\n",
            "Requirement already satisfied: smart-open>=1.8.1 in /usr/local/lib/python3.6/dist-packages (from gensim<4.0.0,>=3.8.2->bio-embeddings[all]) (4.0.1)\n",
            "Requirement already satisfied: retrying>=1.3.3 in /usr/local/lib/python3.6/dist-packages (from plotly<5.0.0,>=4.6.0->bio-embeddings[all]) (1.3.3)\n",
            "Requirement already satisfied: cycler>=0.10 in /usr/local/lib/python3.6/dist-packages (from matplotlib<4.0.0,>=3.2.1->bio-embeddings[all]) (0.10.0)\n",
            "Requirement already satisfied: pyparsing!=2.0.4,!=2.1.2,!=2.1.6,>=2.0.1 in /usr/local/lib/python3.6/dist-packages (from matplotlib<4.0.0,>=3.2.1->bio-embeddings[all]) (2.4.7)\n",
            "Requirement already satisfied: kiwisolver>=1.0.1 in /usr/local/lib/python3.6/dist-packages (from matplotlib<4.0.0,>=3.2.1->bio-embeddings[all]) (1.3.1)\n",
            "Requirement already satisfied: python-dateutil>=2.1 in /usr/local/lib/python3.6/dist-packages (from matplotlib<4.0.0,>=3.2.1->bio-embeddings[all]) (2.8.1)\n",
            "Requirement already satisfied: joblib>=0.11 in /usr/local/lib/python3.6/dist-packages (from scikit-learn<0.23.0,>=0.22.2.post1->bio-embeddings[all]) (1.0.0)\n",
            "Requirement already satisfied: numba!=0.47,>=0.46 in /usr/local/lib/python3.6/dist-packages (from umap-learn<0.5.0,>=0.4.2->bio-embeddings[all]) (0.48.0)\n",
            "Requirement already satisfied: pytz>=2017.2 in /usr/local/lib/python3.6/dist-packages (from pandas<2.0.0,>=1.0.3->bio-embeddings[all]) (2018.9)\n",
            "Requirement already satisfied: pytorch-pretrained-bert>=0.6.0 in /usr/local/lib/python3.6/dist-packages (from allennlp<0.10.0,>=0.9.0; extra == \"seqvec\" or extra == \"all\"->bio-embeddings[all]) (0.6.2)\n",
            "Requirement already satisfied: boto3 in /usr/local/lib/python3.6/dist-packages (from allennlp<0.10.0,>=0.9.0; extra == \"seqvec\" or extra == \"all\"->bio-embeddings[all]) (1.16.47)\n",
            "Requirement already satisfied: gevent>=1.3.6 in /usr/local/lib/python3.6/dist-packages (from allennlp<0.10.0,>=0.9.0; extra == \"seqvec\" or extra == \"all\"->bio-embeddings[all]) (20.12.1)\n",
            "Requirement already satisfied: spacy<2.2,>=2.1.0 in /usr/local/lib/python3.6/dist-packages (from allennlp<0.10.0,>=0.9.0; extra == \"seqvec\" or extra == \"all\"->bio-embeddings[all]) (2.1.9)\n",
            "Requirement already satisfied: pytorch-transformers==1.1.0 in /usr/local/lib/python3.6/dist-packages (from allennlp<0.10.0,>=0.9.0; extra == \"seqvec\" or extra == \"all\"->bio-embeddings[all]) (1.1.0)\n",
            "Requirement already satisfied: parsimonious>=0.8.0 in /usr/local/lib/python3.6/dist-packages (from allennlp<0.10.0,>=0.9.0; extra == \"seqvec\" or extra == \"all\"->bio-embeddings[all]) (0.8.1)\n",
            "Requirement already satisfied: overrides in /usr/local/lib/python3.6/dist-packages (from allennlp<0.10.0,>=0.9.0; extra == \"seqvec\" or extra == \"all\"->bio-embeddings[all]) (3.1.0)\n",
            "Requirement already satisfied: sqlparse>=0.2.4 in /usr/local/lib/python3.6/dist-packages (from allennlp<0.10.0,>=0.9.0; extra == \"seqvec\" or extra == \"all\"->bio-embeddings[all]) (0.4.1)\n",
            "Requirement already satisfied: requests>=2.18 in /usr/local/lib/python3.6/dist-packages (from allennlp<0.10.0,>=0.9.0; extra == \"seqvec\" or extra == \"all\"->bio-embeddings[all]) (2.23.0)\n",
            "Requirement already satisfied: nltk in /usr/local/lib/python3.6/dist-packages (from allennlp<0.10.0,>=0.9.0; extra == \"seqvec\" or extra == \"all\"->bio-embeddings[all]) (3.2.5)\n",
            "Requirement already satisfied: ftfy in /usr/local/lib/python3.6/dist-packages (from allennlp<0.10.0,>=0.9.0; extra == \"seqvec\" or extra == \"all\"->bio-embeddings[all]) (5.8)\n",
            "Requirement already satisfied: tensorboardX>=1.2 in /usr/local/lib/python3.6/dist-packages (from allennlp<0.10.0,>=0.9.0; extra == \"seqvec\" or extra == \"all\"->bio-embeddings[all]) (2.1)\n",
            "Requirement already satisfied: conllu==1.3.1 in /usr/local/lib/python3.6/dist-packages (from allennlp<0.10.0,>=0.9.0; extra == \"seqvec\" or extra == \"all\"->bio-embeddings[all]) (1.3.1)\n",
            "Requirement already satisfied: word2number>=1.1 in /usr/local/lib/python3.6/dist-packages (from allennlp<0.10.0,>=0.9.0; extra == \"seqvec\" or extra == \"all\"->bio-embeddings[all]) (1.1)\n",
            "Requirement already satisfied: pytest in /usr/local/lib/python3.6/dist-packages (from allennlp<0.10.0,>=0.9.0; extra == \"seqvec\" or extra == \"all\"->bio-embeddings[all]) (3.6.4)\n",
            "Requirement already satisfied: flask>=1.0.2 in /usr/local/lib/python3.6/dist-packages (from allennlp<0.10.0,>=0.9.0; extra == \"seqvec\" or extra == \"all\"->bio-embeddings[all]) (1.1.2)\n",
            "Requirement already satisfied: unidecode in /usr/local/lib/python3.6/dist-packages (from allennlp<0.10.0,>=0.9.0; extra == \"seqvec\" or extra == \"all\"->bio-embeddings[all]) (1.1.2)\n",
            "Requirement already satisfied: numpydoc>=0.8.0 in /usr/local/lib/python3.6/dist-packages (from allennlp<0.10.0,>=0.9.0; extra == \"seqvec\" or extra == \"all\"->bio-embeddings[all]) (1.1.0)\n",
            "Requirement already satisfied: flask-cors>=3.0.7 in /usr/local/lib/python3.6/dist-packages (from allennlp<0.10.0,>=0.9.0; extra == \"seqvec\" or extra == \"all\"->bio-embeddings[all]) (3.0.9)\n",
            "Requirement already satisfied: responses>=0.7 in /usr/local/lib/python3.6/dist-packages (from allennlp<0.10.0,>=0.9.0; extra == \"seqvec\" or extra == \"all\"->bio-embeddings[all]) (0.12.1)\n",
            "Requirement already satisfied: jsonnet>=0.10.0; sys_platform != \"win32\" in /usr/local/lib/python3.6/dist-packages (from allennlp<0.10.0,>=0.9.0; extra == \"seqvec\" or extra == \"all\"->bio-embeddings[all]) (0.17.0)\n",
            "Requirement already satisfied: flaky in /usr/local/lib/python3.6/dist-packages (from allennlp<0.10.0,>=0.9.0; extra == \"seqvec\" or extra == \"all\"->bio-embeddings[all]) (3.7.0)\n",
            "Requirement already satisfied: jsonpickle in /usr/local/lib/python3.6/dist-packages (from allennlp<0.10.0,>=0.9.0; extra == \"seqvec\" or extra == \"all\"->bio-embeddings[all]) (1.4.2)\n",
            "Requirement already satisfied: editdistance in /usr/local/lib/python3.6/dist-packages (from allennlp<0.10.0,>=0.9.0; extra == \"seqvec\" or extra == \"all\"->bio-embeddings[all]) (0.5.3)\n",
            "Requirement already satisfied: tokenizers==0.9.3 in /usr/local/lib/python3.6/dist-packages (from transformers<4.0.0,>=3.1.0; extra == \"transformers\" or extra == \"all\"->bio-embeddings[all]) (0.9.3)\n",
            "Requirement already satisfied: sentencepiece==0.1.91 in /usr/local/lib/python3.6/dist-packages (from transformers<4.0.0,>=3.1.0; extra == \"transformers\" or extra == \"all\"->bio-embeddings[all]) (0.1.91)\n",
            "Requirement already satisfied: filelock in /usr/local/lib/python3.6/dist-packages (from transformers<4.0.0,>=3.1.0; extra == \"transformers\" or extra == \"all\"->bio-embeddings[all]) (3.0.12)\n",
            "Requirement already satisfied: dataclasses; python_version < \"3.7\" in /usr/local/lib/python3.6/dist-packages (from transformers<4.0.0,>=3.1.0; extra == \"transformers\" or extra == \"all\"->bio-embeddings[all]) (0.8)\n",
            "Requirement already satisfied: packaging in /usr/local/lib/python3.6/dist-packages (from transformers<4.0.0,>=3.1.0; extra == \"transformers\" or extra == \"all\"->bio-embeddings[all]) (20.8)\n",
            "Requirement already satisfied: sacremoses in /usr/local/lib/python3.6/dist-packages (from transformers<4.0.0,>=3.1.0; extra == \"transformers\" or extra == \"all\"->bio-embeddings[all]) (0.0.43)\n",
            "Requirement already satisfied: regex!=2019.12.17 in /usr/local/lib/python3.6/dist-packages (from transformers<4.0.0,>=3.1.0; extra == \"transformers\" or extra == \"all\"->bio-embeddings[all]) (2019.12.20)\n",
            "Requirement already satisfied: protobuf in /usr/local/lib/python3.6/dist-packages (from transformers<4.0.0,>=3.1.0; extra == \"transformers\" or extra == \"all\"->bio-embeddings[all]) (3.12.4)\n",
            "Requirement already satisfied: multipledispatch in /usr/local/lib/python3.6/dist-packages (from jax-unirep<2.0.0,>=1.0.1; extra == \"unirep\" or extra == \"all\"->bio-embeddings[all]) (0.6.0)\n",
            "Requirement already satisfied: jax<0.2.0 in /usr/local/lib/python3.6/dist-packages (from jax-unirep<2.0.0,>=1.0.1; extra == \"unirep\" or extra == \"all\"->bio-embeddings[all]) (0.1.77)\n",
            "Requirement already satisfied: jaxlib in /usr/local/lib/python3.6/dist-packages (from jax-unirep<2.0.0,>=1.0.1; extra == \"unirep\" or extra == \"all\"->bio-embeddings[all]) (0.1.57+cuda101)\n",
            "Requirement already satisfied: optuna in /usr/local/lib/python3.6/dist-packages (from jax-unirep<2.0.0,>=1.0.1; extra == \"unirep\" or extra == \"all\"->bio-embeddings[all]) (2.3.0)\n",
            "Requirement already satisfied: llvmlite<0.32.0,>=0.31.0dev0 in /usr/local/lib/python3.6/dist-packages (from numba!=0.47,>=0.46->umap-learn<0.5.0,>=0.4.2->bio-embeddings[all]) (0.31.0)\n",
            "Requirement already satisfied: setuptools in /usr/local/lib/python3.6/dist-packages (from numba!=0.47,>=0.46->umap-learn<0.5.0,>=0.4.2->bio-embeddings[all]) (51.0.0)\n",
            "Requirement already satisfied: s3transfer<0.4.0,>=0.3.0 in /usr/local/lib/python3.6/dist-packages (from boto3->allennlp<0.10.0,>=0.9.0; extra == \"seqvec\" or extra == \"all\"->bio-embeddings[all]) (0.3.3)\n",
            "Requirement already satisfied: botocore<1.20.0,>=1.19.47 in /usr/local/lib/python3.6/dist-packages (from boto3->allennlp<0.10.0,>=0.9.0; extra == \"seqvec\" or extra == \"all\"->bio-embeddings[all]) (1.19.47)\n",
            "Requirement already satisfied: jmespath<1.0.0,>=0.7.1 in /usr/local/lib/python3.6/dist-packages (from boto3->allennlp<0.10.0,>=0.9.0; extra == \"seqvec\" or extra == \"all\"->bio-embeddings[all]) (0.10.0)\n",
            "Requirement already satisfied: zope.event in /usr/local/lib/python3.6/dist-packages (from gevent>=1.3.6->allennlp<0.10.0,>=0.9.0; extra == \"seqvec\" or extra == \"all\"->bio-embeddings[all]) (4.5.0)\n",
            "Requirement already satisfied: zope.interface in /usr/local/lib/python3.6/dist-packages (from gevent>=1.3.6->allennlp<0.10.0,>=0.9.0; extra == \"seqvec\" or extra == \"all\"->bio-embeddings[all]) (5.2.0)\n",
            "Requirement already satisfied: greenlet<2.0,>=0.4.17; platform_python_implementation == \"CPython\" in /usr/local/lib/python3.6/dist-packages (from gevent>=1.3.6->allennlp<0.10.0,>=0.9.0; extra == \"seqvec\" or extra == \"all\"->bio-embeddings[all]) (0.4.17)\n",
            "Requirement already satisfied: plac<1.0.0,>=0.9.6 in /usr/local/lib/python3.6/dist-packages (from spacy<2.2,>=2.1.0->allennlp<0.10.0,>=0.9.0; extra == \"seqvec\" or extra == \"all\"->bio-embeddings[all]) (0.9.6)\n",
            "Requirement already satisfied: blis<0.3.0,>=0.2.2 in /usr/local/lib/python3.6/dist-packages (from spacy<2.2,>=2.1.0->allennlp<0.10.0,>=0.9.0; extra == \"seqvec\" or extra == \"all\"->bio-embeddings[all]) (0.2.4)\n",
            "Requirement already satisfied: thinc<7.1.0,>=7.0.8 in /usr/local/lib/python3.6/dist-packages (from spacy<2.2,>=2.1.0->allennlp<0.10.0,>=0.9.0; extra == \"seqvec\" or extra == \"all\"->bio-embeddings[all]) (7.0.8)\n",
            "Requirement already satisfied: srsly<1.1.0,>=0.0.6 in /usr/local/lib/python3.6/dist-packages (from spacy<2.2,>=2.1.0->allennlp<0.10.0,>=0.9.0; extra == \"seqvec\" or extra == \"all\"->bio-embeddings[all]) (1.0.5)\n",
            "Requirement already satisfied: murmurhash<1.1.0,>=0.28.0 in /usr/local/lib/python3.6/dist-packages (from spacy<2.2,>=2.1.0->allennlp<0.10.0,>=0.9.0; extra == \"seqvec\" or extra == \"all\"->bio-embeddings[all]) (1.0.5)\n",
            "Requirement already satisfied: preshed<2.1.0,>=2.0.1 in /usr/local/lib/python3.6/dist-packages (from spacy<2.2,>=2.1.0->allennlp<0.10.0,>=0.9.0; extra == \"seqvec\" or extra == \"all\"->bio-embeddings[all]) (2.0.1)\n",
            "Requirement already satisfied: wasabi<1.1.0,>=0.2.0 in /usr/local/lib/python3.6/dist-packages (from spacy<2.2,>=2.1.0->allennlp<0.10.0,>=0.9.0; extra == \"seqvec\" or extra == \"all\"->bio-embeddings[all]) (0.8.0)\n",
            "Requirement already satisfied: cymem<2.1.0,>=2.0.2 in /usr/local/lib/python3.6/dist-packages (from spacy<2.2,>=2.1.0->allennlp<0.10.0,>=0.9.0; extra == \"seqvec\" or extra == \"all\"->bio-embeddings[all]) (2.0.5)\n",
            "Requirement already satisfied: certifi>=2017.4.17 in /usr/local/lib/python3.6/dist-packages (from requests>=2.18->allennlp<0.10.0,>=0.9.0; extra == \"seqvec\" or extra == \"all\"->bio-embeddings[all]) (2020.12.5)\n",
            "Requirement already satisfied: chardet<4,>=3.0.2 in /usr/local/lib/python3.6/dist-packages (from requests>=2.18->allennlp<0.10.0,>=0.9.0; extra == \"seqvec\" or extra == \"all\"->bio-embeddings[all]) (3.0.4)\n",
            "Requirement already satisfied: urllib3!=1.25.0,!=1.25.1,<1.26,>=1.21.1 in /usr/local/lib/python3.6/dist-packages (from requests>=2.18->allennlp<0.10.0,>=0.9.0; extra == \"seqvec\" or extra == \"all\"->bio-embeddings[all]) (1.24.3)\n",
            "Requirement already satisfied: idna<3,>=2.5 in /usr/local/lib/python3.6/dist-packages (from requests>=2.18->allennlp<0.10.0,>=0.9.0; extra == \"seqvec\" or extra == \"all\"->bio-embeddings[all]) (2.10)\n",
            "Requirement already satisfied: wcwidth in /usr/local/lib/python3.6/dist-packages (from ftfy->allennlp<0.10.0,>=0.9.0; extra == \"seqvec\" or extra == \"all\"->bio-embeddings[all]) (0.2.5)\n",
            "Requirement already satisfied: py>=1.5.0 in /usr/local/lib/python3.6/dist-packages (from pytest->allennlp<0.10.0,>=0.9.0; extra == \"seqvec\" or extra == \"all\"->bio-embeddings[all]) (1.10.0)\n",
            "Requirement already satisfied: more-itertools>=4.0.0 in /usr/local/lib/python3.6/dist-packages (from pytest->allennlp<0.10.0,>=0.9.0; extra == \"seqvec\" or extra == \"all\"->bio-embeddings[all]) (8.6.0)\n",
            "Requirement already satisfied: pluggy<0.8,>=0.5 in /usr/local/lib/python3.6/dist-packages (from pytest->allennlp<0.10.0,>=0.9.0; extra == \"seqvec\" or extra == \"all\"->bio-embeddings[all]) (0.7.1)\n",
            "Requirement already satisfied: attrs>=17.4.0 in /usr/local/lib/python3.6/dist-packages (from pytest->allennlp<0.10.0,>=0.9.0; extra == \"seqvec\" or extra == \"all\"->bio-embeddings[all]) (20.3.0)\n",
            "Requirement already satisfied: atomicwrites>=1.0 in /usr/local/lib/python3.6/dist-packages (from pytest->allennlp<0.10.0,>=0.9.0; extra == \"seqvec\" or extra == \"all\"->bio-embeddings[all]) (1.4.0)\n",
            "Requirement already satisfied: Werkzeug>=0.15 in /usr/local/lib/python3.6/dist-packages (from flask>=1.0.2->allennlp<0.10.0,>=0.9.0; extra == \"seqvec\" or extra == \"all\"->bio-embeddings[all]) (1.0.1)\n",
            "Requirement already satisfied: itsdangerous>=0.24 in /usr/local/lib/python3.6/dist-packages (from flask>=1.0.2->allennlp<0.10.0,>=0.9.0; extra == \"seqvec\" or extra == \"all\"->bio-embeddings[all]) (1.1.0)\n",
            "Requirement already satisfied: click>=5.1 in /usr/local/lib/python3.6/dist-packages (from flask>=1.0.2->allennlp<0.10.0,>=0.9.0; extra == \"seqvec\" or extra == \"all\"->bio-embeddings[all]) (7.1.2)\n",
            "Requirement already satisfied: Jinja2>=2.10.1 in /usr/local/lib/python3.6/dist-packages (from flask>=1.0.2->allennlp<0.10.0,>=0.9.0; extra == \"seqvec\" or extra == \"all\"->bio-embeddings[all]) (2.11.2)\n",
            "Requirement already satisfied: sphinx>=1.6.5 in /usr/local/lib/python3.6/dist-packages (from numpydoc>=0.8.0->allennlp<0.10.0,>=0.9.0; extra == \"seqvec\" or extra == \"all\"->bio-embeddings[all]) (1.8.5)\n",
            "Requirement already satisfied: absl-py in /usr/local/lib/python3.6/dist-packages (from jax<0.2.0->jax-unirep<2.0.0,>=1.0.1; extra == \"unirep\" or extra == \"all\"->bio-embeddings[all]) (0.10.0)\n",
            "Requirement already satisfied: opt-einsum in /usr/local/lib/python3.6/dist-packages (from jax<0.2.0->jax-unirep<2.0.0,>=1.0.1; extra == \"unirep\" or extra == \"all\"->bio-embeddings[all]) (3.3.0)\n",
            "Requirement already satisfied: flatbuffers in /usr/local/lib/python3.6/dist-packages (from jaxlib->jax-unirep<2.0.0,>=1.0.1; extra == \"unirep\" or extra == \"all\"->bio-embeddings[all]) (1.12)\n",
            "Requirement already satisfied: cmaes>=0.6.0 in /usr/local/lib/python3.6/dist-packages (from optuna->jax-unirep<2.0.0,>=1.0.1; extra == \"unirep\" or extra == \"all\"->bio-embeddings[all]) (0.7.0)\n",
            "Requirement already satisfied: alembic in /usr/local/lib/python3.6/dist-packages (from optuna->jax-unirep<2.0.0,>=1.0.1; extra == \"unirep\" or extra == \"all\"->bio-embeddings[all]) (1.4.3)\n",
            "Requirement already satisfied: sqlalchemy>=1.1.0 in /usr/local/lib/python3.6/dist-packages (from optuna->jax-unirep<2.0.0,>=1.0.1; extra == \"unirep\" or extra == \"all\"->bio-embeddings[all]) (1.3.20)\n",
            "Requirement already satisfied: cliff in /usr/local/lib/python3.6/dist-packages (from optuna->jax-unirep<2.0.0,>=1.0.1; extra == \"unirep\" or extra == \"all\"->bio-embeddings[all]) (3.5.0)\n",
            "Requirement already satisfied: colorlog in /usr/local/lib/python3.6/dist-packages (from optuna->jax-unirep<2.0.0,>=1.0.1; extra == \"unirep\" or extra == \"all\"->bio-embeddings[all]) (4.6.2)\n",
            "Requirement already satisfied: MarkupSafe>=0.23 in /usr/local/lib/python3.6/dist-packages (from Jinja2>=2.10.1->flask>=1.0.2->allennlp<0.10.0,>=0.9.0; extra == \"seqvec\" or extra == \"all\"->bio-embeddings[all]) (1.1.1)\n",
            "Requirement already satisfied: alabaster<0.8,>=0.7 in /usr/local/lib/python3.6/dist-packages (from sphinx>=1.6.5->numpydoc>=0.8.0->allennlp<0.10.0,>=0.9.0; extra == \"seqvec\" or extra == \"all\"->bio-embeddings[all]) (0.7.12)\n",
            "Requirement already satisfied: imagesize in /usr/local/lib/python3.6/dist-packages (from sphinx>=1.6.5->numpydoc>=0.8.0->allennlp<0.10.0,>=0.9.0; extra == \"seqvec\" or extra == \"all\"->bio-embeddings[all]) (1.2.0)\n",
            "Requirement already satisfied: Pygments>=2.0 in /usr/local/lib/python3.6/dist-packages (from sphinx>=1.6.5->numpydoc>=0.8.0->allennlp<0.10.0,>=0.9.0; extra == \"seqvec\" or extra == \"all\"->bio-embeddings[all]) (2.6.1)\n",
            "Requirement already satisfied: docutils>=0.11 in /usr/local/lib/python3.6/dist-packages (from sphinx>=1.6.5->numpydoc>=0.8.0->allennlp<0.10.0,>=0.9.0; extra == \"seqvec\" or extra == \"all\"->bio-embeddings[all]) (0.16)\n",
            "Requirement already satisfied: sphinxcontrib-websupport in /usr/local/lib/python3.6/dist-packages (from sphinx>=1.6.5->numpydoc>=0.8.0->allennlp<0.10.0,>=0.9.0; extra == \"seqvec\" or extra == \"all\"->bio-embeddings[all]) (1.2.4)\n",
            "Requirement already satisfied: babel!=2.0,>=1.3 in /usr/local/lib/python3.6/dist-packages (from sphinx>=1.6.5->numpydoc>=0.8.0->allennlp<0.10.0,>=0.9.0; extra == \"seqvec\" or extra == \"all\"->bio-embeddings[all]) (2.9.0)\n",
            "Requirement already satisfied: snowballstemmer>=1.1 in /usr/local/lib/python3.6/dist-packages (from sphinx>=1.6.5->numpydoc>=0.8.0->allennlp<0.10.0,>=0.9.0; extra == \"seqvec\" or extra == \"all\"->bio-embeddings[all]) (2.0.0)\n",
            "Requirement already satisfied: Mako in /usr/local/lib/python3.6/dist-packages (from alembic->optuna->jax-unirep<2.0.0,>=1.0.1; extra == \"unirep\" or extra == \"all\"->bio-embeddings[all]) (1.1.3)\n",
            "Requirement already satisfied: python-editor>=0.3 in /usr/local/lib/python3.6/dist-packages (from alembic->optuna->jax-unirep<2.0.0,>=1.0.1; extra == \"unirep\" or extra == \"all\"->bio-embeddings[all]) (1.0.4)\n",
            "Requirement already satisfied: PrettyTable<0.8,>=0.7.2 in /usr/local/lib/python3.6/dist-packages (from cliff->optuna->jax-unirep<2.0.0,>=1.0.1; extra == \"unirep\" or extra == \"all\"->bio-embeddings[all]) (0.7.2)\n",
            "Requirement already satisfied: stevedore>=2.0.1 in /usr/local/lib/python3.6/dist-packages (from cliff->optuna->jax-unirep<2.0.0,>=1.0.1; extra == \"unirep\" or extra == \"all\"->bio-embeddings[all]) (3.3.0)\n",
            "Requirement already satisfied: PyYAML>=3.12 in /usr/local/lib/python3.6/dist-packages (from cliff->optuna->jax-unirep<2.0.0,>=1.0.1; extra == \"unirep\" or extra == \"all\"->bio-embeddings[all]) (3.13)\n",
            "Requirement already satisfied: cmd2!=0.8.3,>=0.8.0 in /usr/local/lib/python3.6/dist-packages (from cliff->optuna->jax-unirep<2.0.0,>=1.0.1; extra == \"unirep\" or extra == \"all\"->bio-embeddings[all]) (1.4.0)\n",
            "Requirement already satisfied: pbr!=2.1.0,>=2.0.0 in /usr/local/lib/python3.6/dist-packages (from cliff->optuna->jax-unirep<2.0.0,>=1.0.1; extra == \"unirep\" or extra == \"all\"->bio-embeddings[all]) (5.5.1)\n",
            "Requirement already satisfied: sphinxcontrib-serializinghtml in /usr/local/lib/python3.6/dist-packages (from sphinxcontrib-websupport->sphinx>=1.6.5->numpydoc>=0.8.0->allennlp<0.10.0,>=0.9.0; extra == \"seqvec\" or extra == \"all\"->bio-embeddings[all]) (1.1.4)\n",
            "Requirement already satisfied: pyperclip>=1.6 in /usr/local/lib/python3.6/dist-packages (from cmd2!=0.8.3,>=0.8.0->cliff->optuna->jax-unirep<2.0.0,>=1.0.1; extra == \"unirep\" or extra == \"all\"->bio-embeddings[all]) (1.8.1)\n",
            "Requirement already satisfied: colorama>=0.3.7 in /usr/local/lib/python3.6/dist-packages (from cmd2!=0.8.3,>=0.8.0->cliff->optuna->jax-unirep<2.0.0,>=1.0.1; extra == \"unirep\" or extra == \"all\"->bio-embeddings[all]) (0.4.4)\n"
          ],
          "name": "stdout"
        }
      ]
    },
    {
      "cell_type": "code",
      "metadata": {
        "id": "COBr5MGOVOEF"
      },
      "source": [
        "from bio_embeddings.embed import seqvec_embedder , prottrans_bert_bfd_embedder"
      ],
      "execution_count": 3,
      "outputs": []
    },
    {
      "cell_type": "code",
      "metadata": {
        "id": "D3GO_4_jX25S",
        "colab": {
          "base_uri": "https://localhost:8080/"
        },
        "outputId": "9cb15902-cfa1-4d68-87bc-13036e1dac72"
      },
      "source": [
        "embedder_seqvec = seqvec_embedder.SeqVecEmbedder()\n",
        "embedder_protbert= prottrans_bert_bfd_embedder.ProtTransBertBFDEmbedder()\n",
        "max_seq = 1538 # larget sequences in the datasets"
      ],
      "execution_count": 4,
      "outputs": [
        {
          "output_type": "stream",
          "text": [
            "weights.hdf5: 374MB [00:16, 22.8MB/s]                           \n",
            "options.json: 8.19kB [00:00, 23.5kB/s]\n",
            "prottrans_bert_bfd.zip: 1.56GB [01:02, 24.8MB/s]                            \n"
          ],
          "name": "stderr"
        }
      ]
    },
    {
      "cell_type": "markdown",
      "metadata": {
        "id": "8XLwIb_OAAqy"
      },
      "source": [
        "Import packages"
      ]
    },
    {
      "cell_type": "code",
      "metadata": {
        "id": "PR2swxTrFzOV"
      },
      "source": [
        "import numpy as np\r\n",
        "from numpy import asarray\r\n",
        "from numpy import save\r\n",
        "import os"
      ],
      "execution_count": 5,
      "outputs": []
    },
    {
      "cell_type": "markdown",
      "metadata": {
        "id": "zmV6rmpb1-5o"
      },
      "source": [
        "Generic method to extract ProtBert Embeddings"
      ]
    },
    {
      "cell_type": "code",
      "metadata": {
        "id": "U6CMWpS32DaM"
      },
      "source": [
        "def extract_protBert(max_seq,lines,path,embedder_protbert):\r\n",
        "  max_sequence = max_seq\r\n",
        "  count = 1 # current line\r\n",
        "  target_name = 1 # target line that has the name of the protein \r\n",
        "  target_primary = 2 # target line that has the primary structure \r\n",
        "  for line in lines:\r\n",
        "    if count == target_name:\r\n",
        "      line = line.replace(\"\\n\",\"\") # remove the newline character in the end of the string \r\n",
        "      path_to_save = path + '/' + line+ \".npy\"\r\n",
        "      target_name +=3\r\n",
        "    if count == target_primary:\r\n",
        "      line = line.replace(\"\\n\",\"\") # remove the newline character in the end of the string \r\n",
        "      embedding_protbert = embedder_protbert.embed(line) # extract the embeddings \r\n",
        "      padding = max_sequence - embedding_protbert.shape[0]\r\n",
        "      embedding_protbert = np.pad(embedding_protbert,((0,padding),(0,0)),mode='constant',constant_values = 0) # apply zero padding at the end \r\n",
        "      save(path_to_save,embedding_protbert) # save the embedding in a new txt in a directory \r\n",
        "      target_primary +=3\r\n",
        "    count+=1"
      ],
      "execution_count": 6,
      "outputs": []
    },
    {
      "cell_type": "markdown",
      "metadata": {
        "id": "Ib0MLqhK2DuP"
      },
      "source": [
        "Generic method to extract SeqVec Embeddings "
      ]
    },
    {
      "cell_type": "code",
      "metadata": {
        "id": "R1bYDEb-2Hj-"
      },
      "source": [
        "def extract_seqVec(max_seq,lines,path,embedder_seqvec):\r\n",
        "  max_sequence = max_seq \r\n",
        "  count = 1 # current line\r\n",
        "  target_name = 1 # target line that has the name of the protein \r\n",
        "  target_primary = 2 # target line that has the primary structure \r\n",
        "  for line in lines:\r\n",
        "    if count == target_name:\r\n",
        "      line = line.replace(\"\\n\",\"\") # remove the newline character in the end of the string \r\n",
        "      path_to_save = path + '/' + line+ \".npy\"\r\n",
        "      target_name +=3\r\n",
        "    if count == target_primary:\r\n",
        "      line = line.replace(\"\\n\",\"\") # remove the newline character in the end of the string \r\n",
        "      embedding_seqvec = embedder_seqvec.embed(line) # extract the embeddings \r\n",
        "      padding = max_sequence - embedding_seqvec.shape[1]\r\n",
        "      embedding_seqvec = np.pad(embedding_seqvec,((0,0),(0,padding),(0,0)),mode='constant',constant_values = 0) # apply zero padding at the end \r\n",
        "      embedding_seqvec = embedding_seqvec.reshape(embedding_seqvec.shape[0], -1) # convert 3d matrix to 2d matrix in order to be able to save it \r\n",
        "      save(path_to_save,embedding_seqvec) # save the embedding in a new txt in a directory \r\n",
        "      target_primary +=3\r\n",
        "    count+=1"
      ],
      "execution_count": 7,
      "outputs": []
    },
    {
      "cell_type": "markdown",
      "metadata": {
        "id": "DPuecTRJsq96"
      },
      "source": [
        "Create new directories to save the embeddings "
      ]
    },
    {
      "cell_type": "code",
      "metadata": {
        "id": "FlAXJI5_stzq"
      },
      "source": [
        "path = os.getcwd() # get the current directory\r\n",
        "path_CASP_protBert = path + '/CASP13_ProtBert' \r\n",
        "path_CASP_seqVec = path + '/CASP13_SeqVec' \r\n",
        "path_CB513_protBert = path + '/CB513_ProtBert' \r\n",
        "path_CB513_seqVec = path + '/CB513_SeqVec' \r\n",
        "path_PISCES_protBert = path + '/PISCES_ProtBert' \r\n",
        "path_PISCES_seqVec = path + '/PISCES_SeqVec'  \r\n",
        "os.mkdir(path_CASP_protBert)\r\n",
        "os.mkdir(path_CASP_seqVec)\r\n",
        "os.mkdir(path_CB513_protBert)\r\n",
        "os.mkdir(path_CB513_seqVec)\r\n",
        "os.mkdir(path_PISCES_protBert)\r\n",
        "os.mkdir(path_PISCES_seqVec)"
      ],
      "execution_count": 8,
      "outputs": []
    },
    {
      "cell_type": "markdown",
      "metadata": {
        "id": "3jtHVJz7ADlI"
      },
      "source": [
        "Open files/ Create pointers"
      ]
    },
    {
      "cell_type": "code",
      "metadata": {
        "id": "QHwehH3IAFfb"
      },
      "source": [
        "casp = open(\"CASP13_sorted.txt\",\"r\")\r\n",
        "cb513 = open(\"CB513_sorted.txt\",\"r\")\r\n",
        "pisces = open(\"PISCES_sorted.txt\",\"r\")"
      ],
      "execution_count": 9,
      "outputs": []
    },
    {
      "cell_type": "markdown",
      "metadata": {
        "id": "wxQYbISPAJWQ"
      },
      "source": [
        "Read lines"
      ]
    },
    {
      "cell_type": "code",
      "metadata": {
        "id": "axyHzrEkAKZV"
      },
      "source": [
        "casp_lines = casp.readlines()\r\n",
        "cb513_lines = cb513.readlines()\r\n",
        "pisces_lines = pisces.readlines()"
      ],
      "execution_count": 10,
      "outputs": []
    },
    {
      "cell_type": "markdown",
      "metadata": {
        "id": "9-WNvAwfAhOP"
      },
      "source": [
        "Extract SeqVec and ProtBert embeddings for CASP13"
      ]
    },
    {
      "cell_type": "code",
      "metadata": {
        "id": "h5xB0xcoAluZ",
        "colab": {
          "base_uri": "https://localhost:8080/"
        },
        "outputId": "64c40c96-48a7-487d-f5ce-0be574116c40"
      },
      "source": [
        "extract_protBert(max_seq,casp_lines,path_CASP_protBert,embedder_protbert)"
      ],
      "execution_count": 11,
      "outputs": [
        {
          "output_type": "stream",
          "text": [
            "/usr/local/lib/python3.6/dist-packages/transformers/tokenization_utils_base.py:2022: FutureWarning:\n",
            "\n",
            "The `pad_to_max_length` argument is deprecated and will be removed in a future version, use `padding=True` or `padding='longest'` to pad to the longest sequence in the batch, or use `padding='max_length'` to pad to a max length. In this case, you can give a specific length with `max_length` (e.g. `max_length=45`) or leave max_length to None to pad to the maximal input size of the model (e.g. 512 for Bert).\n",
            "\n"
          ],
          "name": "stderr"
        }
      ]
    },
    {
      "cell_type": "code",
      "metadata": {
        "id": "cPOBMLYf87te"
      },
      "source": [
        "extract_seqVec(max_seq,casp_lines,path_CASP_seqVec,embedder_seqvec)"
      ],
      "execution_count": 12,
      "outputs": []
    },
    {
      "cell_type": "markdown",
      "metadata": {
        "id": "KskDddPCAmDT"
      },
      "source": [
        "Extract SeqVec and ProtBert embeddings for CB513\r\n",
        "\r\n",
        "\r\n"
      ]
    },
    {
      "cell_type": "code",
      "metadata": {
        "id": "8IQHN3BeAp63",
        "colab": {
          "base_uri": "https://localhost:8080/"
        },
        "outputId": "966651a4-8533-43be-afe2-e1ccbe73d31e"
      },
      "source": [
        "extract_protBert(max_seq,cb513_lines,path_CB513_protBert,embedder_protbert)"
      ],
      "execution_count": 13,
      "outputs": [
        {
          "output_type": "stream",
          "text": [
            "/usr/local/lib/python3.6/dist-packages/transformers/tokenization_utils_base.py:2022: FutureWarning:\n",
            "\n",
            "The `pad_to_max_length` argument is deprecated and will be removed in a future version, use `padding=True` or `padding='longest'` to pad to the longest sequence in the batch, or use `padding='max_length'` to pad to a max length. In this case, you can give a specific length with `max_length` (e.g. `max_length=45`) or leave max_length to None to pad to the maximal input size of the model (e.g. 512 for Bert).\n",
            "\n"
          ],
          "name": "stderr"
        }
      ]
    },
    {
      "cell_type": "code",
      "metadata": {
        "id": "_7SSedMJ9Axj"
      },
      "source": [
        "extract_seqVec(max_seq,cb513_lines,path_CB513_seqVec,embedder_seqvec)"
      ],
      "execution_count": 14,
      "outputs": []
    },
    {
      "cell_type": "markdown",
      "metadata": {
        "id": "F6qwv-OUAqa8"
      },
      "source": [
        "Extract SeqVec and ProtBert embeddings for PISCES"
      ]
    },
    {
      "cell_type": "code",
      "metadata": {
        "id": "DSbCx94GAz0w",
        "outputId": "2f8f03e2-8c95-4341-cc78-a2e9b8dc360c",
        "colab": {
          "base_uri": "https://localhost:8080/"
        }
      },
      "source": [
        "extract_protBert(max_seq,pisces_lines,path_PISCES_protBert,embedder_protbert)"
      ],
      "execution_count": null,
      "outputs": [
        {
          "output_type": "stream",
          "text": [
            "/usr/local/lib/python3.6/dist-packages/transformers/tokenization_utils_base.py:2022: FutureWarning:\n",
            "\n",
            "The `pad_to_max_length` argument is deprecated and will be removed in a future version, use `padding=True` or `padding='longest'` to pad to the longest sequence in the batch, or use `padding='max_length'` to pad to a max length. In this case, you can give a specific length with `max_length` (e.g. `max_length=45`) or leave max_length to None to pad to the maximal input size of the model (e.g. 512 for Bert).\n",
            "\n",
            "/usr/local/lib/python3.6/dist-packages/transformers/tokenization_utils_base.py:2022: FutureWarning:\n",
            "\n",
            "The `pad_to_max_length` argument is deprecated and will be removed in a future version, use `padding=True` or `padding='longest'` to pad to the longest sequence in the batch, or use `padding='max_length'` to pad to a max length. In this case, you can give a specific length with `max_length` (e.g. `max_length=45`) or leave max_length to None to pad to the maximal input size of the model (e.g. 512 for Bert).\n",
            "\n"
          ],
          "name": "stderr"
        }
      ]
    },
    {
      "cell_type": "code",
      "metadata": {
        "id": "aVQvqyMtpNnF"
      },
      "source": [
        "extract_seqVec(max_seq,pisces_lines,path_PISCES_seqVec,embedder_seqvec)"
      ],
      "execution_count": null,
      "outputs": []
    },
    {
      "cell_type": "markdown",
      "metadata": {
        "id": "E5uAc6pl50vT"
      },
      "source": [
        "How to load a numpy array"
      ]
    },
    {
      "cell_type": "code",
      "metadata": {
        "colab": {
          "base_uri": "https://localhost:8080/"
        },
        "id": "kiMwCxq3qPgE",
        "outputId": "7197201a-a7d0-4b93-ea1b-c068444e4a7f"
      },
      "source": [
        "from numpy import loadtxt\r\n",
        "# load array\r\n",
        "data = loadtxt('/content/> 6btc_1_protBert.txt', delimiter=',')\r\n",
        "print(data.shape)"
      ],
      "execution_count": null,
      "outputs": [
        {
          "output_type": "stream",
          "text": [
            "(85, 1024)\n"
          ],
          "name": "stdout"
        }
      ]
    },
    {
      "cell_type": "markdown",
      "metadata": {
        "id": "ho0hovGL63Vj"
      },
      "source": [
        "Load a 2d array and convert it to a 3d array"
      ]
    },
    {
      "cell_type": "code",
      "metadata": {
        "id": "mIqLW_cK66vT"
      },
      "source": [
        "\r\n",
        "import numpy as gfg \r\n",
        "  \r\n",
        "  \r\n",
        "arr = gfg.random.rand(5, 4, 3) \r\n",
        "print(arr)  \r\n",
        "# reshaping the array from 3D \r\n",
        "# matrice to 2D matrice. \r\n",
        "arr_reshaped = arr.reshape(arr.shape[0], -1) \r\n",
        "  \r\n",
        "# saving reshaped array to file. \r\n",
        "gfg.savetxt(\"geekfile.txt\", arr_reshaped) \r\n",
        "  \r\n",
        "# retrieving data from file. \r\n",
        "loaded_arr = gfg.loadtxt(\"geekfile.txt\") \r\n",
        "  \r\n",
        "# This loadedArr is a 2D array, therefore \r\n",
        "# we need to convert it to the original \r\n",
        "# array shape.reshaping to get original \r\n",
        "# matrice with original shape. \r\n",
        "load_original_arr = loaded_arr.reshape( \r\n",
        "    loaded_arr.shape[0], loaded_arr.shape[1] // arr.shape[2], arr.shape[2]) \r\n",
        "  \r\n",
        "# check the shapes: \r\n",
        "print(\"shape of arr: \", arr.shape) \r\n",
        "print(\"shape of load_original_arr: \", load_original_arr.shape) \r\n",
        "  \r\n",
        "# check if both arrays are same or not: \r\n",
        "if (load_original_arr == arr).all(): \r\n",
        "    print(\"Yes, both the arrays are same\") \r\n",
        "else: \r\n",
        "    print(\"No, both the arrays are not same\") \r\n",
        "print(arr)"
      ],
      "execution_count": null,
      "outputs": []
    },
    {
      "cell_type": "markdown",
      "metadata": {
        "id": "ks7N4o4lLY9g"
      },
      "source": [
        "Zip and download folders"
      ]
    },
    {
      "cell_type": "code",
      "metadata": {
        "id": "R8DwKAzJLa_S"
      },
      "source": [
        "!zip -r /content/CASP13_ProtBert.zip /content/CASP13_ProtBert\r\n",
        "!zip -r /content/CASP13_SeqVec.zip /content/CASP13_SeqVec\r\n",
        "!zip -r /content/CB513_ProtBert.zip /content/CB513_ProtBert\r\n",
        "!zip -r /content/CB513_SeqVec.zip /content/CB513_SeqVec\r\n",
        "!zip -r /content/PISCES_ProtBert.zip /content/PISCES_ProtBert\r\n",
        "#!zip -r /content/PISCES_SeqVec.zip /content/PISCES_SeqVec\r\n",
        "\r\n",
        "from google.colab import files\r\n",
        "\r\n",
        "files.download(\"/content/CASP13_ProtBert.zip\")\r\n",
        "files.download(\"/content/CASP13_SeqVec.zip\")\r\n",
        "files.download(\"/content/CB513_ProtBert.zip\")\r\n",
        "files.download(\"/content/CB513_SeqVec.zip\")\r\n",
        "files.download(\"/content/PISCES_ProtBert.zip\")\r\n",
        "#files.download(\"/content/PISCES_SeqVec.zip\")"
      ],
      "execution_count": null,
      "outputs": []
    }
  ]
}