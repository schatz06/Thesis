{
  "nbformat": 4,
  "nbformat_minor": 0,
  "metadata": {
    "colab": {
      "name": "embeddings.ipynb",
      "provenance": [],
      "authorship_tag": "ABX9TyMNqgC8rQBRIV93gwgldGRv",
      "include_colab_link": true
    },
    "kernelspec": {
      "name": "python3",
      "display_name": "Python 3"
    }
  },
  "cells": [
    {
      "cell_type": "markdown",
      "metadata": {
        "id": "view-in-github",
        "colab_type": "text"
      },
      "source": [
        "<a href=\"https://colab.research.google.com/github/schatz06/Thesis/blob/Bio_embeddings/embeddings.ipynb\" target=\"_parent\"><img src=\"https://colab.research.google.com/assets/colab-badge.svg\" alt=\"Open In Colab\"/></a>"
      ]
    },
    {
      "cell_type": "code",
      "metadata": {
        "id": "E6Ry_SW0M-aC"
      },
      "source": [
        "pip install bio-embeddings[all]"
      ],
      "execution_count": null,
      "outputs": []
    },
    {
      "cell_type": "code",
      "metadata": {
        "id": "COBr5MGOVOEF"
      },
      "source": [
        "from bio_embeddings.embed import seqvec_embedder , prottrans_bert_bfd_embedder"
      ],
      "execution_count": 7,
      "outputs": []
    },
    {
      "cell_type": "code",
      "metadata": {
        "id": "D3GO_4_jX25S"
      },
      "source": [
        "embedder_one = seqvec_embedder.SeqVecEmbedder()\n",
        "embedder_two = prottrans_bert_bfd_embedder.ProtTransBertBFDEmbedder()"
      ],
      "execution_count": null,
      "outputs": []
    },
    {
      "cell_type": "code",
      "metadata": {
        "id": "d1AUfFr7YkAp"
      },
      "source": [
        "embedding_one = embedder_one.embed(\"SEQWENCE\")\n",
        "embedding_two = embedder_two.embed(\"SEQWENCE\")"
      ],
      "execution_count": null,
      "outputs": []
    },
    {
      "cell_type": "code",
      "metadata": {
        "id": "l2fvsS2EYpsM"
      },
      "source": [
        "print(embedding_one.shape)\n",
        "print(embedding_two.shape)"
      ],
      "execution_count": null,
      "outputs": []
    }
  ]
}