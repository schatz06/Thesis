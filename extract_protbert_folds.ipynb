{
  "nbformat": 4,
  "nbformat_minor": 0,
  "metadata": {
    "colab": {
      "name": "Untitled6.ipynb",
      "provenance": [],
      "toc_visible": true,
      "authorship_tag": "ABX9TyP36Z3CyTtsL7vqiUEYmjRy",
      "include_colab_link": true
    },
    "kernelspec": {
      "name": "python3",
      "display_name": "Python 3"
    }
  },
  "cells": [
    {
      "cell_type": "markdown",
      "metadata": {
        "id": "view-in-github",
        "colab_type": "text"
      },
      "source": [
        "<a href=\"https://colab.research.google.com/github/schatz06/Thesis/blob/Bio_embeddings/extract_protbert_folds.ipynb\" target=\"_parent\"><img src=\"https://colab.research.google.com/assets/colab-badge.svg\" alt=\"Open In Colab\"/></a>"
      ]
    },
    {
      "cell_type": "markdown",
      "metadata": {
        "id": "tZ598cb89h36"
      },
      "source": [
        "##Mount Drive##"
      ]
    },
    {
      "cell_type": "code",
      "metadata": {
        "colab": {
          "base_uri": "https://localhost:8080/"
        },
        "id": "XSrEPunM9Zke",
        "outputId": "e723c391-aa47-4551-8d27-32f978f07d82"
      },
      "source": [
        "from google.colab import drive\r\n",
        "drive.mount('/content/drive')"
      ],
      "execution_count": 1,
      "outputs": [
        {
          "output_type": "stream",
          "text": [
            "Mounted at /content/drive\n"
          ],
          "name": "stdout"
        }
      ]
    },
    {
      "cell_type": "markdown",
      "metadata": {
        "id": "v1yOYrRF90wk"
      },
      "source": [
        "##Import packages"
      ]
    },
    {
      "cell_type": "code",
      "metadata": {
        "id": "YBiEmwRq91DR"
      },
      "source": [
        "import sys\r\n",
        "import scipy.io\r\n",
        "import numpy as np\r\n",
        "import os"
      ],
      "execution_count": 2,
      "outputs": []
    },
    {
      "cell_type": "markdown",
      "metadata": {
        "id": "4jnhqs6V97ok"
      },
      "source": [
        "## Declare Folders ##"
      ]
    },
    {
      "cell_type": "code",
      "metadata": {
        "id": "S5-XkIhN978c"
      },
      "source": [
        "zip_file = '/content/drive/MyDrive/Datasets/ProtBert.zip'\r\n",
        "test_fold = '/content/drive/MyDrive/Datasets/pisces_test_fold0.txt'\r\n",
        "train_fold = '/content/drive/MyDrive/Datasets/pisces_train_fold0.txt'\r\n",
        "/content/drive/MyDrive/Datasets/ProtBert.zip"
      ],
      "execution_count": null,
      "outputs": []
    },
    {
      "cell_type": "markdown",
      "metadata": {
        "id": "zKi16Srq_Bm9"
      },
      "source": [
        "##Unzip file##"
      ]
    },
    {
      "cell_type": "code",
      "metadata": {
        "id": "zaamT873_DhS"
      },
      "source": [
        ""
      ],
      "execution_count": null,
      "outputs": []
    },
    {
      "cell_type": "markdown",
      "metadata": {
        "id": "p1sGjkZB_Efg"
      },
      "source": [
        "##Open files##"
      ]
    },
    {
      "cell_type": "code",
      "metadata": {
        "id": "mqMEGKtt_HkX"
      },
      "source": [
        "test = open(test_fold,\"r\")\r\n",
        "train = open(train_fold,\"r\")"
      ],
      "execution_count": null,
      "outputs": []
    },
    {
      "cell_type": "markdown",
      "metadata": {
        "id": "HmEVy5MG-ChS"
      },
      "source": [
        "##Create fold method ##"
      ]
    },
    {
      "cell_type": "code",
      "metadata": {
        "id": "SNmqU-_e-Cvk"
      },
      "source": [
        "target_name = 1 # target line that has the name of the protein\r\n",
        "target_secondary = 3 # target line that has the primary structure\r\n",
        "count = 1\r\n",
        "new = 0\r\n",
        "while True:\r\n",
        "    # Get next line from file\r\n",
        "    line = test.readline()\r\n",
        "    if not line:\r\n",
        "        break\r\n",
        "    if count == target_name:\r\n",
        "        line = line.replace(\"\\n\", \"\")  # remove the newline character in the end of the string\r\n",
        "        line = line.replace(\" \", \"\")\r\n",
        "        line = line.replace(\">\", \"\")\r\n",
        "        name = folder + line + \".npy\"\r\n",
        "        target_name += 3\r\n",
        "        # print(name)\r\n",
        "\r\n",
        "        embedding = np.load(name)\r\n",
        "        a = np.array(embedding)\r\n",
        "        #a = a.flatten()\r\n",
        "        if count == 1:\r\n",
        "            new = a\r\n",
        "        else:\r\n",
        "            new = np.vstack([new, a])\r\n",
        "        # scipy.io.savemat(f, {line:arr})\r\n",
        "    if count == target_secondary:\r\n",
        "        line = line.replace(\"\\n\", \"\")  # remove the newline character in the end of the string\r\n",
        "        temp = np.zeros((len(line)), dtype=int)\r\n",
        "        for j in range(0, len(line)):\r\n",
        "            if line[j] == 'C':\r\n",
        "                temp[j] = 0\r\n",
        "            if line[j] == 'H':\r\n",
        "                temp[j] = 1\r\n",
        "            if line[j] == 'E':\r\n",
        "                temp[j] = 2\r\n",
        "        if count == 3:\r\n",
        "            y = temp\r\n",
        "        else:\r\n",
        "            y = np.append(y, temp, axis=0)\r\n",
        "        target_secondary += 3\r\n",
        "    count += 1\r\n",
        "scipy.io.savemat(file, {'x': new})\r\n",
        "print(y.shape)\r\n",
        "y = y.reshape(-1,1)\r\n",
        "print(y.shape)\r\n",
        "scipy.io.savemat(file, {'y': y})"
      ],
      "execution_count": null,
      "outputs": []
    }
  ]
}