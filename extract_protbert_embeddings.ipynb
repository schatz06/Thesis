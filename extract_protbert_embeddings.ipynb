{
  "nbformat": 4,
  "nbformat_minor": 0,
  "metadata": {
    "colab": {
      "name": "embeddings.ipynb",
      "provenance": [],
      "authorship_tag": "ABX9TyPyGB0BwIKZBjV347ghfuXU",
      "include_colab_link": true
    },
    "kernelspec": {
      "name": "python3",
      "display_name": "Python 3"
    }
  },
  "cells": [
    {
      "cell_type": "markdown",
      "metadata": {
        "id": "view-in-github",
        "colab_type": "text"
      },
      "source": [
        "<a href=\"https://colab.research.google.com/github/schatz06/Thesis/blob/Bio_embeddings/extract_protbert_embeddings.ipynb\" target=\"_parent\"><img src=\"https://colab.research.google.com/assets/colab-badge.svg\" alt=\"Open In Colab\"/></a>"
      ]
    },
    {
      "cell_type": "markdown",
      "metadata": {
        "id": "dwnf8kBEOYHE"
      },
      "source": [
        "Install and import embedders"
      ]
    },
    {
      "cell_type": "code",
      "metadata": {
        "id": "E6Ry_SW0M-aC"
      },
      "source": [
        "!pip3 install -U pip > /dev/null\n",
        "!pip3 install -U \"bio-embeddings[all] @ git+https://github.com/sacdallago/bio_embeddings.git\" > /dev/null"
      ],
      "execution_count": null,
      "outputs": []
    },
    {
      "cell_type": "code",
      "metadata": {
        "id": "COBr5MGOVOEF"
      },
      "source": [
        "from bio_embeddings.embed import prottrans_bert_bfd_embedder"
      ],
      "execution_count": 3,
      "outputs": []
    },
    {
      "cell_type": "code",
      "metadata": {
        "id": "D3GO_4_jX25S",
        "colab": {
          "base_uri": "https://localhost:8080/"
        },
        "outputId": "5e30dc13-ba72-42b1-fe65-68eba06be0e4"
      },
      "source": [
        "embedder_protbert= prottrans_bert_bfd_embedder.ProtTransBertBFDEmbedder()"
      ],
      "execution_count": 4,
      "outputs": [
        {
          "output_type": "stream",
          "text": [
            "weights.hdf5: 374MB [00:06, 54.9MB/s]                           \n",
            "options.json: 8.19kB [00:00, 47.8kB/s]\n",
            "prottrans_bert_bfd.zip: 1.56GB [00:26, 58.6MB/s]                            \n"
          ],
          "name": "stderr"
        }
      ]
    },
    {
      "cell_type": "markdown",
      "metadata": {
        "id": "8XLwIb_OAAqy"
      },
      "source": [
        "Import packages"
      ]
    },
    {
      "cell_type": "code",
      "metadata": {
        "id": "PR2swxTrFzOV"
      },
      "source": [
        "import numpy as np\n",
        "from numpy import asarray\n",
        "from numpy import save\n",
        "from tqdm import tqdm\n",
        "import os"
      ],
      "execution_count": 10,
      "outputs": []
    },
    {
      "cell_type": "markdown",
      "metadata": {
        "id": "zmV6rmpb1-5o"
      },
      "source": [
        "Generic method to extract ProtBert Embeddings"
      ]
    },
    {
      "cell_type": "code",
      "metadata": {
        "id": "U6CMWpS32DaM"
      },
      "source": [
        "def extract_protBert(lines,path,embedder_protbert):\n",
        "  count = 1 # current line\n",
        "  target_name = 1 # target line that has the name of the protein \n",
        "  target_primary = 2 # target line that has the primary structure \n",
        "  for line in tqdm(lines):\n",
        "    if count == target_name:\n",
        "      line = line.replace(\"\\n\",\"\") # remove the newline character in the end of the string\n",
        "      line = line.replace(\" \",\"\")\n",
        "      line = line.replace(\">\",\"\") \n",
        "      path_to_save = path + '/' + line\n",
        "      target_name +=3\n",
        "    if count == target_primary:\n",
        "      line = line.replace(\"\\n\",\"\") # remove the newline character in the end of the string \n",
        "      embedding_protbert = embedder_protbert.embed(line) # extract the embeddings \n",
        "      save(path_to_save,embedding_protbert) # save the embedding in a new txt in a directory \n",
        "      target_primary +=3\n",
        "    count+=1"
      ],
      "execution_count": 16,
      "outputs": []
    },
    {
      "cell_type": "markdown",
      "metadata": {
        "id": "DPuecTRJsq96"
      },
      "source": [
        "Create new directories to save the embeddings "
      ]
    },
    {
      "cell_type": "code",
      "metadata": {
        "id": "FlAXJI5_stzq"
      },
      "source": [
        "# uncomment the folder depending what set you want to embed \n",
        "path = os.getcwd() # get the current directory\n",
        "path_CASP13_protBert = path + '/CASP13_ProtBert' \n",
        "#path_CB513_protBert = path + '/CB513_ProtBert' \n",
        "#path_PISCES_protBert = path + '/PISCES_ProtBert' \n",
        "#os.mkdir(path_PISCES_protBert)\n",
        "os.mkdir(path_CASP13_protBert)\n",
        "#s.mkdir(path_CB513_protBert)"
      ],
      "execution_count": 9,
      "outputs": []
    },
    {
      "cell_type": "markdown",
      "metadata": {
        "id": "3jtHVJz7ADlI"
      },
      "source": [
        "Open files/ Create pointers"
      ]
    },
    {
      "cell_type": "code",
      "metadata": {
        "id": "QHwehH3IAFfb"
      },
      "source": [
        "casp13 = open(\"CASP13_sorted.txt\",\"r\")\n",
        "#cb513 = open(\"CB513_3class.txt\",\"r\")\n",
        "#pisces = open(\"set11.txt\",\"r\")"
      ],
      "execution_count": 19,
      "outputs": []
    },
    {
      "cell_type": "markdown",
      "metadata": {
        "id": "wxQYbISPAJWQ"
      },
      "source": [
        "Read lines"
      ]
    },
    {
      "cell_type": "code",
      "metadata": {
        "id": "axyHzrEkAKZV"
      },
      "source": [
        "casp13_lines = casp13.readlines()\n",
        "#cb513_lines = cb513.readlines()\n",
        "#pisces_lines = pisces.readlines()"
      ],
      "execution_count": 20,
      "outputs": []
    },
    {
      "cell_type": "markdown",
      "metadata": {
        "id": "9-WNvAwfAhOP"
      },
      "source": [
        "Extract SeqVec and ProtBert embeddings for CASP13"
      ]
    },
    {
      "cell_type": "code",
      "metadata": {
        "id": "h5xB0xcoAluZ",
        "outputId": "cacd61ac-e78c-43be-910c-8136f6795f85",
        "colab": {
          "base_uri": "https://localhost:8080/"
        }
      },
      "source": [
        "extract_protBert(casp13_lines,path_CASP13_protBert,embedder_protbert)"
      ],
      "execution_count": 17,
      "outputs": [
        {
          "output_type": "stream",
          "text": [
            "100%|██████████| 120/120 [02:41<00:00,  1.35s/it]\n"
          ],
          "name": "stderr"
        }
      ]
    },
    {
      "cell_type": "markdown",
      "metadata": {
        "id": "KskDddPCAmDT"
      },
      "source": [
        "Extract SeqVec and ProtBert embeddings for CB513\n",
        "\n",
        "\n"
      ]
    },
    {
      "cell_type": "code",
      "metadata": {
        "id": "8IQHN3BeAp63"
      },
      "source": [
        "extract_protBert(cb513_lines,path_CB513_protBert,embedder_protbert)"
      ],
      "execution_count": null,
      "outputs": []
    },
    {
      "cell_type": "markdown",
      "metadata": {
        "id": "F6qwv-OUAqa8"
      },
      "source": [
        "Extract SeqVec and ProtBert embeddings for PISCES"
      ]
    },
    {
      "cell_type": "code",
      "metadata": {
        "id": "DSbCx94GAz0w"
      },
      "source": [
        "extract_protBert(pisces_lines,path_PISCES_protBert,embedder_protbert)"
      ],
      "execution_count": null,
      "outputs": []
    },
    {
      "cell_type": "markdown",
      "metadata": {
        "id": "ks7N4o4lLY9g"
      },
      "source": [
        "Zip folders"
      ]
    },
    {
      "cell_type": "code",
      "metadata": {
        "id": "R8DwKAzJLa_S"
      },
      "source": [
        "!zip -r /content/CASP13_ProtBert.zip /content/CASP13_ProtBert\n",
        "#!zip -r /content/CB513_ProtBert.zip /content/CB513_ProtBert\n",
        "#!zip -r /content/PISCES_ProtBert.zip /content/PISCES_ProtBert"
      ],
      "execution_count": null,
      "outputs": []
    }
  ]
}