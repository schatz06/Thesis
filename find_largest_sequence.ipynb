{
  "nbformat": 4,
  "nbformat_minor": 0,
  "metadata": {
    "colab": {
      "name": "find_largest_sequence",
      "provenance": [],
      "authorship_tag": "ABX9TyOAJ+Tx0F3mM0iLq/a4EyvS",
      "include_colab_link": true
    },
    "kernelspec": {
      "name": "python3",
      "display_name": "Python 3"
    }
  },
  "cells": [
    {
      "cell_type": "markdown",
      "metadata": {
        "id": "view-in-github",
        "colab_type": "text"
      },
      "source": [
        "<a href=\"https://colab.research.google.com/github/schatz06/Thesis/blob/Bio_embeddings/find_largest_sequence.ipynb\" target=\"_parent\"><img src=\"https://colab.research.google.com/assets/colab-badge.svg\" alt=\"Open In Colab\"/></a>"
      ]
    },
    {
      "cell_type": "markdown",
      "metadata": {
        "id": "V0KPhBYkxRl8"
      },
      "source": [
        "Open files"
      ]
    },
    {
      "cell_type": "code",
      "metadata": {
        "id": "up8EyMhsxS9o"
      },
      "source": [
        "casp = open(\"CASP13_sorted.txt\",\"r\")\r\n",
        "cb513 = open(\"datasets_CB513_cb513_sorted.txt\",\"r\")\r\n",
        "pisces = open(\"datasets_PISCES_pisces_sorted.txt\",\"r\")"
      ],
      "execution_count": 9,
      "outputs": []
    },
    {
      "cell_type": "markdown",
      "metadata": {
        "id": "4JE2Dkc_xsLm"
      },
      "source": [
        "Read Lines"
      ]
    },
    {
      "cell_type": "code",
      "metadata": {
        "id": "F7sClyBOxvCS"
      },
      "source": [
        "casp_lines = casp.readlines()\r\n",
        "cb513_lines = cb513.readlines()\r\n",
        "pisces_lines = pisces.readlines()\r\n"
      ],
      "execution_count": 10,
      "outputs": []
    },
    {
      "cell_type": "markdown",
      "metadata": {
        "id": "tLrBxNOF06QY"
      },
      "source": [
        "Find lognest sequences for CASP , CB513 , PISCES"
      ]
    },
    {
      "cell_type": "code",
      "metadata": {
        "colab": {
          "base_uri": "https://localhost:8080/"
        },
        "id": "cQAVmAhI0-Un",
        "outputId": "96474371-2feb-43e9-e38a-74008b12ec5c"
      },
      "source": [
        "casp_count = 1 # current line\r\n",
        "target = 2 # target line that has the primary structure \r\n",
        "casp_max_sequence = 0\r\n",
        "for casp_line in casp_lines:\r\n",
        "  if casp_count == target:\r\n",
        "    casp_line = casp_line.replace(\"\\n\",\"\") # remove the newline character in the end of the string \r\n",
        "    casp_len = len(casp_line)\r\n",
        "    if casp_len > casp_max_sequence:\r\n",
        "      casp_max_sequence = casp_len\r\n",
        "    target+=3\r\n",
        "  casp_count+=1\r\n",
        "print(casp_max_sequence)"
      ],
      "execution_count": 30,
      "outputs": [
        {
          "output_type": "stream",
          "text": [
            "718\n"
          ],
          "name": "stdout"
        }
      ]
    },
    {
      "cell_type": "code",
      "metadata": {
        "colab": {
          "base_uri": "https://localhost:8080/"
        },
        "id": "Vmego6Py4a9-",
        "outputId": "fbb2a126-1358-483f-d0b0-4b1417ba9bb5"
      },
      "source": [
        "cb513_count = 1 # current line\r\n",
        "target = 2 # target line that has the primary structure \r\n",
        "cb513_max_sequence = 0\r\n",
        "for cb513_line in cb513_lines:\r\n",
        "  if cb513_count == target:\r\n",
        "    cb513_line = cb513_line.replace(\"\\n\",\"\") # remove the newline character in the end of the string \r\n",
        "    cb513_len = len(cb513_line)\r\n",
        "    if cb513_len > cb513_max_sequence:\r\n",
        "      cb513_max_sequence = cb513_len\r\n",
        "    target+=3\r\n",
        "  cb513_count+=1\r\n",
        "print(cb513_max_sequence)"
      ],
      "execution_count": 31,
      "outputs": [
        {
          "output_type": "stream",
          "text": [
            "753\n"
          ],
          "name": "stdout"
        }
      ]
    },
    {
      "cell_type": "code",
      "metadata": {
        "colab": {
          "base_uri": "https://localhost:8080/"
        },
        "id": "DcyByMv86LyK",
        "outputId": "c1d5a545-397b-484d-af71-9f79126e0e90"
      },
      "source": [
        "pisces_count = 1 # current line\r\n",
        "target = 2 # target line that has the primary structure \r\n",
        "pisces_max_sequence = 0\r\n",
        "for pisces_line in pisces_lines:\r\n",
        "  if pisces_count == target:\r\n",
        "    pisces_line = pisces_line.replace(\"\\n\",\"\") # remove the newline character in the end of the string \r\n",
        "    pisces_len = len(pisces_line)\r\n",
        "    if pisces_len > pisces_max_sequence:\r\n",
        "      pisces_max_sequence = pisces_len\r\n",
        "    target+=3\r\n",
        "  pisces_count+=1\r\n",
        "print(pisces_max_sequence)"
      ],
      "execution_count": 32,
      "outputs": [
        {
          "output_type": "stream",
          "text": [
            "1538\n"
          ],
          "name": "stdout"
        }
      ]
    },
    {
      "cell_type": "markdown",
      "metadata": {
        "id": "32iFb4eR62dO"
      },
      "source": [
        "Find maximum of all sequences"
      ]
    },
    {
      "cell_type": "code",
      "metadata": {
        "id": "_KrReFM17EYI"
      },
      "source": [
        "import numpy as np"
      ],
      "execution_count": 34,
      "outputs": []
    },
    {
      "cell_type": "code",
      "metadata": {
        "colab": {
          "base_uri": "https://localhost:8080/"
        },
        "id": "dhvrAgYQ66LH",
        "outputId": "ac90d82d-ac0a-4d8d-df98-4602c7ea63db"
      },
      "source": [
        "max = np.zeros((3,1))\r\n",
        "max[0] = casp_max_sequence\r\n",
        "max[1] = cb513_max_sequence\r\n",
        "max[2] = pisces_max_sequence\r\n",
        "maximum_sequence = int(max.max())\r\n",
        "print(maximum_sequence)"
      ],
      "execution_count": 37,
      "outputs": [
        {
          "output_type": "stream",
          "text": [
            "1538\n"
          ],
          "name": "stdout"
        }
      ]
    }
  ]
}