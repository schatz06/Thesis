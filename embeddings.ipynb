{
  "nbformat": 4,
  "nbformat_minor": 0,
  "metadata": {
    "colab": {
      "name": "embeddings.ipynb",
      "provenance": [],
      "authorship_tag": "ABX9TyMF+1ajKNh5u0wU/T0TWVj6",
      "include_colab_link": true
    },
    "kernelspec": {
      "name": "python3",
      "display_name": "Python 3"
    }
  },
  "cells": [
    {
      "cell_type": "markdown",
      "metadata": {
        "id": "view-in-github",
        "colab_type": "text"
      },
      "source": [
        "<a href=\"https://colab.research.google.com/github/schatz06/Thesis/blob/Bio_embeddings/embeddings.ipynb\" target=\"_parent\"><img src=\"https://colab.research.google.com/assets/colab-badge.svg\" alt=\"Open In Colab\"/></a>"
      ]
    },
    {
      "cell_type": "markdown",
      "metadata": {
        "id": "dwnf8kBEOYHE"
      },
      "source": [
        "Install and import embedders"
      ]
    },
    {
      "cell_type": "code",
      "metadata": {
        "id": "E6Ry_SW0M-aC"
      },
      "source": [
        "pip install bio-embeddings[all]"
      ],
      "execution_count": null,
      "outputs": []
    },
    {
      "cell_type": "code",
      "metadata": {
        "id": "COBr5MGOVOEF"
      },
      "source": [
        "from bio_embeddings.embed import seqvec_embedder , prottrans_bert_bfd_embedder"
      ],
      "execution_count": null,
      "outputs": []
    },
    {
      "cell_type": "code",
      "metadata": {
        "id": "D3GO_4_jX25S"
      },
      "source": [
        "embedder_seqvec = seqvec_embedder.SeqVecEmbedder()\n",
        "embedder_protbert= prottrans_bert_bfd_embedder.ProtTransBertBFDEmbedder()\n",
        "max_seq = 1538 # larget sequences in the datasets"
      ],
      "execution_count": null,
      "outputs": []
    },
    {
      "cell_type": "markdown",
      "metadata": {
        "id": "zmV6rmpb1-5o"
      },
      "source": [
        "Generic method to extract ProtBert Embeddings"
      ]
    },
    {
      "cell_type": "code",
      "metadata": {
        "id": "U6CMWpS32DaM"
      },
      "source": [
        "def extract_protBert(max_seq,lines,path,embedder_protbert):\r\n",
        "  max_sequence = max_seq\r\n",
        "  count = 1 # current line\r\n",
        "  target_name = 1 # target line that has the name of the protein \r\n",
        "  target_primary = 2 # target line that has the primary structure \r\n",
        "  for line in lines:\r\n",
        "    if count == target_name:\r\n",
        "      line = line.replace(\"\\n\",\"\") # remove the newline character in the end of the string \r\n",
        "      path_to_save = path + '/' + line+ \".txt\"\r\n",
        "      target_name +=3\r\n",
        "    if count == target_primary:\r\n",
        "      line = line.replace(\"\\n\",\"\") # remove the newline character in the end of the string \r\n",
        "      embedding_protbert = embedder_protbert.embed(line) # extract the embeddings \r\n",
        "      padding = max_sequence - embedding_protbert.shape[0]\r\n",
        "      embedding_protbert = np.pad(embedding_protbert,((0,padding),(0,0)),mode='constant',constant_values = 0) # apply zero padding at the end \r\n",
        "      savetxt(path_to_save,embedding_protbert, delimiter=',') # save the embedding in a new txt in a directory \r\n",
        "      target_primary +=3\r\n",
        "    count+=1"
      ],
      "execution_count": 41,
      "outputs": []
    },
    {
      "cell_type": "markdown",
      "metadata": {
        "id": "Ib0MLqhK2DuP"
      },
      "source": [
        "Generic method to extract SeqVec Embeddings "
      ]
    },
    {
      "cell_type": "code",
      "metadata": {
        "id": "R1bYDEb-2Hj-"
      },
      "source": [
        "def extract_seqVec(max_seq,lines,path,embedder_seqvec):\r\n",
        "  max_sequence = max_seq \r\n",
        "  count = 1 # current line\r\n",
        "  target_name = 1 # target line that has the name of the protein \r\n",
        "  target_primary = 2 # target line that has the primary structure \r\n",
        "  for line in lines:\r\n",
        "    if count == target_name:\r\n",
        "      line = line.replace(\"\\n\",\"\") # remove the newline character in the end of the string \r\n",
        "      path_to_save = path + '/' + line+ \".txt\"\r\n",
        "      target_name +=3\r\n",
        "    if count == target_primary:\r\n",
        "      line = line.replace(\"\\n\",\"\") # remove the newline character in the end of the string \r\n",
        "      embedding_seqvec = embedder_seqvec.embed(line) # extract the embeddings \r\n",
        "      padding = max_sequence - embedding_seqvec.shape[1]\r\n",
        "      embedding_seqvec = np.pad(embedding_seqvec,((0,0)(0,padding),(0,0)),mode='constant',constant_values = 0) # apply zero padding at the end \r\n",
        "      embedding_seqvec = embedding_seqvec.reshape(arr.shape[0], -1) # convert 3d matrix to 2d matrix in order to be able to save it \r\n",
        "      savetxt(path_to_save,embedding_seqvec, delimiter=',') # save the embedding in a new txt in a directory \r\n",
        "      target_primary +=3\r\n",
        "    count+=1"
      ],
      "execution_count": 40,
      "outputs": []
    },
    {
      "cell_type": "markdown",
      "metadata": {
        "id": "8XLwIb_OAAqy"
      },
      "source": [
        "Import packages"
      ]
    },
    {
      "cell_type": "code",
      "metadata": {
        "id": "PR2swxTrFzOV"
      },
      "source": [
        "import numpy as np\r\n",
        "from numpy import asarray\r\n",
        "from numpy import savetxt\r\n",
        "import os"
      ],
      "execution_count": 28,
      "outputs": []
    },
    {
      "cell_type": "markdown",
      "metadata": {
        "id": "DPuecTRJsq96"
      },
      "source": [
        "Create new directories to save the embeddings "
      ]
    },
    {
      "cell_type": "code",
      "metadata": {
        "id": "FlAXJI5_stzq"
      },
      "source": [
        "path = os.getcwd() # get the current directory\r\n",
        "path_CASP_protBert = path + '/CASP13_ProtBert' \r\n",
        "path_CASP_seqVec = path + '/CASP13_SeqVec' \r\n",
        "path_CB513_protBert = path + '/CB513_ProtBert' \r\n",
        "path_CB513_seqVec = path + '/CB513_SeqVec' \r\n",
        "path_PISCES_protBert = path + '/PISCES_ProtBert' \r\n",
        "path_PISCES_seqVec = path + '/PISCES_SeqVec'  \r\n",
        "os.mkdir(path_CASP_protBert)\r\n",
        "os.mkdir(path_CASP_seqVec)\r\n",
        "os.mkdir(path_CB513_protBert)\r\n",
        "os.mkdir(path_CB513_seqVec)\r\n",
        "os.mkdir(path_PISCES_protBert)\r\n",
        "os.mkdir(path_PISCES_seqVec)"
      ],
      "execution_count": 34,
      "outputs": []
    },
    {
      "cell_type": "markdown",
      "metadata": {
        "id": "3jtHVJz7ADlI"
      },
      "source": [
        "Open files/ Create pointers"
      ]
    },
    {
      "cell_type": "code",
      "metadata": {
        "id": "QHwehH3IAFfb"
      },
      "source": [
        "casp = open(\"CASP13_sorted.txt\",\"r\")\r\n",
        "cb513 = open(\"CB513_sorted.txt\",\"r\")\r\n",
        "pisces = open(\"PISCES_sorted.txt\",\"r\")"
      ],
      "execution_count": 20,
      "outputs": []
    },
    {
      "cell_type": "markdown",
      "metadata": {
        "id": "wxQYbISPAJWQ"
      },
      "source": [
        "Read lines"
      ]
    },
    {
      "cell_type": "code",
      "metadata": {
        "id": "axyHzrEkAKZV"
      },
      "source": [
        "casp_lines = casp.readlines()\r\n",
        "cb513_lines = cb513.readlines()\r\n",
        "pisces_lines = pisces.readlines()"
      ],
      "execution_count": 21,
      "outputs": []
    },
    {
      "cell_type": "markdown",
      "metadata": {
        "id": "9-WNvAwfAhOP"
      },
      "source": [
        "Extract SeqVec and ProtBert embeddings for CASP13"
      ]
    },
    {
      "cell_type": "code",
      "metadata": {
        "id": "h5xB0xcoAluZ"
      },
      "source": [
        "extract_protBert(max_seq,casp_lines,path_CASP_protBert,embedder_protbert)\r\n",
        "extract_seqVec(max_seq,casp_lines,path_CASP_seqVec,embedder_seqvec)"
      ],
      "execution_count": null,
      "outputs": []
    },
    {
      "cell_type": "markdown",
      "metadata": {
        "id": "KskDddPCAmDT"
      },
      "source": [
        "Extract SeqVec and ProtBert embeddings for CB513\r\n",
        "\r\n",
        "\r\n"
      ]
    },
    {
      "cell_type": "code",
      "metadata": {
        "id": "8IQHN3BeAp63"
      },
      "source": [
        "extract_protBert(max_seq,cb513_lines,path_CB513_protBert,embedder_protbert)\r\n",
        "extract_seqVec(max_seq,cb513_lines,path_CB513_seqVec,embedder_seqvec)"
      ],
      "execution_count": 50,
      "outputs": []
    },
    {
      "cell_type": "markdown",
      "metadata": {
        "id": "F6qwv-OUAqa8"
      },
      "source": [
        "Extract SeqVec and ProtBert embeddings for PISCES"
      ]
    },
    {
      "cell_type": "code",
      "metadata": {
        "id": "DSbCx94GAz0w"
      },
      "source": [
        "extract_protBert(max_seq,pisces_lines,path_PISCES_protBert,embedder_protbert)\r\n",
        "extract_seqVec(max_seq,pisces_lines,path_PISCES_seqVec,embedder_seqvec)"
      ],
      "execution_count": 51,
      "outputs": []
    },
    {
      "cell_type": "markdown",
      "metadata": {
        "id": "E5uAc6pl50vT"
      },
      "source": [
        "How to load a numpy array"
      ]
    },
    {
      "cell_type": "code",
      "metadata": {
        "colab": {
          "base_uri": "https://localhost:8080/"
        },
        "id": "kiMwCxq3qPgE",
        "outputId": "7197201a-a7d0-4b93-ea1b-c068444e4a7f"
      },
      "source": [
        "from numpy import loadtxt\r\n",
        "# load array\r\n",
        "data = loadtxt('/content/> 6btc_1_protBert.txt', delimiter=',')\r\n",
        "print(data.shape)"
      ],
      "execution_count": 26,
      "outputs": [
        {
          "output_type": "stream",
          "text": [
            "(85, 1024)\n"
          ],
          "name": "stdout"
        }
      ]
    },
    {
      "cell_type": "markdown",
      "metadata": {
        "id": "ho0hovGL63Vj"
      },
      "source": [
        "Load a 2d array and convert it to a 3d array"
      ]
    },
    {
      "cell_type": "code",
      "metadata": {
        "id": "mIqLW_cK66vT",
        "outputId": "af517a49-f7c8-49ec-e423-7426d85b73d1",
        "colab": {
          "base_uri": "https://localhost:8080/"
        }
      },
      "source": [
        "\r\n",
        "import numpy as gfg \r\n",
        "  \r\n",
        "  \r\n",
        "arr = gfg.random.rand(5, 4, 3) \r\n",
        "print(arr)  \r\n",
        "# reshaping the array from 3D \r\n",
        "# matrice to 2D matrice. \r\n",
        "arr_reshaped = arr.reshape(arr.shape[0], -1) \r\n",
        "  \r\n",
        "# saving reshaped array to file. \r\n",
        "gfg.savetxt(\"geekfile.txt\", arr_reshaped) \r\n",
        "  \r\n",
        "# retrieving data from file. \r\n",
        "loaded_arr = gfg.loadtxt(\"geekfile.txt\") \r\n",
        "  \r\n",
        "# This loadedArr is a 2D array, therefore \r\n",
        "# we need to convert it to the original \r\n",
        "# array shape.reshaping to get original \r\n",
        "# matrice with original shape. \r\n",
        "load_original_arr = loaded_arr.reshape( \r\n",
        "    loaded_arr.shape[0], loaded_arr.shape[1] // arr.shape[2], arr.shape[2]) \r\n",
        "  \r\n",
        "# check the shapes: \r\n",
        "print(\"shape of arr: \", arr.shape) \r\n",
        "print(\"shape of load_original_arr: \", load_original_arr.shape) \r\n",
        "  \r\n",
        "# check if both arrays are same or not: \r\n",
        "if (load_original_arr == arr).all(): \r\n",
        "    print(\"Yes, both the arrays are same\") \r\n",
        "else: \r\n",
        "    print(\"No, both the arrays are not same\") \r\n",
        "print(arr)"
      ],
      "execution_count": 44,
      "outputs": [
        {
          "output_type": "stream",
          "text": [
            "[[[5.59641680e-01 1.04741309e-01 5.75835964e-01]\n",
            "  [6.75527359e-02 9.07020079e-01 1.10047396e-01]\n",
            "  [7.08386749e-01 6.54379386e-01 6.31913811e-01]\n",
            "  [5.78172162e-01 7.41043085e-01 1.54197191e-01]]\n",
            "\n",
            " [[7.50579679e-01 9.51992200e-01 2.31803001e-01]\n",
            "  [9.27358813e-01 7.51183852e-04 4.24454992e-01]\n",
            "  [4.91737210e-01 8.05436766e-01 6.32693588e-01]\n",
            "  [7.30339310e-01 8.15897248e-01 2.99986753e-01]]\n",
            "\n",
            " [[9.64990760e-01 4.24508620e-01 4.90063285e-04]\n",
            "  [6.34545566e-01 1.39352145e-01 1.04035814e-01]\n",
            "  [9.05295986e-01 2.02714770e-01 3.70547705e-01]\n",
            "  [3.61573961e-01 9.65699508e-01 1.14306991e-01]]\n",
            "\n",
            " [[7.61130947e-01 8.07126092e-01 5.21232029e-01]\n",
            "  [2.59380502e-01 4.16580988e-01 3.18499792e-01]\n",
            "  [1.02119345e-01 4.31205357e-01 3.26473537e-01]\n",
            "  [5.57022271e-02 3.54290176e-01 3.32199272e-01]]\n",
            "\n",
            " [[8.42373717e-01 8.20657628e-01 7.17607558e-01]\n",
            "  [8.70116409e-01 5.97393794e-01 1.70498046e-01]\n",
            "  [2.71352235e-01 9.13199151e-01 4.67510070e-02]\n",
            "  [1.21580420e-02 9.99296114e-02 7.81023774e-01]]]\n",
            "shape of arr:  (5, 4, 3)\n",
            "shape of load_original_arr:  (5, 4, 3)\n",
            "Yes, both the arrays are same\n",
            "[[[5.59641680e-01 1.04741309e-01 5.75835964e-01]\n",
            "  [6.75527359e-02 9.07020079e-01 1.10047396e-01]\n",
            "  [7.08386749e-01 6.54379386e-01 6.31913811e-01]\n",
            "  [5.78172162e-01 7.41043085e-01 1.54197191e-01]]\n",
            "\n",
            " [[7.50579679e-01 9.51992200e-01 2.31803001e-01]\n",
            "  [9.27358813e-01 7.51183852e-04 4.24454992e-01]\n",
            "  [4.91737210e-01 8.05436766e-01 6.32693588e-01]\n",
            "  [7.30339310e-01 8.15897248e-01 2.99986753e-01]]\n",
            "\n",
            " [[9.64990760e-01 4.24508620e-01 4.90063285e-04]\n",
            "  [6.34545566e-01 1.39352145e-01 1.04035814e-01]\n",
            "  [9.05295986e-01 2.02714770e-01 3.70547705e-01]\n",
            "  [3.61573961e-01 9.65699508e-01 1.14306991e-01]]\n",
            "\n",
            " [[7.61130947e-01 8.07126092e-01 5.21232029e-01]\n",
            "  [2.59380502e-01 4.16580988e-01 3.18499792e-01]\n",
            "  [1.02119345e-01 4.31205357e-01 3.26473537e-01]\n",
            "  [5.57022271e-02 3.54290176e-01 3.32199272e-01]]\n",
            "\n",
            " [[8.42373717e-01 8.20657628e-01 7.17607558e-01]\n",
            "  [8.70116409e-01 5.97393794e-01 1.70498046e-01]\n",
            "  [2.71352235e-01 9.13199151e-01 4.67510070e-02]\n",
            "  [1.21580420e-02 9.99296114e-02 7.81023774e-01]]]\n"
          ],
          "name": "stdout"
        }
      ]
    }
  ]
}