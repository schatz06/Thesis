{
  "nbformat": 4,
  "nbformat_minor": 0,
  "metadata": {
    "colab": {
      "name": "embeddings.ipynb",
      "provenance": [],
      "authorship_tag": "ABX9TyMB22xPSlIAFL8VJCGQF+ll",
      "include_colab_link": true
    },
    "kernelspec": {
      "name": "python3",
      "display_name": "Python 3"
    }
  },
  "cells": [
    {
      "cell_type": "markdown",
      "metadata": {
        "id": "view-in-github",
        "colab_type": "text"
      },
      "source": [
        "<a href=\"https://colab.research.google.com/github/schatz06/Thesis/blob/Bio_embeddings/embeddings.ipynb\" target=\"_parent\"><img src=\"https://colab.research.google.com/assets/colab-badge.svg\" alt=\"Open In Colab\"/></a>"
      ]
    },
    {
      "cell_type": "markdown",
      "metadata": {
        "id": "dwnf8kBEOYHE"
      },
      "source": [
        "Install and import embedders"
      ]
    },
    {
      "cell_type": "code",
      "metadata": {
        "id": "E6Ry_SW0M-aC"
      },
      "source": [
        "pip install bio-embeddings[all]"
      ],
      "execution_count": null,
      "outputs": []
    },
    {
      "cell_type": "code",
      "metadata": {
        "id": "COBr5MGOVOEF"
      },
      "source": [
        "from bio_embeddings.embed import seqvec_embedder , prottrans_bert_bfd_embedder"
      ],
      "execution_count": null,
      "outputs": []
    },
    {
      "cell_type": "code",
      "metadata": {
        "id": "D3GO_4_jX25S"
      },
      "source": [
        "embedder_seqvec = seqvec_embedder.SeqVecEmbedder()\n",
        "embedder_protbert= prottrans_bert_bfd_embedder.ProtTransBertBFDEmbedder()"
      ],
      "execution_count": 52,
      "outputs": []
    },
    {
      "cell_type": "markdown",
      "metadata": {
        "id": "8XLwIb_OAAqy"
      },
      "source": [
        "Import packages"
      ]
    },
    {
      "cell_type": "code",
      "metadata": {
        "id": "PR2swxTrFzOV"
      },
      "source": [
        "import numpy as np"
      ],
      "execution_count": null,
      "outputs": []
    },
    {
      "cell_type": "markdown",
      "metadata": {
        "id": "3jtHVJz7ADlI"
      },
      "source": [
        "Open files/ Create pointers"
      ]
    },
    {
      "cell_type": "code",
      "metadata": {
        "id": "QHwehH3IAFfb"
      },
      "source": [
        "casp = open(\"CASP13_sorted.txt\",\"r\")\r\n",
        "cb513 = open(\"CB513_sorted.txt\",\"r\")\r\n",
        "pisces = open(\"PISCES_sorted.txt\",\"r\")"
      ],
      "execution_count": 53,
      "outputs": []
    },
    {
      "cell_type": "markdown",
      "metadata": {
        "id": "wxQYbISPAJWQ"
      },
      "source": [
        "Read lines"
      ]
    },
    {
      "cell_type": "code",
      "metadata": {
        "id": "axyHzrEkAKZV"
      },
      "source": [
        "casp_lines = casp.readlines()\r\n",
        "cb513_lines = cb513.readlines()\r\n",
        "pisces_lines = pisces.readlines()"
      ],
      "execution_count": 54,
      "outputs": []
    },
    {
      "cell_type": "markdown",
      "metadata": {
        "id": "9-WNvAwfAhOP"
      },
      "source": [
        "Extract SeqVec and ProtBert embeddings for CASP13"
      ]
    },
    {
      "cell_type": "code",
      "metadata": {
        "colab": {
          "base_uri": "https://localhost:8080/",
          "height": 345
        },
        "id": "h5xB0xcoAluZ",
        "outputId": "10195a9a-06f0-40da-d4a3-4f04e018af1d"
      },
      "source": [
        "casp_seqvec = open(\"CASP13_SeqVec.txt\",\"w\")\r\n",
        "casp_protbert = open(\"CASP13_ProtBERT.txt\",\"w\")\r\n",
        "casp_count = 1 # current line\r\n",
        "target_name = 1 # target line that has the name of the protein \r\n",
        "target_primary = 2 # target line that has the primary structure \r\n",
        "for casp_line in casp_lines:\r\n",
        "  if casp_count == target_name:\r\n",
        "    casp_seqvec.write(casp_line)\r\n",
        "    casp_protbert.write(casp_line)\r\n",
        "    target_name +=3\r\n",
        "  if casp_count == target_primary:\r\n",
        "    casp_line = casp_line.replace(\"\\n\",\"\") # remove the newline character in the end of the string \r\n",
        "    embedding_seqvec = embedder_one.embed(casp_line)\r\n",
        "    embedding_protbert = embedder_two.embed(casp_line)\r\n",
        "    casp_seqvec.write(embedding_seqvec)\r\n",
        "    casp_protbert.write(embedding_protbert)\r\n",
        "    target_primary +=3\r\n",
        "  casp_count+=1\r\n",
        "casp_seqvec.close()\r\n",
        "casp_protbert.close()"
      ],
      "execution_count": 55,
      "outputs": [
        {
          "output_type": "stream",
          "text": [
            "/usr/local/lib/python3.6/dist-packages/transformers/tokenization_utils_base.py:2022: FutureWarning:\n",
            "\n",
            "The `pad_to_max_length` argument is deprecated and will be removed in a future version, use `padding=True` or `padding='longest'` to pad to the longest sequence in the batch, or use `padding='max_length'` to pad to a max length. In this case, you can give a specific length with `max_length` (e.g. `max_length=45`) or leave max_length to None to pad to the maximal input size of the model (e.g. 512 for Bert).\n",
            "\n"
          ],
          "name": "stderr"
        },
        {
          "output_type": "error",
          "ename": "TypeError",
          "evalue": "ignored",
          "traceback": [
            "\u001b[0;31m---------------------------------------------------------------------------\u001b[0m",
            "\u001b[0;31mTypeError\u001b[0m                                 Traceback (most recent call last)",
            "\u001b[0;32m<ipython-input-55-728a95e2f9a5>\u001b[0m in \u001b[0;36m<module>\u001b[0;34m()\u001b[0m\n\u001b[1;32m     13\u001b[0m     \u001b[0membedding_seqvec\u001b[0m \u001b[0;34m=\u001b[0m \u001b[0membedder_one\u001b[0m\u001b[0;34m.\u001b[0m\u001b[0membed\u001b[0m\u001b[0;34m(\u001b[0m\u001b[0mcasp_line\u001b[0m\u001b[0;34m)\u001b[0m\u001b[0;34m\u001b[0m\u001b[0;34m\u001b[0m\u001b[0m\n\u001b[1;32m     14\u001b[0m     \u001b[0membedding_protbert\u001b[0m \u001b[0;34m=\u001b[0m \u001b[0membedder_two\u001b[0m\u001b[0;34m.\u001b[0m\u001b[0membed\u001b[0m\u001b[0;34m(\u001b[0m\u001b[0mcasp_line\u001b[0m\u001b[0;34m)\u001b[0m\u001b[0;34m\u001b[0m\u001b[0;34m\u001b[0m\u001b[0m\n\u001b[0;32m---> 15\u001b[0;31m     \u001b[0mcasp_seqvec\u001b[0m\u001b[0;34m.\u001b[0m\u001b[0mwrite\u001b[0m\u001b[0;34m(\u001b[0m\u001b[0membedding_seqvec\u001b[0m\u001b[0;34m)\u001b[0m\u001b[0;34m\u001b[0m\u001b[0;34m\u001b[0m\u001b[0m\n\u001b[0m\u001b[1;32m     16\u001b[0m     \u001b[0mcasp_protbert\u001b[0m\u001b[0;34m.\u001b[0m\u001b[0mwrite\u001b[0m\u001b[0;34m(\u001b[0m\u001b[0membedding_protbert\u001b[0m\u001b[0;34m)\u001b[0m\u001b[0;34m\u001b[0m\u001b[0;34m\u001b[0m\u001b[0m\n\u001b[1;32m     17\u001b[0m     \u001b[0mtarget_primary\u001b[0m \u001b[0;34m+=\u001b[0m\u001b[0;36m3\u001b[0m\u001b[0;34m\u001b[0m\u001b[0;34m\u001b[0m\u001b[0m\n",
            "\u001b[0;31mTypeError\u001b[0m: write() argument must be str, not numpy.ndarray"
          ]
        }
      ]
    },
    {
      "cell_type": "markdown",
      "metadata": {
        "id": "KskDddPCAmDT"
      },
      "source": [
        "Extract SeqVec and ProtBert embeddings for CB513\r\n",
        "\r\n",
        "\r\n"
      ]
    },
    {
      "cell_type": "code",
      "metadata": {
        "id": "8IQHN3BeAp63"
      },
      "source": [
        "cb513_seqvec = open(\"CB513_SeqVec.txt\",\"w\")\r\n",
        "cb513_protbert = open(\"CB513_ProtBERT.txt\",\"w\")\r\n",
        "cb513_count = 1 # current line\r\n",
        "target_name = 1 # target line that has the name of the protein \r\n",
        "target_primary = 2 # target line that has the primary structure \r\n",
        "for cb513_line in cb513_lines:\r\n",
        "  if cb513_count == target_name:\r\n",
        "    cb513_seqvec.write(cb513_line)\r\n",
        "    cb513_protbert.write(cb513_line)\r\n",
        "    target_name +=3\r\n",
        "  if cb513_count == target_primary:\r\n",
        "    cb513_line = cb513_line.replace(\"\\n\",\"\") # remove the newline character in the end of the string \r\n",
        "    embedding_seqvec = embedder_one.embed(cb513_line)\r\n",
        "    embedding_protbert = embedder_two.embed(cb513_line)\r\n",
        "    cb513_seqvec.write(embedding_seqvec)\r\n",
        "    cb513_protbert.write(embedding_protbert)\r\n",
        "    target_primary +=3\r\n",
        "  cb513_count+=1\r\n",
        "cb513_seqvec.close()\r\n",
        "cb513_protbert.close()"
      ],
      "execution_count": 50,
      "outputs": []
    },
    {
      "cell_type": "markdown",
      "metadata": {
        "id": "F6qwv-OUAqa8"
      },
      "source": [
        "Extract SeqVec and ProtBert embeddings for PISCES"
      ]
    },
    {
      "cell_type": "code",
      "metadata": {
        "id": "DSbCx94GAz0w"
      },
      "source": [
        "pisces_seqvec = open(\"PISCES_SeqVec.txt\",\"w\")\r\n",
        "pisces_protbert = open(\"PISCES_ProtBERT.txt\",\"w\")\r\n",
        "pisces_count = 1 # current line\r\n",
        "target_name = 1 # target line that has the name of the protein \r\n",
        "target_primary = 2 # target line that has the primary structure \r\n",
        "for pisces_line in pisces_lines:\r\n",
        "  if pisces_count == target_name:\r\n",
        "    pisces_seqvec.write(pisces_line)\r\n",
        "    pisces_protbert.write(pisces_line)\r\n",
        "    target_name +=3\r\n",
        "  if pisces_count == target_primary:\r\n",
        "    pisces_line = pisces_line.replace(\"\\n\",\"\") # remove the newline character in the end of the string \r\n",
        "    embedding_seqvec = embedder_one.embed(pisces_line)\r\n",
        "    embedding_protbert = embedder_two.embed(pisces_line)\r\n",
        "    pisces_seqvec.write(embedding_seqvec)\r\n",
        "    pisce_protbert.write(embedding_protbert)\r\n",
        "    target_primary +=3\r\n",
        "  pisces_count+=1\r\n",
        "pisces_seqvec.close()\r\n",
        "pisces_protbert.close()"
      ],
      "execution_count": 51,
      "outputs": []
    },
    {
      "cell_type": "markdown",
      "metadata": {
        "id": "z-4fZLy1OQf6"
      },
      "source": [
        "Print embedding shapes"
      ]
    },
    {
      "cell_type": "code",
      "metadata": {
        "id": "l2fvsS2EYpsM"
      },
      "source": [
        "print(embedding_one.shape)\n",
        "print(embedding_two.shape)"
      ],
      "execution_count": null,
      "outputs": []
    },
    {
      "cell_type": "markdown",
      "metadata": {
        "id": "PY2Sa_PzMoHB"
      },
      "source": [
        "Padding for prot bert embedder "
      ]
    },
    {
      "cell_type": "code",
      "metadata": {
        "id": "JfujKoiZJWxE"
      },
      "source": [
        "print(embedding_two.shape)\r\n",
        "max_sequence = 1024\r\n",
        "padding = max_sequence - embedding_two.shape[0]\r\n",
        "embedding_two = np.pad(embedding_two,((padding,0),(0,0)),mode='constant',constant_values = 0)\r\n",
        "print(embedding_two.shape)"
      ],
      "execution_count": null,
      "outputs": []
    },
    {
      "cell_type": "markdown",
      "metadata": {
        "id": "3sw9f8vcMs5L"
      },
      "source": [
        "Padding for seqVec embedder "
      ]
    },
    {
      "cell_type": "code",
      "metadata": {
        "id": "0xMGeBMaMvoH"
      },
      "source": [
        "print(embedding_one.shape)\r\n",
        "max_sequence = 1024\r\n",
        "padding = max_sequence - embedding_one.shape[1]\r\n",
        "embedding_one = np.pad(embedding_one,((0,0),(padding,0),(0,0)),mode='constant',constant_values = 0)\r\n",
        "print(embedding_one.shape)"
      ],
      "execution_count": null,
      "outputs": []
    }
  ]
}