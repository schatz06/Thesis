{
  "nbformat": 4,
  "nbformat_minor": 0,
  "metadata": {
    "colab": {
      "name": "embeddings.ipynb",
      "provenance": [],
      "authorship_tag": "ABX9TyN6E3LSPjAuYQsJgrqnGA+q",
      "include_colab_link": true
    },
    "kernelspec": {
      "name": "python3",
      "display_name": "Python 3"
    }
  },
  "cells": [
    {
      "cell_type": "markdown",
      "metadata": {
        "id": "view-in-github",
        "colab_type": "text"
      },
      "source": [
        "<a href=\"https://colab.research.google.com/github/schatz06/Thesis/blob/Bio_embeddings/embeddings.ipynb\" target=\"_parent\"><img src=\"https://colab.research.google.com/assets/colab-badge.svg\" alt=\"Open In Colab\"/></a>"
      ]
    },
    {
      "cell_type": "markdown",
      "metadata": {
        "id": "dwnf8kBEOYHE"
      },
      "source": [
        "Install and import embedders"
      ]
    },
    {
      "cell_type": "code",
      "metadata": {
        "id": "E6Ry_SW0M-aC"
      },
      "source": [
        "pip install bio-embeddings[all]"
      ],
      "execution_count": null,
      "outputs": []
    },
    {
      "cell_type": "code",
      "metadata": {
        "id": "COBr5MGOVOEF"
      },
      "source": [
        "from bio_embeddings.embed import seqvec_embedder , prottrans_bert_bfd_embedder"
      ],
      "execution_count": null,
      "outputs": []
    },
    {
      "cell_type": "code",
      "metadata": {
        "id": "D3GO_4_jX25S"
      },
      "source": [
        "embedder_seqvec = seqvec_embedder.SeqVecEmbedder()\n",
        "embedder_protbert= prottrans_bert_bfd_embedder.ProtTransBertBFDEmbedder()\n",
        "max_seq = 1538 # larget sequences in the datasets"
      ],
      "execution_count": 12,
      "outputs": []
    },
    {
      "cell_type": "markdown",
      "metadata": {
        "id": "8XLwIb_OAAqy"
      },
      "source": [
        "Import packages"
      ]
    },
    {
      "cell_type": "code",
      "metadata": {
        "id": "PR2swxTrFzOV"
      },
      "source": [
        "import numpy as np\r\n",
        "from numpy import asarray\r\n",
        "from numpy import savez_compressed\r\n",
        "import os"
      ],
      "execution_count": 5,
      "outputs": []
    },
    {
      "cell_type": "markdown",
      "metadata": {
        "id": "zmV6rmpb1-5o"
      },
      "source": [
        "Generic method to extract ProtBert Embeddings"
      ]
    },
    {
      "cell_type": "code",
      "metadata": {
        "id": "U6CMWpS32DaM"
      },
      "source": [
        "def extract_protBert(max_seq,lines,path,embedder_protbert):\r\n",
        "  max_sequence = max_seq\r\n",
        "  count = 1 # current line\r\n",
        "  target_name = 1 # target line that has the name of the protein \r\n",
        "  target_primary = 2 # target line that has the primary structure \r\n",
        "  for line in lines:\r\n",
        "    print(count)\r\n",
        "    if count == target_name:\r\n",
        "      line = line.replace(\"\\n\",\"\") # remove the newline character in the end of the string\r\n",
        "      line = line.replace(\" \",\"\")\r\n",
        "      line = line.replace(\">\",\"\") \r\n",
        "      path_to_save = path + '/' + line\r\n",
        "      target_name +=3\r\n",
        "    if count == target_primary:\r\n",
        "      line = line.replace(\"\\n\",\"\") # remove the newline character in the end of the string \r\n",
        "      embedding_protbert = embedder_protbert.embed(line) # extract the embeddings \r\n",
        "      padding = max_sequence - embedding_protbert.shape[0]\r\n",
        "      embedding_protbert = np.pad(embedding_protbert,((0,padding),(0,0)),mode='constant',constant_values = 0) # apply zero padding at the end \r\n",
        "      savez_compressed(path_to_save,embedding_protbert) # save the embedding in a new txt in a directory \r\n",
        "      target_primary +=3\r\n",
        "    count+=1"
      ],
      "execution_count": 2,
      "outputs": []
    },
    {
      "cell_type": "markdown",
      "metadata": {
        "id": "Ib0MLqhK2DuP"
      },
      "source": [
        "Generic method to extract SeqVec Embeddings "
      ]
    },
    {
      "cell_type": "code",
      "metadata": {
        "id": "R1bYDEb-2Hj-"
      },
      "source": [
        "def extract_seqVec(max_seq,lines,path,embedder_seqvec):\r\n",
        "  max_sequence = max_seq \r\n",
        "  count = 1 # current line\r\n",
        "  target_name = 1 # target line that has the name of the protein \r\n",
        "  target_primary = 2 # target line that has the primary structure \r\n",
        "  for line in lines:\r\n",
        "    print(count)\r\n",
        "    if count == target_name:\r\n",
        "      line = line.replace(\"\\n\",\"\") # remove the newline character in the end of the string\r\n",
        "      line = line.replace(\" \",\"\")\r\n",
        "      line = line.replace(\">\",\"\")\r\n",
        "      path_to_save = path + '/' + line\r\n",
        "      target_name +=3\r\n",
        "    if count == target_primary:\r\n",
        "      line = line.replace(\"\\n\",\"\") # remove the newline character in the end of the string \r\n",
        "      embedding_seqvec = embedder_seqvec.embed(line) # extract the embeddings \r\n",
        "      padding = max_sequence - embedding_seqvec.shape[1]\r\n",
        "      embedding_seqvec = np.pad(embedding_seqvec,((0,0),(0,padding),(0,0)),mode='constant',constant_values = 0) # apply zero padding at the end \r\n",
        "      embedding_seqvec = embedding_seqvec.reshape(embedding_seqvec.shape[0], -1) # convert 3d matrix to 2d matrix in order to be able to save it \r\n",
        "      savez_compressed(path_to_save,embedding_seqvec) # save the embedding in a new txt in a directory \r\n",
        "      target_primary +=3\r\n",
        "    count+=1"
      ],
      "execution_count": 1,
      "outputs": []
    },
    {
      "cell_type": "markdown",
      "metadata": {
        "id": "DPuecTRJsq96"
      },
      "source": [
        "Create new directories to save the embeddings "
      ]
    },
    {
      "cell_type": "code",
      "metadata": {
        "id": "MIyWGcCm8Irj"
      },
      "source": [
        "!rm -rf PISCES_ProtBert"
      ],
      "execution_count": 3,
      "outputs": []
    },
    {
      "cell_type": "code",
      "metadata": {
        "id": "FlAXJI5_stzq",
        "colab": {
          "base_uri": "https://localhost:8080/",
          "height": 246
        },
        "outputId": "c6771c1a-7897-466e-9a30-13e48b578512"
      },
      "source": [
        "path = os.getcwd() # get the current directory\r\n",
        "path_CASP_protBert = path + '/CASP13_ProtBert' \r\n",
        "path_CASP_seqVec = path + '/CASP13_SeqVec' \r\n",
        "path_CB513_protBert = path + '/CB513_ProtBert' \r\n",
        "path_CB513_seqVec = path + '/CB513_SeqVec' \r\n",
        "path_PISCES_protBert = path + '/PISCES_ProtBert' \r\n",
        "path_PISCES_seqVec = path + '/PISCES_SeqVec'\r\n",
        "os.mkdir(path_PISCES_protBert)\r\n",
        "os.mkdir(path_CASP_seqVec)\r\n",
        "os.mkdir(path_CASP_protBert)\r\n",
        "os.mkdir(path_CB513_protBert)\r\n",
        "os.mkdir(path_CB513_seqVec)\r\n",
        "os.mkdir(path_PISCES_seqVec)"
      ],
      "execution_count": 6,
      "outputs": [
        {
          "output_type": "error",
          "ename": "FileExistsError",
          "evalue": "ignored",
          "traceback": [
            "\u001b[0;31m---------------------------------------------------------------------------\u001b[0m",
            "\u001b[0;31mFileExistsError\u001b[0m                           Traceback (most recent call last)",
            "\u001b[0;32m<ipython-input-6-7e323abf317f>\u001b[0m in \u001b[0;36m<module>\u001b[0;34m()\u001b[0m\n\u001b[1;32m      7\u001b[0m \u001b[0mpath_PISCES_seqVec\u001b[0m \u001b[0;34m=\u001b[0m \u001b[0mpath\u001b[0m \u001b[0;34m+\u001b[0m \u001b[0;34m'/PISCES_SeqVec'\u001b[0m\u001b[0;34m\u001b[0m\u001b[0;34m\u001b[0m\u001b[0m\n\u001b[1;32m      8\u001b[0m \u001b[0mos\u001b[0m\u001b[0;34m.\u001b[0m\u001b[0mmkdir\u001b[0m\u001b[0;34m(\u001b[0m\u001b[0mpath_PISCES_protBert\u001b[0m\u001b[0;34m)\u001b[0m\u001b[0;34m\u001b[0m\u001b[0;34m\u001b[0m\u001b[0m\n\u001b[0;32m----> 9\u001b[0;31m \u001b[0mos\u001b[0m\u001b[0;34m.\u001b[0m\u001b[0mmkdir\u001b[0m\u001b[0;34m(\u001b[0m\u001b[0mpath_CASP_seqVec\u001b[0m\u001b[0;34m)\u001b[0m\u001b[0;34m\u001b[0m\u001b[0;34m\u001b[0m\u001b[0m\n\u001b[0m\u001b[1;32m     10\u001b[0m \u001b[0mos\u001b[0m\u001b[0;34m.\u001b[0m\u001b[0mmkdir\u001b[0m\u001b[0;34m(\u001b[0m\u001b[0mpath_CASP_protBert\u001b[0m\u001b[0;34m)\u001b[0m\u001b[0;34m\u001b[0m\u001b[0;34m\u001b[0m\u001b[0m\n\u001b[1;32m     11\u001b[0m \u001b[0mos\u001b[0m\u001b[0;34m.\u001b[0m\u001b[0mmkdir\u001b[0m\u001b[0;34m(\u001b[0m\u001b[0mpath_CB513_protBert\u001b[0m\u001b[0;34m)\u001b[0m\u001b[0;34m\u001b[0m\u001b[0;34m\u001b[0m\u001b[0m\n",
            "\u001b[0;31mFileExistsError\u001b[0m: [Errno 17] File exists: '/content/CASP13_SeqVec'"
          ]
        }
      ]
    },
    {
      "cell_type": "markdown",
      "metadata": {
        "id": "3jtHVJz7ADlI"
      },
      "source": [
        "Open files/ Create pointers"
      ]
    },
    {
      "cell_type": "code",
      "metadata": {
        "id": "QHwehH3IAFfb"
      },
      "source": [
        "casp = open(\"CASP13_3class.txt\",\"r\")\r\n",
        "cb513 = open(\"CB513_3class.txt\",\"r\")\r\n",
        "pisces = open(\"PISCES_3class.txt\",\"r\")"
      ],
      "execution_count": 7,
      "outputs": []
    },
    {
      "cell_type": "markdown",
      "metadata": {
        "id": "wxQYbISPAJWQ"
      },
      "source": [
        "Read lines"
      ]
    },
    {
      "cell_type": "code",
      "metadata": {
        "id": "axyHzrEkAKZV"
      },
      "source": [
        "casp_lines = casp.readlines()\r\n",
        "cb513_lines = cb513.readlines()\r\n",
        "pisces_lines = pisces.readlines()"
      ],
      "execution_count": 8,
      "outputs": []
    },
    {
      "cell_type": "markdown",
      "metadata": {
        "id": "9-WNvAwfAhOP"
      },
      "source": [
        "Extract SeqVec and ProtBert embeddings for CASP13"
      ]
    },
    {
      "cell_type": "code",
      "metadata": {
        "id": "h5xB0xcoAluZ",
        "colab": {
          "base_uri": "https://localhost:8080/"
        },
        "outputId": "d43ad2f8-412f-4770-c891-32755607f86d"
      },
      "source": [
        "extract_protBert(max_seq,casp_lines,path_CASP_protBert,embedder_protbert)"
      ],
      "execution_count": 31,
      "outputs": [
        {
          "output_type": "stream",
          "text": [
            "/usr/local/lib/python3.6/dist-packages/transformers/tokenization_utils_base.py:2022: FutureWarning:\n",
            "\n",
            "The `pad_to_max_length` argument is deprecated and will be removed in a future version, use `padding=True` or `padding='longest'` to pad to the longest sequence in the batch, or use `padding='max_length'` to pad to a max length. In this case, you can give a specific length with `max_length` (e.g. `max_length=45`) or leave max_length to None to pad to the maximal input size of the model (e.g. 512 for Bert).\n",
            "\n"
          ],
          "name": "stderr"
        }
      ]
    },
    {
      "cell_type": "code",
      "metadata": {
        "id": "cPOBMLYf87te"
      },
      "source": [
        "extract_seqVec(max_seq,casp_lines,path_CASP_seqVec,embedder_seqvec)"
      ],
      "execution_count": 37,
      "outputs": []
    },
    {
      "cell_type": "markdown",
      "metadata": {
        "id": "KskDddPCAmDT"
      },
      "source": [
        "Extract SeqVec and ProtBert embeddings for CB513\r\n",
        "\r\n",
        "\r\n"
      ]
    },
    {
      "cell_type": "code",
      "metadata": {
        "id": "8IQHN3BeAp63",
        "colab": {
          "base_uri": "https://localhost:8080/"
        },
        "outputId": "adb958dc-d600-4b00-b326-a044c2d03983"
      },
      "source": [
        "extract_protBert(max_seq,cb513_lines,path_CB513_protBert,embedder_protbert)"
      ],
      "execution_count": 39,
      "outputs": [
        {
          "output_type": "stream",
          "text": [
            "/usr/local/lib/python3.6/dist-packages/transformers/tokenization_utils_base.py:2022: FutureWarning:\n",
            "\n",
            "The `pad_to_max_length` argument is deprecated and will be removed in a future version, use `padding=True` or `padding='longest'` to pad to the longest sequence in the batch, or use `padding='max_length'` to pad to a max length. In this case, you can give a specific length with `max_length` (e.g. `max_length=45`) or leave max_length to None to pad to the maximal input size of the model (e.g. 512 for Bert).\n",
            "\n"
          ],
          "name": "stderr"
        }
      ]
    },
    {
      "cell_type": "code",
      "metadata": {
        "id": "_7SSedMJ9Axj"
      },
      "source": [
        "extract_seqVec(max_seq,cb513_lines,path_CB513_seqVec,embedder_seqvec)"
      ],
      "execution_count": 40,
      "outputs": []
    },
    {
      "cell_type": "markdown",
      "metadata": {
        "id": "F6qwv-OUAqa8"
      },
      "source": [
        "Extract SeqVec and ProtBert embeddings for PISCES"
      ]
    },
    {
      "cell_type": "code",
      "metadata": {
        "id": "DSbCx94GAz0w"
      },
      "source": [
        "extract_protBert(max_seq,pisces_lines,path_PISCES_protBert,embedder_protbert)"
      ],
      "execution_count": null,
      "outputs": []
    },
    {
      "cell_type": "code",
      "metadata": {
        "id": "aVQvqyMtpNnF"
      },
      "source": [
        "extract_seqVec(max_seq,pisces_lines,path_PISCES_seqVec,embedder_seqvec)"
      ],
      "execution_count": null,
      "outputs": []
    },
    {
      "cell_type": "markdown",
      "metadata": {
        "id": "E5uAc6pl50vT"
      },
      "source": [
        "How to load a numpy array"
      ]
    },
    {
      "cell_type": "code",
      "metadata": {
        "id": "kiMwCxq3qPgE"
      },
      "source": [
        "from numpy import loadtxt\r\n",
        "# load array\r\n",
        "data = loadtxt('/content/> 6btc_1_protBert.txt', delimiter=',')\r\n",
        "print(data.shape)\r\n",
        "#cdegr fbdthtb dfbetn bfng cv dnymh cv fdbdtjgum bv ftntymh dbf  fd kjvkbkbkbkbkbkbkbkbbkb 5555 - 11:16 bbbbbbbbbbbbbbbbbbbbbbbbbbbbbbbbbbb gbgbgbgbgbggbgbgbggbgbbggb 11:36 lllll\r\n",
        "#klklklklklklklklklklklklklklkl5555555 11:52 7895 jjjjjjjjjjjjjjjjjjj ggg tttgt btt ybtgrt ybgt  tbtrbty tybty yt ty y   fgg 12 11 12 25 fbhffghthbfghthfbhtfg thjtb"
      ],
      "execution_count": null,
      "outputs": []
    },
    {
      "cell_type": "markdown",
      "metadata": {
        "id": "ho0hovGL63Vj"
      },
      "source": [
        "Load a 2d array and convert it to a 3d array"
      ]
    },
    {
      "cell_type": "code",
      "metadata": {
        "id": "mIqLW_cK66vT"
      },
      "source": [
        "\r\n",
        "import numpy as gfg \r\n",
        "  \r\n",
        "  \r\n",
        "arr = gfg.random.rand(5, 4, 3) \r\n",
        "print(arr)  \r\n",
        "# reshaping the array from 3D \r\n",
        "# matrice to 2D matrice. \r\n",
        "arr_reshaped = arr.reshape(arr.shape[0], -1) \r\n",
        "  \r\n",
        "# saving reshaped array to file. \r\n",
        "gfg.savetxt(\"geekfile.txt\", arr_reshaped) \r\n",
        "  \r\n",
        "# retrieving data from file. \r\n",
        "loaded_arr = gfg.loadtxt(\"geekfile.txt\") \r\n",
        "  \r\n",
        "# This loadedArr is a 2D array, therefore \r\n",
        "# we need to convert it to the original \r\n",
        "# array shape.reshaping to get original \r\n",
        "# matrice with original shape. \r\n",
        "load_original_arr = loaded_arr.reshape( \r\n",
        "    loaded_arr.shape[0], loaded_arr.shape[1] // arr.shape[2], arr.shape[2]) \r\n",
        "  \r\n",
        "# check the shapes: \r\n",
        "print(\"shape of arr: \", arr.shape) \r\n",
        "print(\"shape of load_original_arr: \", load_original_arr.shape) \r\n",
        "  \r\n",
        "# check if both arrays are same or not: \r\n",
        "if (load_original_arr == arr).all(): \r\n",
        "    print(\"Yes, both the arrays are same\") \r\n",
        "else: \r\n",
        "    print(\"No, both the arrays are not same\") \r\n",
        "print(arr)"
      ],
      "execution_count": null,
      "outputs": []
    },
    {
      "cell_type": "markdown",
      "metadata": {
        "id": "ks7N4o4lLY9g"
      },
      "source": [
        "Zip folders"
      ]
    },
    {
      "cell_type": "code",
      "metadata": {
        "id": "R8DwKAzJLa_S"
      },
      "source": [
        "#!zip -r /content/CASP13_ProtBert.zip /content/CASP13_ProtBert\r\n",
        "#!zip -r /content/CASP13_SeqVec.zip /content/CASP13_SeqVec\r\n",
        "#!zip -r /content/CB513_ProtBert.zip /content/CB513_ProtBert\r\n",
        "#!zip -r /content/CB513_SeqVec.zip /content/CB513_SeqVec\r\n",
        "!zip -r /content/PISCES_ProtBert.zip /content/PISCES_ProtBert\r\n",
        "!zip -r /content/PISCES_SeqVec.zip /content/PISCES_SeqVec"
      ],
      "execution_count": null,
      "outputs": []
    }
  ]
}